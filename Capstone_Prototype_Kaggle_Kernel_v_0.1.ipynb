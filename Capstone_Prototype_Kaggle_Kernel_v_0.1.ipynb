{
  "nbformat": 4,
  "nbformat_minor": 0,
  "metadata": {
    "colab": {
      "name": "Capstone Prototype - Get Kaggle default kernel to work.ipynb",
      "provenance": [],
      "collapsed_sections": [],
      "machine_shape": "hm",
      "authorship_tag": "ABX9TyMxrG6YW1fxDvTQPq8x1QSH",
      "include_colab_link": true
    },
    "kernelspec": {
      "name": "python3",
      "display_name": "Python 3"
    },
    "accelerator": "GPU"
  },
  "cells": [
    {
      "cell_type": "markdown",
      "metadata": {
        "id": "view-in-github",
        "colab_type": "text"
      },
      "source": [
        "<a href=\"https://colab.research.google.com/github/Risuo/Springboard/blob/master/Capstone_Prototype_Kaggle_Kernel_v_0.1.ipynb\" target=\"_parent\"><img src=\"https://colab.research.google.com/assets/colab-badge.svg\" alt=\"Open In Colab\"/></a>"
      ]
    },
    {
      "cell_type": "code",
      "metadata": {
        "id": "S_W2R5nKPf8X",
        "colab_type": "code",
        "colab": {}
      },
      "source": [
        "#import numpy as np\n",
        "\n",
        "#test = np.ones((10000 * 1000000, 100))"
      ],
      "execution_count": 0,
      "outputs": []
    },
    {
      "cell_type": "code",
      "metadata": {
        "id": "kzGzOxt5jZ6t",
        "colab_type": "code",
        "outputId": "f0e3ac1f-e99f-4575-cd63-575fedd6b482",
        "colab": {
          "base_uri": "https://localhost:8080/",
          "height": 34
        }
      },
      "source": [
        "%whos"
      ],
      "execution_count": 0,
      "outputs": [
        {
          "output_type": "stream",
          "text": [
            "Interactive namespace is empty.\n"
          ],
          "name": "stdout"
        }
      ]
    },
    {
      "cell_type": "markdown",
      "metadata": {
        "id": "jpLCaEZXMFw8",
        "colab_type": "text"
      },
      "source": [
        "## We begin by getting some data and attempting to get some rudimentary interactions: \n",
        "1) view an image\n",
        "2) view data on an image\n",
        "3) import and modify a Kaggle-Grand-Master provided kernel to get it running\n",
        "4) tbd"
      ]
    },
    {
      "cell_type": "markdown",
      "metadata": {
        "id": "K3U2qgwrMFVs",
        "colab_type": "text"
      },
      "source": [
        "#View an image:\n",
        "## First step is to get our data loaded in a place where we won't have to download it again. Initially I attempted to utilize Kaggle's API, however, there were some fundamental issues that seemed to be too time-intensive to bother fixing (example: the Kaggle API requires a kaggle.json file located in a /.kaggle folder. The leading period doesn't play well with Colab's interaction with a mounted Google Drive, so instead I simply manually downloaded the data to my desktop, and imported it into my Google Drive. (This took about 2 hours, start to finish. Definitely won't be taking this route again without looking into alternatives first...)\n",
        "\n",
        "##"
      ]
    },
    {
      "cell_type": "markdown",
      "metadata": {
        "id": "rF10tKsCMa9W",
        "colab_type": "text"
      },
      "source": [
        "#Viewing an image was successful, so at the very least at this stage, the data is properly loaded. Next hurdle was to actually get the training step to successfully compile and run. \n",
        "## That took extensive troubleshooting and debugging, while also becoming familiar with the layout and function of all of the imported pre-written modules. \n",
        "## That being said, the training runs, and after dealing with memory issues, after being run for 250 epochs, we have metrics that implied things were doing pretty good (Jacard scores in the 70 percentiles).  However, we ran into issues in that after 117 the scores all dropped precipitously. This will have to be investigated in the future. \n",
        "## The next step was to work on getting the mask presentation (via polygon interpretation) to be properly reflected after training the model. \n",
        "\n",
        "## We're taking a slight detour here and moving away from the 16 band dataset, and jumping over to the 3 band (rgb) dataset first. If we can get this to work, we'll see about incorporating the 16 band dataset. This is based off of minor debugging within mask creation and the apparent mis-match between the mask data and the specific tiff images within the 16 band dataset. I suspect this rests in my ignorance of the details of the datasets, but given the age of this project on Kaggle, this seems like a wise next step. "
      ]
    },
    {
      "cell_type": "markdown",
      "metadata": {
        "id": "50VGGvdXMbDR",
        "colab_type": "text"
      },
      "source": [
        ""
      ]
    },
    {
      "cell_type": "markdown",
      "metadata": {
        "id": "zsHqquvzMbGE",
        "colab_type": "text"
      },
      "source": [
        ""
      ]
    },
    {
      "cell_type": "code",
      "metadata": {
        "id": "PwCu8AQjKSAz",
        "colab_type": "code",
        "outputId": "ca21ab88-825a-4d52-bea0-d548f8e69919",
        "colab": {
          "base_uri": "https://localhost:8080/",
          "height": 122
        }
      },
      "source": [
        "from google.colab import drive\n",
        "drive.mount('/content/drive')"
      ],
      "execution_count": 0,
      "outputs": [
        {
          "output_type": "stream",
          "text": [
            "Go to this URL in a browser: https://accounts.google.com/o/oauth2/auth?client_id=947318989803-6bn6qk8qdgf4n4g3pfee6491hc0brc4i.apps.googleusercontent.com&redirect_uri=urn%3aietf%3awg%3aoauth%3a2.0%3aoob&response_type=code&scope=email%20https%3a%2f%2fwww.googleapis.com%2fauth%2fdocs.test%20https%3a%2f%2fwww.googleapis.com%2fauth%2fdrive%20https%3a%2f%2fwww.googleapis.com%2fauth%2fdrive.photos.readonly%20https%3a%2f%2fwww.googleapis.com%2fauth%2fpeopleapi.readonly\n",
            "\n",
            "Enter your authorization code:\n",
            "··········\n",
            "Mounted at /content/drive\n"
          ],
          "name": "stdout"
        }
      ]
    },
    {
      "cell_type": "code",
      "metadata": {
        "id": "aWL5lb90TCr4",
        "colab_type": "code",
        "colab": {}
      },
      "source": [
        "\"\"\"\n",
        "The first step is to prototype using a ready-made kernel provided by Kaggle user n01z3, at this link:\n",
        "https://www.kaggle.com/drn01z3/end-to-end-baseline-with-u-net-keras\n",
        "The steps will be to break it down into more managable jupyter notebook segments for testing & debugging. \n",
        "\"\"\""
      ],
      "execution_count": 0,
      "outputs": []
    },
    {
      "cell_type": "code",
      "metadata": {
        "id": "jUXHDW09WVMO",
        "colab_type": "code",
        "outputId": "5bedc9ac-4c6b-4b12-ba9e-02ed63de15c5",
        "colab": {
          "base_uri": "https://localhost:8080/",
          "height": 68
        }
      },
      "source": [
        "!pip install tifffile"
      ],
      "execution_count": 0,
      "outputs": [
        {
          "output_type": "stream",
          "text": [
            "Requirement already satisfied: tifffile in /usr/local/lib/python3.6/dist-packages (2019.7.26.2)\n",
            "Requirement already satisfied: imagecodecs-lite>=2019.12.2; platform_system != \"Windows\" in /usr/local/lib/python3.6/dist-packages (from tifffile) (2019.12.3)\n",
            "Requirement already satisfied: numpy>=1.14.6 in /usr/local/lib/python3.6/dist-packages (from tifffile) (1.17.5)\n"
          ],
          "name": "stdout"
        }
      ]
    },
    {
      "cell_type": "code",
      "metadata": {
        "id": "5PakePQ2WBYO",
        "colab_type": "code",
        "outputId": "6d1464bb-226e-48f2-8e7b-7de985fad89f",
        "colab": {
          "base_uri": "https://localhost:8080/",
          "height": 51
        }
      },
      "source": [
        "from __future__ import absolute_import, division, print_function, unicode_literals\n",
        "try:\n",
        "  # %tensorflow_version only exists in Colab.\n",
        "  %tensorflow_version 2.x\n",
        "except Exception:\n",
        "  pass\n",
        "import tensorflow as tf\n",
        "\n",
        "\n",
        "tf.keras.backend.clear_session()\n",
        "print(tf.__version__)"
      ],
      "execution_count": 0,
      "outputs": [
        {
          "output_type": "stream",
          "text": [
            "TensorFlow 2.x selected.\n",
            "2.1.0-rc1\n"
          ],
          "name": "stdout"
        }
      ]
    },
    {
      "cell_type": "code",
      "metadata": {
        "id": "uSDWCg9dxb29",
        "colab_type": "code",
        "colab": {}
      },
      "source": [
        "tf.keras.backend.clear_session()"
      ],
      "execution_count": 0,
      "outputs": []
    },
    {
      "cell_type": "code",
      "metadata": {
        "id": "uHnGxZRkH0hK",
        "colab_type": "code",
        "outputId": "7ab2a352-69d3-44fb-cb09-995292cb5917",
        "colab": {
          "base_uri": "https://localhost:8080/",
          "height": 136
        }
      },
      "source": [
        "%whos"
      ],
      "execution_count": 0,
      "outputs": [
        {
          "output_type": "stream",
          "text": [
            "Variable           Type        Data/Info\n",
            "----------------------------------------\n",
            "absolute_import    _Feature    _Feature((2, 5, 0, 'alpha<...>0, 0, 'alpha', 0), 16384)\n",
            "division           _Feature    _Feature((2, 2, 0, 'alpha<...> 0, 0, 'alpha', 0), 8192)\n",
            "print_function     _Feature    _Feature((2, 6, 0, 'alpha<...>0, 0, 'alpha', 0), 65536)\n",
            "tf                 module      <module 'tensorflow' from<...>/tensorflow/__init__.py'>\n",
            "unicode_literals   _Feature    _Feature((2, 6, 0, 'alpha<...>, 0, 'alpha', 0), 131072)\n"
          ],
          "name": "stdout"
        }
      ]
    },
    {
      "cell_type": "code",
      "metadata": {
        "id": "OLXogboI1fLM",
        "colab_type": "code",
        "colab": {}
      },
      "source": [
        "import tifffile as tiff\n",
        "\n",
        "%ls '/content/drive/My Drive/Capstone/Kaggle/Kaggle Data/three_band'\n"
      ],
      "execution_count": 0,
      "outputs": []
    },
    {
      "cell_type": "code",
      "metadata": {
        "id": "ng2xM2YZ1hAR",
        "colab_type": "code",
        "colab": {}
      },
      "source": [
        "from collections import defaultdict\n",
        "import csv\n",
        "import sys\n",
        "\n",
        "import cv2\n",
        "from shapely.geometry import MultiPolygon, Polygon\n",
        "import shapely.wkt\n",
        "import shapely.affinity\n",
        "import numpy as np\n",
        "import tifffile as tiff\n",
        "\n",
        "csv.field_size_limit(sys.maxsize);"
      ],
      "execution_count": 0,
      "outputs": []
    },
    {
      "cell_type": "code",
      "metadata": {
        "id": "72qXcXP1x5fF",
        "colab_type": "code",
        "outputId": "423e644e-f93b-42df-807e-6fe1bf2435f2",
        "colab": {
          "base_uri": "https://localhost:8080/",
          "height": 34
        }
      },
      "source": [
        "#img_path = '/content/drive/My Drive/Capstone/Kaggle/Kaggle Data/three_band/6120_2_2.tif'\n",
        "img_path = '/content/drive/My Drive/Capstone/Kaggle/Kaggle Data/three_band/6110_0_1.tif'\n",
        "\n",
        "IM_ID = '6120_2_2'\n",
        "#IM_ID = '6120_2_2'\n",
        "POLY_TYPE = '1'  # buildings\n",
        "\n",
        "# Load grid size\n",
        "x_max = y_min = None\n",
        "for _im_id, _x, _y in csv.reader(open('/content/drive/My Drive/Capstone/Kaggle/Kaggle Data/grid_sizes.csv')):\n",
        "    if _im_id == IM_ID:\n",
        "        x_max, y_min = float(_x), float(_y)\n",
        "        print(x_max, y_min, 'here')\n",
        "        break\n",
        "\n",
        "# Load train poly with shapely\n",
        "train_polygons = None\n",
        "for _im_id, _poly_type, _poly in csv.reader(open('/content/drive/My Drive/Capstone/Kaggle/Kaggle Data/train_wkt_v4.csv')):\n",
        "    if _im_id == IM_ID and _poly_type == POLY_TYPE:\n",
        "        train_polygons = shapely.wkt.loads(_poly)\n",
        "        break\n",
        "\n",
        "# Read image with tiff\n",
        "im_rgb = tiff.imread('/content/drive/My Drive/Capstone/Kaggle/Kaggle Data/three_band/{}.tif'.format(IM_ID)).transpose([1, 2, 0])\n",
        "im_size = im_rgb.shape[:2]"
      ],
      "execution_count": 0,
      "outputs": [
        {
          "output_type": "stream",
          "text": [
            "0.009188 -0.00904 here\n"
          ],
          "name": "stdout"
        }
      ]
    },
    {
      "cell_type": "code",
      "metadata": {
        "id": "Piwl-RqBx53W",
        "colab_type": "code",
        "outputId": "31e83f6c-7f4f-4b85-ef73-3bd60b66a0e7",
        "colab": {
          "base_uri": "https://localhost:8080/",
          "height": 68
        }
      },
      "source": [
        "def get_scalers_testing():\n",
        "    h, w = im_size  # they are flipped so that mask_for_polygons works correctly\n",
        "    print(h, w)\n",
        "    w_ = w * (w / (w + 1))\n",
        "    print(w_)\n",
        "    h_ = h * (h / (h + 1))\n",
        "    print(h_)\n",
        "    return w_ / x_max, h_ / y_min\n",
        "\n",
        "x_scaler, y_scaler = get_scalers_testing()\n",
        "\n",
        "train_polygons_scaled = shapely.affinity.scale(\n",
        "    train_polygons, xfact=x_scaler, yfact=y_scaler, origin=(0, 0, 0))"
      ],
      "execution_count": 0,
      "outputs": [
        {
          "output_type": "stream",
          "text": [
            "3348 3403\n",
            "3402.000293772033\n",
            "3347.0002985965957\n"
          ],
          "name": "stdout"
        }
      ]
    },
    {
      "cell_type": "code",
      "metadata": {
        "id": "_2Sr9zjDx6N_",
        "colab_type": "code",
        "colab": {}
      },
      "source": [
        "def mask_for_polygons_testing(polygons):\n",
        "    img_mask = np.zeros(im_size, np.uint8)\n",
        "    if not polygons:\n",
        "        return img_mask\n",
        "    int_coords = lambda x: np.array(x).round().astype(np.int32)\n",
        "    exteriors = [int_coords(poly.exterior.coords) for poly in polygons]\n",
        "    interiors = [int_coords(pi.coords) for poly in polygons\n",
        "                 for pi in poly.interiors]\n",
        "    cv2.fillPoly(img_mask, exteriors, 1)\n",
        "    cv2.fillPoly(img_mask, interiors, 0)\n",
        "    return img_mask\n",
        "\n",
        "train_mask = mask_for_polygons_testing(train_polygons_scaled)"
      ],
      "execution_count": 0,
      "outputs": []
    },
    {
      "cell_type": "code",
      "metadata": {
        "id": "hEr28nR0x6V3",
        "colab_type": "code",
        "colab": {}
      },
      "source": [
        "def scale_percentile_testing(matrix):\n",
        "    w, h, d = matrix.shape\n",
        "    matrix = np.reshape(matrix, [w * h, d]).astype(np.float64)\n",
        "    # Get 2nd and 98th percentile\n",
        "    mins = np.percentile(matrix, 1, axis=0)\n",
        "    maxs = np.percentile(matrix, 99, axis=0) - mins\n",
        "    matrix = (matrix - mins[None, :]) / maxs[None, :]\n",
        "    matrix = np.reshape(matrix, [w, h, d])\n",
        "    matrix = matrix.clip(0, 1)\n",
        "    return matrix"
      ],
      "execution_count": 0,
      "outputs": []
    },
    {
      "cell_type": "code",
      "metadata": {
        "id": "hPLomlJhx6dy",
        "colab_type": "code",
        "colab": {}
      },
      "source": [
        "tiff.imshow(255 * scale_percentile(im_rgb[2900:3200,2000:2300]));"
      ],
      "execution_count": 0,
      "outputs": []
    },
    {
      "cell_type": "code",
      "metadata": {
        "id": "01sXliMqx6qE",
        "colab_type": "code",
        "colab": {}
      },
      "source": [
        "def show_mask_testing(m):\n",
        "    # hack for nice display\n",
        "    tiff.imshow(255 * np.stack([m, m, m]));\n",
        "show_mask_testing(train_mask)"
      ],
      "execution_count": 0,
      "outputs": []
    },
    {
      "cell_type": "code",
      "metadata": {
        "id": "kO98K2K21hHR",
        "colab_type": "code",
        "colab": {}
      },
      "source": [
        "\n",
        "P = tiff.imread('/content/drive/My Drive/Capstone/Kaggle/Kaggle Data/three_band/6120_2_2.tif') \n",
        "print(P.shape)\n",
        "tiff.imshow(P)"
      ],
      "execution_count": 0,
      "outputs": []
    },
    {
      "cell_type": "code",
      "metadata": {
        "id": "q8uvGW85j2Gn",
        "colab_type": "code",
        "outputId": "a97af162-9f8b-4889-9069-de5cfc724b94",
        "colab": {
          "base_uri": "https://localhost:8080/",
          "height": 34
        }
      },
      "source": [
        "__author__ = \"n01z3\" # Original author. Extensive editing has been done, at least, in bringing the code up to Tensorflow 2.x\n",
        "import matplotlib.pyplot as plt\n",
        "import numpy as np\n",
        "import cv2\n",
        "import pandas as pd\n",
        "from shapely.wkt import loads as wkt_loads\n",
        "import tifffile as tiff\n",
        "import os\n",
        "import random\n",
        "from keras import backend as K\n",
        "from sklearn.metrics import jaccard_similarity_score\n",
        "from shapely.geometry import MultiPolygon, Polygon\n",
        "from keras.callbacks import ModelCheckpoint\n",
        "import shapely.wkt\n",
        "import shapely.affinity\n",
        "from collections import defaultdict"
      ],
      "execution_count": 0,
      "outputs": [
        {
          "output_type": "stream",
          "text": [
            "Using TensorFlow backend.\n"
          ],
          "name": "stderr"
        }
      ]
    },
    {
      "cell_type": "code",
      "metadata": {
        "id": "N7I2gFu5ierF",
        "colab_type": "code",
        "colab": {}
      },
      "source": [
        "%whos"
      ],
      "execution_count": 0,
      "outputs": []
    },
    {
      "cell_type": "code",
      "metadata": {
        "id": "1ptntBr4WaTY",
        "colab_type": "code",
        "colab": {}
      },
      "source": [
        "N_Cls = 10\n",
        "inDir = '/content/drive/My Drive/Capstone/Kaggle/Kaggle Data'\n",
        "DF = pd.read_csv(inDir + '/train_wkt_v4.csv')\n",
        "GS = pd.read_csv(inDir + '/grid_sizes.csv', names=['ImageId', 'Xmax', 'Ymin'], skiprows=1)\n",
        "SB = pd.read_csv(os.path.join(inDir, 'sample_submission.csv'))\n",
        "ISZ = 160\n",
        "smooth = 1e-12"
      ],
      "execution_count": 0,
      "outputs": []
    },
    {
      "cell_type": "code",
      "metadata": {
        "id": "FRZX7fRXczlB",
        "colab_type": "code",
        "outputId": "7299f9e4-fe6c-4c16-e358-42bd8dc6fa63",
        "colab": {
          "base_uri": "https://localhost:8080/",
          "height": 68
        }
      },
      "source": [
        "print('Train_wkt_v4: The Well-Known-Text format of the training labels. Shape:', DF.shape)\n",
        "print('Grid_sizes: The size of grids for all of the images. Shape:', GS.shape)\n",
        "print('Sample_submission: Contains [[Image ID], [ClassType (int 1-10)], [Multipolygon WKT geometry]]. Shape:', SB.shape)"
      ],
      "execution_count": 0,
      "outputs": [
        {
          "output_type": "stream",
          "text": [
            "Train_wkt_v4: The Well-Known-Text format of the training labels. Shape: (250, 3)\n",
            "Grid_sizes: The size of grids for all of the images. Shape: (450, 3)\n",
            "Sample_submission: Contains [[Image ID], [ClassType (int 1-10)], [Multipolygon WKT geometry]]. Shape: (4290, 3)\n"
          ],
          "name": "stdout"
        }
      ]
    },
    {
      "cell_type": "code",
      "metadata": {
        "id": "8_RAxU5Hd3aw",
        "colab_type": "code",
        "outputId": "737913d3-2ae7-4042-8314-cda65f337106",
        "colab": {
          "base_uri": "https://localhost:8080/",
          "height": 255
        }
      },
      "source": [
        "DF.head # WKT format of training labels"
      ],
      "execution_count": 0,
      "outputs": [
        {
          "output_type": "execute_result",
          "data": {
            "text/plain": [
              "<bound method NDFrame.head of       ImageId  ClassType                                    MultipolygonWKT\n",
              "0    6040_2_2          1                                 MULTIPOLYGON EMPTY\n",
              "1    6040_2_2          2                                 MULTIPOLYGON EMPTY\n",
              "2    6040_2_2          3                                 MULTIPOLYGON EMPTY\n",
              "3    6040_2_2          4  MULTIPOLYGON (((0.003025 -0.007879000000000001...\n",
              "4    6040_2_2          5  MULTIPOLYGON (((0.005311 -0.009044999999999999...\n",
              "..        ...        ...                                                ...\n",
              "245  6100_2_2          6  MULTIPOLYGON (((0.006102 -0.009042, 0.00642 -0...\n",
              "246  6100_2_2          7  MULTIPOLYGON (((0.007887999999999999 -0.009042...\n",
              "247  6100_2_2          8  MULTIPOLYGON (((0.002119 -0.001417, 0.002132 -...\n",
              "248  6100_2_2          9  MULTIPOLYGON (((0.008021 -0.003252, 0.00803399...\n",
              "249  6100_2_2         10  MULTIPOLYGON (((0.003194 -0.0089, 0.003201 -0....\n",
              "\n",
              "[250 rows x 3 columns]>"
            ]
          },
          "metadata": {
            "tags": []
          },
          "execution_count": 11
        }
      ]
    },
    {
      "cell_type": "code",
      "metadata": {
        "id": "D2aCdt06d8v2",
        "colab_type": "code",
        "outputId": "92b51cfb-a061-4e8c-a8d0-87d6fb13948a",
        "colab": {
          "base_uri": "https://localhost:8080/",
          "height": 255
        }
      },
      "source": [
        "GS.head # The size of grids for all of the images"
      ],
      "execution_count": 0,
      "outputs": [
        {
          "output_type": "execute_result",
          "data": {
            "text/plain": [
              "<bound method NDFrame.head of       ImageId      Xmax      Ymin\n",
              "0    6120_2_4  0.009180 -0.009040\n",
              "1    6120_2_3  0.009169 -0.009040\n",
              "2    6120_2_2  0.009188 -0.009040\n",
              "3    6120_2_1  0.009188 -0.009040\n",
              "4    6120_2_0  0.009188 -0.009040\n",
              "..        ...       ...       ...\n",
              "445  6130_1_4  0.009169 -0.009040\n",
              "446  6130_1_3  0.009188 -0.009040\n",
              "447  6130_1_2  0.009150 -0.009042\n",
              "448  6130_1_1  0.009004 -0.009045\n",
              "449  6130_1_0  0.009188 -0.009040\n",
              "\n",
              "[450 rows x 3 columns]>"
            ]
          },
          "metadata": {
            "tags": []
          },
          "execution_count": 12
        }
      ]
    },
    {
      "cell_type": "code",
      "metadata": {
        "id": "0dmTiwUmd83V",
        "colab_type": "code",
        "outputId": "3e8c7efc-a7a8-4293-b221-1d4f1937fbc8",
        "colab": {
          "base_uri": "https://localhost:8080/",
          "height": 255
        }
      },
      "source": [
        "SB.head # [[Image ID], [ClassType (int 1-10)], [Multipolygon WKT geometry]]"
      ],
      "execution_count": 0,
      "outputs": [
        {
          "output_type": "execute_result",
          "data": {
            "text/plain": [
              "<bound method NDFrame.head of        ImageId  ClassType                                    MultipolygonWKT\n",
              "0     6120_2_4          1  POLYGON ((0 0, 0.009188 0, 0.009188 -0.0090399...\n",
              "1     6120_2_4          2  POLYGON ((0 0, 0.009188 0, 0.009188 -0.0090399...\n",
              "2     6120_2_4          3  POLYGON ((0 0, 0.009188 0, 0.009188 -0.0090399...\n",
              "3     6120_2_4          4  POLYGON ((0 0, 0.009188 0, 0.009188 -0.0090399...\n",
              "4     6120_2_4          5  POLYGON ((0 0, 0.009188 0, 0.009188 -0.0090399...\n",
              "...        ...        ...                                                ...\n",
              "4285  6130_1_0          6  POLYGON ((0 0, 0.009188 0, 0.009188 -0.0090399...\n",
              "4286  6130_1_0          7  POLYGON ((0 0, 0.009188 0, 0.009188 -0.0090399...\n",
              "4287  6130_1_0          8  POLYGON ((0 0, 0.009188 0, 0.009188 -0.0090399...\n",
              "4288  6130_1_0          9  POLYGON ((0 0, 0.009188 0, 0.009188 -0.0090399...\n",
              "4289  6130_1_0         10  POLYGON ((0 0, 0.009188 0, 0.009188 -0.0090399...\n",
              "\n",
              "[4290 rows x 3 columns]>"
            ]
          },
          "metadata": {
            "tags": []
          },
          "execution_count": 13
        }
      ]
    },
    {
      "cell_type": "code",
      "metadata": {
        "id": "QU_9k-xQePcH",
        "colab_type": "code",
        "colab": {}
      },
      "source": [
        "def _convert_coordinates_to_raster(coords, img_size, xymax):\n",
        "    # __author__ = visoft\n",
        "    # https://www.kaggle.com/visoft/dstl-satellite-imagery-feature-detection/export-pixel-wise-mask\n",
        "    Xmax, Ymax = xymax\n",
        "    H, W = img_size\n",
        "    W1 = 1.0 * W * W / (W + 1)\n",
        "    H1 = 1.0 * H * H / (H + 1)\n",
        "    xf = W1 / Xmax\n",
        "    yf = H1 / Ymax\n",
        "    coords[:, 1] *= yf\n",
        "    coords[:, 0] *= xf\n",
        "    coords_int = np.round(coords).astype(np.int32)\n",
        "    return coords_int"
      ],
      "execution_count": 0,
      "outputs": []
    },
    {
      "cell_type": "code",
      "metadata": {
        "id": "DxUnNs4lePfb",
        "colab_type": "code",
        "colab": {}
      },
      "source": [
        "def _get_xmax_ymin(grid_sizes_panda, imageId):\n",
        "    # __author__ = visoft\n",
        "    # https://www.kaggle.com/visoft/dstl-satellite-imagery-feature-detection/export-pixel-wise-mask\n",
        "    xmax, ymin = grid_sizes_panda[grid_sizes_panda.ImageId == imageId].iloc[0, 1:].astype(float)\n",
        "    return (xmax, ymin)"
      ],
      "execution_count": 0,
      "outputs": []
    },
    {
      "cell_type": "code",
      "metadata": {
        "id": "sEpRfHd0ePh1",
        "colab_type": "code",
        "colab": {}
      },
      "source": [
        "def _get_polygon_list(wkt_list_pandas, imageId, cType):\n",
        "    # __author__ = visoft\n",
        "    # https://www.kaggle.com/visoft/dstl-satellite-imagery-feature-detection/export-pixel-wise-mask\n",
        "    df_image = wkt_list_pandas[wkt_list_pandas.ImageId == imageId]\n",
        "    multipoly_def = df_image[df_image.ClassType == cType].MultipolygonWKT\n",
        "    polygonList = None\n",
        "    if len(multipoly_def) > 0:\n",
        "        assert len(multipoly_def) == 1\n",
        "        polygonList = wkt_loads(multipoly_def.values[0])\n",
        "    return polygonList"
      ],
      "execution_count": 0,
      "outputs": []
    },
    {
      "cell_type": "code",
      "metadata": {
        "id": "AQzrw4mtfF_P",
        "colab_type": "code",
        "colab": {}
      },
      "source": [
        "def _get_polygon_list(wkt_list_pandas, imageId, cType):\n",
        "    # __author__ = visoft\n",
        "    # https://www.kaggle.com/visoft/dstl-satellite-imagery-feature-detection/export-pixel-wise-mask\n",
        "    df_image = wkt_list_pandas[wkt_list_pandas.ImageId == imageId]\n",
        "    multipoly_def = df_image[df_image.ClassType == cType].MultipolygonWKT\n",
        "    polygonList = None\n",
        "    if len(multipoly_def) > 0:\n",
        "        assert len(multipoly_def) == 1\n",
        "        polygonList = wkt_loads(multipoly_def.values[0])\n",
        "    return polygonList"
      ],
      "execution_count": 0,
      "outputs": []
    },
    {
      "cell_type": "code",
      "metadata": {
        "id": "HSVUAWNzfGDP",
        "colab_type": "code",
        "colab": {}
      },
      "source": [
        "def _get_and_convert_contours(polygonList, raster_img_size, xymax):\n",
        "    # __author__ = visoft\n",
        "    # https://www.kaggle.com/visoft/dstl-satellite-imagery-feature-detection/export-pixel-wise-mask\n",
        "    perim_list = []\n",
        "    interior_list = []\n",
        "    if polygonList is None:\n",
        "        return None\n",
        "    for k in range(len(polygonList)):\n",
        "        poly = polygonList[k]\n",
        "        perim = np.array(list(poly.exterior.coords))\n",
        "        perim_c = _convert_coordinates_to_raster(perim, raster_img_size, xymax)\n",
        "        perim_list.append(perim_c)\n",
        "        for pi in poly.interiors:\n",
        "            interior = np.array(list(pi.coords))\n",
        "            interior_c = _convert_coordinates_to_raster(interior, raster_img_size, xymax)\n",
        "            interior_list.append(interior_c)\n",
        "    return perim_list, interior_list"
      ],
      "execution_count": 0,
      "outputs": []
    },
    {
      "cell_type": "code",
      "metadata": {
        "id": "JO4RVWwbfGFn",
        "colab_type": "code",
        "colab": {}
      },
      "source": [
        "def _plot_mask_from_contours(raster_img_size, contours, class_value=1):\n",
        "    # __author__ = visoft\n",
        "    # https://www.kaggle.com/visoft/dstl-satellite-imagery-feature-detection/export-pixel-wise-mask\n",
        "    img_mask = np.zeros(raster_img_size, np.uint8)\n",
        "    if contours is None:\n",
        "        return img_mask\n",
        "    perim_list, interior_list = contours\n",
        "    cv2.fillPoly(img_mask, perim_list, class_value)\n",
        "    cv2.fillPoly(img_mask, interior_list, 0)\n",
        "    return img_mask"
      ],
      "execution_count": 0,
      "outputs": []
    },
    {
      "cell_type": "code",
      "metadata": {
        "id": "SixVABMDfGH8",
        "colab_type": "code",
        "colab": {}
      },
      "source": [
        "def generate_mask_for_image_and_class(raster_size, imageId, class_type, grid_sizes_panda=GS, wkt_list_pandas=DF):\n",
        "    # __author__ = visoft\n",
        "    # https://www.kaggle.com/visoft/dstl-satellite-imagery-feature-detection/export-pixel-wise-mask\n",
        "    xymax = _get_xmax_ymin(grid_sizes_panda, imageId)\n",
        "    polygon_list = _get_polygon_list(wkt_list_pandas, imageId, class_type)\n",
        "    contours = _get_and_convert_contours(polygon_list, raster_size, xymax)\n",
        "    mask = _plot_mask_from_contours(raster_size, contours, 1)\n",
        "    return mask"
      ],
      "execution_count": 0,
      "outputs": []
    },
    {
      "cell_type": "code",
      "metadata": {
        "id": "kQTOhL4L8Sdz",
        "colab_type": "code",
        "colab": {}
      },
      "source": [
        "def RGB(image_id):\n",
        "  filename = os.path.join(inDir, 'three_band', '{}.tif'.format(image_id))\n",
        "  img = tiff.imread(filename)\n",
        "  # img has the shape (bands, width, height)\n",
        "  img = np.rollaxis(img, 0, 3)\n",
        "  return img"
      ],
      "execution_count": 0,
      "outputs": []
    },
    {
      "cell_type": "code",
      "metadata": {
        "id": "tgj3MQpw8-IP",
        "colab_type": "code",
        "outputId": "0b436ca9-e2b7-4ea0-f7ea-c6f734669e47",
        "colab": {
          "base_uri": "https://localhost:8080/",
          "height": 51
        }
      },
      "source": [
        "a = np.ones((3, 160, 160))\n",
        "print(a.shape)\n",
        "a = np.rollaxis(a, 0, 3)\n",
        "print(a.shape)"
      ],
      "execution_count": 0,
      "outputs": [
        {
          "output_type": "stream",
          "text": [
            "(3, 160, 160)\n",
            "(160, 160, 3)\n"
          ],
          "name": "stdout"
        }
      ]
    },
    {
      "cell_type": "code",
      "metadata": {
        "id": "Eo1Bd74CfGKn",
        "colab_type": "code",
        "colab": {}
      },
      "source": [
        "#def M(image_id):\n",
        "#    # __author__ = amaia\n",
        "#    # https://www.kaggle.com/aamaia/dstl-satellite-imagery-feature-detection/rgb-using-m-bands-example\n",
        "#    filename = os.path.join(inDir, 'sixteen_band', '{}_M.tif'.format(image_id))\n",
        "#    img = tiff.imread(filename)\n",
        "#    img = np.rollaxis(img, 0, 3)\n",
        "#    return img"
      ],
      "execution_count": 0,
      "outputs": []
    },
    {
      "cell_type": "code",
      "metadata": {
        "id": "MYztVlxufGNC",
        "colab_type": "code",
        "colab": {}
      },
      "source": [
        "def stretch_n(bands, lower_percent=5, higher_percent=95):\n",
        "    out = np.zeros_like(bands).astype(np.float32) # added .astype(np.float32) per comment within thread \n",
        "    n = bands.shape[2]\n",
        "    for i in range(n):\n",
        "        a = 0  # np.min(band)\n",
        "        b = 1  # np.max(band)\n",
        "        c = np.percentile(bands[:, :, i], lower_percent)\n",
        "        d = np.percentile(bands[:, :, i], higher_percent)\n",
        "        t = a + (bands[:, :, i] - c) * (b - a) / (d - c)\n",
        "        t[t < a] = a\n",
        "        t[t > b] = b\n",
        "        out[:, :, i] = t\n",
        "\n",
        "    return out.astype(np.float32)"
      ],
      "execution_count": 0,
      "outputs": []
    },
    {
      "cell_type": "code",
      "metadata": {
        "id": "1s6-SURgfGPh",
        "colab_type": "code",
        "colab": {}
      },
      "source": [
        "def jaccard_coef(y_true, y_pred):\n",
        "    # __author__ = Vladimir Iglovikov\n",
        "    intersection = K.sum(y_true * y_pred, axis=[0, -1, -2]) # Orig\n",
        "    sum_ = K.sum(y_true + y_pred, axis=[0, -1, -2]) # Orig\n",
        "    \n",
        "    #intersection = K.sum(y_true * y_pred, axis = [0, -2, -3]) # Modified\n",
        "    #sum_ = K.sum(y_true + y_pred, axis = [0, -2, -3]) # Modified\n",
        "\n",
        "    jac = (intersection + smooth) / (sum_ - intersection + smooth)\n",
        "\n",
        "    return K.mean(jac)\n",
        "\n"
      ],
      "execution_count": 0,
      "outputs": []
    },
    {
      "cell_type": "code",
      "metadata": {
        "id": "E4pbDZ9zfZTQ",
        "colab_type": "code",
        "colab": {}
      },
      "source": [
        "def jaccard_coef_int(y_true, y_pred):\n",
        "    # __author__ = Vladimir Iglovikov\n",
        "    y_pred_pos = K.round(K.clip(y_pred, 0, 1))\n",
        "\n",
        "    intersection = K.sum(y_true * y_pred_pos, axis=[0, -1, -2]) # Orig\n",
        "    sum_ = K.sum(y_true + y_pred_pos, axis=[0, -1, -2]) # added _pos to y_pred again per thread, Orig\n",
        "\n",
        "    #intersection = K.sum(y_true * y_pred_pos, axis = [0, -2, -3]) # Modified\n",
        "    #sum_ = K.sum(y_true, y_pred_pos, axis = [0, -2, -3]) # Modified)\n",
        "\n",
        "    jac = (intersection + smooth) / (sum_ - intersection + smooth)\n",
        "    return K.mean(jac)"
      ],
      "execution_count": 0,
      "outputs": []
    },
    {
      "cell_type": "code",
      "metadata": {
        "id": "MZi8YJYVfZXT",
        "colab_type": "code",
        "colab": {}
      },
      "source": [
        "def stick_all_train():\n",
        "    print(\"let's stick all imgs together\")\n",
        "    s = 835\n",
        "\n",
        "    x = np.zeros((5 * s, 5 * s, 3))\n",
        "    y = np.zeros((5 * s, 5 * s, N_Cls))\n",
        "\n",
        "    ids = sorted(DF.ImageId.unique())\n",
        "    print('Length of ids here:', len(ids))\n",
        "    for i in range(5):\n",
        "        for j in range(5):\n",
        "            id = ids[5 * i + j]\n",
        "\n",
        "            img = RGB(id)\n",
        "            img = stretch_n(img)\n",
        "            print('Post-stretching of img here:', img.shape, id, np.amax(img), np.amin(img))\n",
        "            x[s * i:s * i + s, s * j:s * j + s, :] = img[:s, :s, :]\n",
        "            for z in range(N_Cls):\n",
        "                y[s * i:s * i + s, s * j:s * j + s, z] = generate_mask_for_image_and_class(\n",
        "                    (img.shape[0], img.shape[1]), id, z + 1)[:s, :s]\n",
        "\n",
        "    print('amax(y), amin(y):', np.amax(y), np.amin(y))\n",
        "\n",
        "    np.save('/content/drive/My Drive/Capstone/Kaggle/Kaggle Data/data/x_trn_3_band_%d' % N_Cls, x)\n",
        "    np.save('/content/drive/My Drive/Capstone/Kaggle/Kaggle Data/data/y_trn_3_band_%d' % N_Cls, y)"
      ],
      "execution_count": 0,
      "outputs": []
    },
    {
      "cell_type": "code",
      "metadata": {
        "id": "DMM6zHfXfZaY",
        "colab_type": "code",
        "colab": {}
      },
      "source": [
        "def get_patches(img, msk, amt=10000, aug=True):\n",
        "    is2 = int(1.0 * ISZ)\n",
        "    xm, ym = img.shape[0] - is2, img.shape[1] - is2\n",
        "\n",
        "    x, y = [], []\n",
        "\n",
        "    tr = [0.4, 0.1, 0.1, 0.15, 0.3, 0.95, 0.1, 0.05, 0.001, 0.005]\n",
        "    for i in range(amt):\n",
        "        xc = random.randint(0, xm)\n",
        "        yc = random.randint(0, ym)\n",
        "\n",
        "        im = img[xc:xc + is2, yc:yc + is2]\n",
        "        ms = msk[xc:xc + is2, yc:yc + is2]\n",
        "\n",
        "        for j in range(N_Cls):\n",
        "            sm = np.sum(ms[:, :, j])\n",
        "            if 1.0 * sm / is2 ** 2 > tr[j]:\n",
        "                if aug:\n",
        "                    if random.uniform(0, 1) > 0.5:\n",
        "                        im = im[::-1]\n",
        "                        ms = ms[::-1]\n",
        "                    if random.uniform(0, 1) > 0.5:\n",
        "                        im = im[:, ::-1]\n",
        "                        ms = ms[:, ::-1]\n",
        "\n",
        "                x.append(im)\n",
        "                y.append(ms)\n",
        "\n",
        "    x = 2 * np.transpose(x, (0, 1, 2, 3)) - 1\n",
        "    y = np.transpose(y, (0, 1, 2, 3))\n",
        "\n",
        "    print('get_patches result:', x.shape, y.shape, np.amax(x), np.amin(x), np.amax(y), np.amin(y))\n",
        "    return x, y"
      ],
      "execution_count": 0,
      "outputs": []
    },
    {
      "cell_type": "code",
      "metadata": {
        "id": "XUnQVJgsfZe9",
        "colab_type": "code",
        "colab": {}
      },
      "source": [
        "def make_val():\n",
        "    print(\"let's pick some samples for validation\")\n",
        "    img = np.load('/content/drive/My Drive/Capstone/Kaggle/Kaggle Data/data/x_trn_3_band_%d.npy' % N_Cls)\n",
        "    msk = np.load('/content/drive/My Drive/Capstone/Kaggle/Kaggle Data/data/y_trn_3_band_%d.npy' % N_Cls)\n",
        "    x, y = get_patches(img, msk, amt=3000)\n",
        "\n",
        "    np.save('/content/drive/My Drive/Capstone/Kaggle/Kaggle Data/data/x_tmp_3_band_%d' % N_Cls, x)\n",
        "    np.save('/content/drive/My Drive/Capstone/Kaggle/Kaggle Data/data/y_tmp_3_band_%d' % N_Cls, y)"
      ],
      "execution_count": 0,
      "outputs": []
    },
    {
      "cell_type": "code",
      "metadata": {
        "id": "_RsueuzeiyjO",
        "colab_type": "code",
        "outputId": "9d0d6c93-b3d9-4633-ad21-a27b9ab230ff",
        "colab": {
          "base_uri": "https://localhost:8080/",
          "height": 34
        }
      },
      "source": [
        "\"\"\"\n",
        "from tf.keras.models import Model\n",
        "from tf.keras.layers import Input, merge, Convolution2D, MaxPooling2D, UpSampling2D, Reshape, core, Dropout\n",
        "from tf.keras.optimizers import Adam\n",
        "\"\"\""
      ],
      "execution_count": 0,
      "outputs": [
        {
          "output_type": "execute_result",
          "data": {
            "text/plain": [
              "'\\nfrom tf.keras.models import Model\\nfrom tf.keras.layers import Input, merge, Convolution2D, MaxPooling2D, UpSampling2D, Reshape, core, Dropout\\nfrom tf.keras.optimizers import Adam\\n'"
            ]
          },
          "metadata": {
            "tags": []
          },
          "execution_count": 29
        }
      ]
    },
    {
      "cell_type": "markdown",
      "metadata": {
        "id": "nTXf8iVkwMhL",
        "colab_type": "text"
      },
      "source": [
        "We encountered the first issue where the dimensions of our model were entering negative territory on the pool4 line. I made an initial change to the input shape from 8 to 16. Not sure yet how that will affect things, but at least the model compiles now. \n",
        "\n",
        "* Needed to change input dimension from 8 to 16 (still not sure if will work)\n",
        "* Needed to split up merge([UpSampling2D...]) layer into two new layers, first an UpSampling2D layer, second a Concatenate layer\n",
        "* Needed to change concatenation axis from 1 to -1\n",
        "* "
      ]
    },
    {
      "cell_type": "code",
      "metadata": {
        "id": "T6s7bcx6mNT9",
        "colab_type": "code",
        "colab": {}
      },
      "source": [
        "from tensorflow import keras\n",
        "from tensorflow.keras import layers\n",
        "import pdb"
      ],
      "execution_count": 0,
      "outputs": []
    },
    {
      "cell_type": "code",
      "metadata": {
        "id": "zfp31UvfzV6_",
        "colab_type": "code",
        "colab": {}
      },
      "source": [
        ""
      ],
      "execution_count": 0,
      "outputs": []
    },
    {
      "cell_type": "code",
      "metadata": {
        "id": "IzQj_H5IzWDC",
        "colab_type": "code",
        "colab": {}
      },
      "source": [
        ""
      ],
      "execution_count": 0,
      "outputs": []
    },
    {
      "cell_type": "code",
      "metadata": {
        "id": "xNPbwEKYmdOr",
        "colab_type": "code",
        "colab": {}
      },
      "source": [
        "# __author__ = Peter Miller\n",
        "def get_model():\n",
        "  input_size = (ISZ, ISZ, 3)\n",
        "  inputs = keras.Input(input_size)\n",
        "\n",
        "  print(inputs.shape)\n",
        "\n",
        "  conv1 = layers.Conv2D(32, (3, 3), padding = 'same', activation = 'relu')(inputs)\n",
        "  print('conv1a', conv1.shape)\n",
        "  conv1 = layers.Conv2D(32, (3, 3), padding = 'same', activation = 'relu')(conv1)\n",
        "  print('conv1b', conv1.shape)\n",
        "  pool1 = layers.MaxPool2D(pool_size = (2, 2))(conv1)\n",
        "  print('pool1', pool1.shape)\n",
        "\n",
        "  conv2 = layers.Conv2D(64, (3, 3), padding = 'same', activation = 'relu')(pool1)\n",
        "  print('conv2a', conv2.shape)\n",
        "  conv2 = layers.Conv2D(64, (3, 3), padding = 'same', activation = 'relu')(conv2)\n",
        "  print('conv2b', conv2.shape)\n",
        "  pool2 = layers.MaxPool2D(pool_size = (2, 2))(conv2)\n",
        "  print('pool2', pool2.shape)\n",
        "\n",
        "  conv3 = layers.Conv2D(128, (3, 3), padding = 'same', activation = 'relu')(pool2)\n",
        "  print('conv3a', conv3.shape)\n",
        "  conv3 = layers.Conv2D(128, (3, 3), padding = 'same', activation = 'relu')(conv3)\n",
        "  print('conv3a', conv3.shape)\n",
        "  pool3 = layers.MaxPool2D(pool_size = (2, 2))(conv3)\n",
        "  print('pool3', pool3.shape)\n",
        "\n",
        "  conv4 = layers.Conv2D(256, (3, 3), padding = 'same', activation = 'relu')(pool3)\n",
        "  print('conv4a', conv4.shape)\n",
        "  conv4 = layers.Conv2D(256, (3, 3), padding = 'same', activation = 'relu')(conv4)\n",
        "  print('conv4b', conv4.shape)\n",
        "  pool4 = layers.MaxPool2D(pool_size = (2, 2))(conv4)\n",
        "  print('pool4', pool4.shape)\n",
        "\n",
        "  conv5 = layers.Conv2D(512, (3, 3), padding ='same', activation = 'relu')(pool4)\n",
        "  print('conv5a', conv5.shape)\n",
        "  conv5 = layers.Conv2D(512, (3, 3), padding ='same', activation = 'relu')(conv5)\n",
        "  print('conv5b', conv5.shape)\n",
        "\n",
        "  up6 = layers.UpSampling2D(size = (2,2))(conv5)\n",
        "  print('up6', up6.shape)\n",
        "  concat1 = layers.Concatenate(axis = -1)([up6, conv4]) \n",
        "  print('concat1', concat1.shape)\n",
        "\n",
        "  \"\"\" I believe the following a) and b) lines properly mimick the implementation the c) line:\n",
        "      a) up6 = layers.UpSampling2D(size = (2,2))(conv5)\n",
        "      b) concat1 = layers.Concatenate(axis = 1)([up6, conv4]) \n",
        "\n",
        "      c) up6 = merge([UpSampling2D(size=(2, 2))(conv5), conv4], mode='concat', concat_axis=1)\"\"\"\n",
        "\n",
        "  conv6 = layers.Conv2D(256, (3, 3), padding = 'same', activation = 'relu')(concat1)\n",
        "  print('conv6a', conv6.shape)\n",
        "  conv6 = layers.Conv2D(256, (3, 3), padding ='same', activation = 'relu')(conv6)\n",
        "  print('conv6b', conv6.shape)\n",
        "\n",
        "  up7 = layers.UpSampling2D(size = (2,2))(conv6)\n",
        "  print('up7', up7.shape)\n",
        "  concat2 = layers.Concatenate(axis = -1)([up7, conv3]) \n",
        "  print('concat2', concat2.shape)\n",
        "\n",
        "  #up7 = merge([UpSampling2D(size=(2, 2))(conv6), conv3], mode='concat', concat_axis=1)\n",
        "  conv7 = layers.Conv2D(128, (3, 3), padding ='same', activation = 'relu')(concat2)\n",
        "  print('conv7a', conv7.shape)\n",
        "  conv7 = layers.Conv2D(128, (3, 3), padding ='same', activation = 'relu')(conv7)\n",
        "  print('conv7b', conv7.shape)\n",
        "\n",
        "  up8 = layers.UpSampling2D(size = (2,2))(conv7)\n",
        "  print('up8', up8.shape)\n",
        "  concat3 = layers.Concatenate(axis = -1)([up8, conv2]) \n",
        "  print('concat3', concat3.shape)\n",
        "\n",
        "  #up8 = merge([UpSampling2D(size=(2, 2))(conv7), conv2], mode='concat', concat_axis=1)\n",
        "\n",
        "  conv8 = layers.Conv2D(64, (3, 3), padding ='same', activation = 'relu')(concat3)\n",
        "  print('conv8a', conv8.shape)\n",
        "  conv8 = layers.Conv2D(64, (3, 3), padding ='same', activation = 'relu')(conv8)\n",
        "  print('conv8b', conv8.shape)\n",
        "\n",
        "  up9 = layers.UpSampling2D(size = (2,2))(conv8)\n",
        "  print('up9', up9.shape)\n",
        "  concat4 = layers.Concatenate(axis = -1)([up9, conv1]) \n",
        "  print('concat4', concat4.shape)\n",
        "\n",
        "  #up9 = merge([UpSampling2D(size=(2, 2))(conv8), conv1], mode='concat', concat_axis=1)\n",
        "\n",
        "  conv9 = layers.Conv2D(32, (3, 3), padding ='same', activation = 'relu')(concat4)\n",
        "  print('conv9a', conv9.shape)\n",
        "  conv9 = layers.Conv2D(32, (3, 3), padding ='same', activation = 'relu')(conv9)\n",
        "  print('conv9b', conv9.shape)\n",
        "\n",
        "  outputs = layers.Conv2D(N_Cls, (1, 1), activation='sigmoid')(conv9)\n",
        "  print('outputs', outputs.shape)\n",
        "\n",
        "  model = keras.Model(inputs = inputs, outputs = outputs, name = 'unet_model')\n",
        "  model.compile(optimizer=tf.keras.optimizers.Adam(learning_rate = 1e-3, ), loss='binary_crossentropy', metrics=[jaccard_coef, jaccard_coef_int, 'accuracy'])\n",
        "  return model"
      ],
      "execution_count": 0,
      "outputs": []
    },
    {
      "cell_type": "code",
      "metadata": {
        "id": "44EgyiHQxGE7",
        "colab_type": "code",
        "outputId": "95a5df1a-3e33-47e4-839c-d2d40d2c1f07",
        "colab": {
          "base_uri": "https://localhost:8080/",
          "height": 561
        }
      },
      "source": [
        "model = get_model()"
      ],
      "execution_count": 0,
      "outputs": [
        {
          "output_type": "stream",
          "text": [
            "(None, 160, 160, 3)\n",
            "conv1a (None, 160, 160, 32)\n",
            "conv1b (None, 160, 160, 32)\n",
            "pool1 (None, 80, 80, 32)\n",
            "conv2a (None, 80, 80, 64)\n",
            "conv2b (None, 80, 80, 64)\n",
            "pool2 (None, 40, 40, 64)\n",
            "conv3a (None, 40, 40, 128)\n",
            "conv3a (None, 40, 40, 128)\n",
            "pool3 (None, 20, 20, 128)\n",
            "conv4a (None, 20, 20, 256)\n",
            "conv4b (None, 20, 20, 256)\n",
            "pool4 (None, 10, 10, 256)\n",
            "conv5a (None, 10, 10, 512)\n",
            "conv5b (None, 10, 10, 512)\n",
            "up6 (None, 20, 20, 512)\n",
            "concat1 (None, 20, 20, 768)\n",
            "conv6a (None, 20, 20, 256)\n",
            "conv6b (None, 20, 20, 256)\n",
            "up7 (None, 40, 40, 256)\n",
            "concat2 (None, 40, 40, 384)\n",
            "conv7a (None, 40, 40, 128)\n",
            "conv7b (None, 40, 40, 128)\n",
            "up8 (None, 80, 80, 128)\n",
            "concat3 (None, 80, 80, 192)\n",
            "conv8a (None, 80, 80, 64)\n",
            "conv8b (None, 80, 80, 64)\n",
            "up9 (None, 160, 160, 64)\n",
            "concat4 (None, 160, 160, 96)\n",
            "conv9a (None, 160, 160, 32)\n",
            "conv9b (None, 160, 160, 32)\n",
            "outputs (None, 160, 160, 10)\n"
          ],
          "name": "stdout"
        }
      ]
    },
    {
      "cell_type": "code",
      "metadata": {
        "id": "81Ub3UrnWqLp",
        "colab_type": "code",
        "outputId": "cefbf5e3-2d5a-49aa-afbf-99ba96811412",
        "colab": {
          "base_uri": "https://localhost:8080/",
          "height": 1000
        }
      },
      "source": [
        "model.summary()"
      ],
      "execution_count": 0,
      "outputs": [
        {
          "output_type": "stream",
          "text": [
            "Model: \"unet_model\"\n",
            "__________________________________________________________________________________________________\n",
            "Layer (type)                    Output Shape         Param #     Connected to                     \n",
            "==================================================================================================\n",
            "input_4 (InputLayer)            [(None, 160, 160, 8) 0                                            \n",
            "__________________________________________________________________________________________________\n",
            "conv2d_10 (Conv2D)              (None, 160, 160, 32) 2336        input_4[0][0]                    \n",
            "__________________________________________________________________________________________________\n",
            "conv2d_11 (Conv2D)              (None, 160, 160, 32) 9248        conv2d_10[0][0]                  \n",
            "__________________________________________________________________________________________________\n",
            "max_pooling2d_4 (MaxPooling2D)  (None, 80, 80, 32)   0           conv2d_11[0][0]                  \n",
            "__________________________________________________________________________________________________\n",
            "conv2d_12 (Conv2D)              (None, 80, 80, 64)   18496       max_pooling2d_4[0][0]            \n",
            "__________________________________________________________________________________________________\n",
            "conv2d_13 (Conv2D)              (None, 80, 80, 64)   36928       conv2d_12[0][0]                  \n",
            "__________________________________________________________________________________________________\n",
            "max_pooling2d_5 (MaxPooling2D)  (None, 40, 40, 64)   0           conv2d_13[0][0]                  \n",
            "__________________________________________________________________________________________________\n",
            "conv2d_14 (Conv2D)              (None, 40, 40, 128)  73856       max_pooling2d_5[0][0]            \n",
            "__________________________________________________________________________________________________\n",
            "conv2d_15 (Conv2D)              (None, 40, 40, 128)  147584      conv2d_14[0][0]                  \n",
            "__________________________________________________________________________________________________\n",
            "max_pooling2d_6 (MaxPooling2D)  (None, 20, 20, 128)  0           conv2d_15[0][0]                  \n",
            "__________________________________________________________________________________________________\n",
            "conv2d_16 (Conv2D)              (None, 20, 20, 256)  295168      max_pooling2d_6[0][0]            \n",
            "__________________________________________________________________________________________________\n",
            "conv2d_17 (Conv2D)              (None, 20, 20, 256)  590080      conv2d_16[0][0]                  \n",
            "__________________________________________________________________________________________________\n",
            "max_pooling2d_7 (MaxPooling2D)  (None, 10, 10, 256)  0           conv2d_17[0][0]                  \n",
            "__________________________________________________________________________________________________\n",
            "conv2d_18 (Conv2D)              (None, 10, 10, 512)  1180160     max_pooling2d_7[0][0]            \n",
            "__________________________________________________________________________________________________\n",
            "conv2d_19 (Conv2D)              (None, 10, 10, 512)  2359808     conv2d_18[0][0]                  \n",
            "__________________________________________________________________________________________________\n",
            "up_sampling2d (UpSampling2D)    (None, 20, 20, 512)  0           conv2d_19[0][0]                  \n",
            "__________________________________________________________________________________________________\n",
            "concatenate (Concatenate)       (None, 20, 20, 768)  0           up_sampling2d[0][0]              \n",
            "                                                                 conv2d_17[0][0]                  \n",
            "__________________________________________________________________________________________________\n",
            "conv2d_20 (Conv2D)              (None, 20, 20, 256)  1769728     concatenate[0][0]                \n",
            "__________________________________________________________________________________________________\n",
            "conv2d_21 (Conv2D)              (None, 20, 20, 256)  590080      conv2d_20[0][0]                  \n",
            "__________________________________________________________________________________________________\n",
            "up_sampling2d_1 (UpSampling2D)  (None, 40, 40, 256)  0           conv2d_21[0][0]                  \n",
            "__________________________________________________________________________________________________\n",
            "concatenate_1 (Concatenate)     (None, 40, 40, 384)  0           up_sampling2d_1[0][0]            \n",
            "                                                                 conv2d_15[0][0]                  \n",
            "__________________________________________________________________________________________________\n",
            "conv2d_22 (Conv2D)              (None, 40, 40, 128)  442496      concatenate_1[0][0]              \n",
            "__________________________________________________________________________________________________\n",
            "conv2d_23 (Conv2D)              (None, 40, 40, 128)  147584      conv2d_22[0][0]                  \n",
            "__________________________________________________________________________________________________\n",
            "up_sampling2d_2 (UpSampling2D)  (None, 80, 80, 128)  0           conv2d_23[0][0]                  \n",
            "__________________________________________________________________________________________________\n",
            "concatenate_2 (Concatenate)     (None, 80, 80, 192)  0           up_sampling2d_2[0][0]            \n",
            "                                                                 conv2d_13[0][0]                  \n",
            "__________________________________________________________________________________________________\n",
            "conv2d_24 (Conv2D)              (None, 80, 80, 64)   110656      concatenate_2[0][0]              \n",
            "__________________________________________________________________________________________________\n",
            "conv2d_25 (Conv2D)              (None, 80, 80, 64)   36928       conv2d_24[0][0]                  \n",
            "__________________________________________________________________________________________________\n",
            "up_sampling2d_3 (UpSampling2D)  (None, 160, 160, 64) 0           conv2d_25[0][0]                  \n",
            "__________________________________________________________________________________________________\n",
            "concatenate_3 (Concatenate)     (None, 160, 160, 96) 0           up_sampling2d_3[0][0]            \n",
            "                                                                 conv2d_11[0][0]                  \n",
            "__________________________________________________________________________________________________\n",
            "conv2d_26 (Conv2D)              (None, 160, 160, 32) 27680       concatenate_3[0][0]              \n",
            "__________________________________________________________________________________________________\n",
            "conv2d_27 (Conv2D)              (None, 160, 160, 32) 9248        conv2d_26[0][0]                  \n",
            "__________________________________________________________________________________________________\n",
            "conv2d_28 (Conv2D)              (None, 160, 160, 10) 330         conv2d_27[0][0]                  \n",
            "==================================================================================================\n",
            "Total params: 7,848,394\n",
            "Trainable params: 7,848,394\n",
            "Non-trainable params: 0\n",
            "__________________________________________________________________________________________________\n"
          ],
          "name": "stdout"
        }
      ]
    },
    {
      "cell_type": "code",
      "metadata": {
        "id": "sq9eN3jVxGKA",
        "colab_type": "code",
        "colab": {}
      },
      "source": [
        "def calc_jacc(x_val, y_val, model):\n",
        "    x_val = x_val# = np.load('/content/drive/My Drive/Capstone/Kaggle/Kaggle Data/data/x_tmp_%d.npy' % N_Cls)\n",
        "    y_val = y_val#= np.load('/content/drive/My Drive/Capstone/Kaggle/Kaggle Data/data/y_tmp_%d.npy' % N_Cls)\n",
        "    print('x_val, y_val, loaded within calc_jacc')\n",
        "\n",
        "    prd = model.predict(x_val, batch_size=4)\n",
        "    print('x_val.shape & y_val.shape within calc_jacc', x_val.shape, y_val.shape)\n",
        "    avg, trs = [], []\n",
        "\n",
        "    for i in range(N_Cls):\n",
        "        #t_msk = msk[:, i, :, :] Orig\n",
        "        #t_prd = prd[:, i, :, :] Orig\n",
        "        t_msk = y_val[:, :, :, i] # modified\n",
        "        t_prd = prd[:, :, :, i] # modified\n",
        "        #t_msk = t_msk.reshape(msk.shape[0] * msk.shape[2], msk.shape[3]) Orig\n",
        "        #t_prd = t_prd.reshape(msk.shape[0] * msk.shape[2], msk.shape[3]) Orig\n",
        "        t_msk = t_msk.reshape(y_val.shape[0] * y_val.shape[1], y_val.shape[2]) # modified\n",
        "        t_prd = t_prd.reshape(y_val.shape[0] * y_val.shape[1], y_val.shape[2]) # modified\n",
        "\n",
        "        m, b_tr = 0, 0\n",
        "        for j in range(10):\n",
        "            tr = j / 10.0\n",
        "            pred_binary_mask = t_prd > tr\n",
        "\n",
        "            jk = jaccard_similarity_score(t_msk, pred_binary_mask)\n",
        "            if jk > m:\n",
        "                m = jk\n",
        "                b_tr = tr\n",
        "        print('i, m, b_tr, within calc_jacc', i, '-:-', m, '-:-', b_tr)\n",
        "        avg.append(m)\n",
        "        trs.append(b_tr)\n",
        "\n",
        "    score = sum(avg) / 10.0\n",
        "    return score, trs"
      ],
      "execution_count": 0,
      "outputs": []
    },
    {
      "cell_type": "code",
      "metadata": {
        "id": "7oI80_8axGOr",
        "colab_type": "code",
        "colab": {}
      },
      "source": [
        "def mask_for_polygons(polygons, im_size):\n",
        "    # __author__ = Konstantin Lopuhin\n",
        "    # https://www.kaggle.com/lopuhin/dstl-satellite-imagery-feature-detection/full-pipeline-demo-poly-pixels-ml-poly\n",
        "    img_mask = np.zeros(im_size, np.uint8)\n",
        "    print('img_mask within mask for polygons', img_mask.shape)\n",
        "    if not polygons:\n",
        "        return img_mask\n",
        "    int_coords = lambda x: np.array(x).round().astype(np.int32)\n",
        "    exteriors = [int_coords(poly.exterior.coords) for poly in polygons]\n",
        "    interiors = [int_coords(pi.coords) for poly in polygons\n",
        "                 for pi in poly.interiors]\n",
        "    cv2.fillPoly(img_mask, exteriors, 1)\n",
        "    cv2.fillPoly(img_mask, interiors, 0)\n",
        "    return img_mask"
      ],
      "execution_count": 0,
      "outputs": []
    },
    {
      "cell_type": "code",
      "metadata": {
        "id": "5IfuB60ixGRQ",
        "colab_type": "code",
        "colab": {}
      },
      "source": [
        "def mask_to_polygons(mask, epsilon=5, min_area=1.):\n",
        "    # __author__ = Konstantin Lopuhin\n",
        "    # https://www.kaggle.com/lopuhin/dstl-satellite-imagery-feature-detection/full-pipeline-demo-poly-pixels-ml-poly\n",
        "\n",
        "    # first, find contours with cv2: it's much faster than shapely\n",
        "    # image, (remove from original) \n",
        "    contours, hierarchy = cv2.findContours(\n",
        "        ((mask == 1) * 255).astype(np.uint8),\n",
        "        cv2.RETR_CCOMP, cv2.CHAIN_APPROX_TC89_KCOS)\n",
        "    # create approximate contours to have reasonable submission size\n",
        "    approx_contours = [cv2.approxPolyDP(cnt, epsilon, True)\n",
        "                       for cnt in contours]\n",
        "    if not contours:\n",
        "        return MultiPolygon()\n",
        "    # now messy stuff to associate parent and child contours\n",
        "    cnt_children = defaultdict(list)\n",
        "    child_contours = set()\n",
        "    assert hierarchy.shape[0] == 1\n",
        "    # http://docs.opencv.org/3.1.0/d9/d8b/tutorial_py_contours_hierarchy.html\n",
        "    for idx, (_, _, _, parent_idx) in enumerate(hierarchy[0]):\n",
        "        if parent_idx != -1:\n",
        "            child_contours.add(idx)\n",
        "            cnt_children[parent_idx].append(approx_contours[idx])\n",
        "    # create actual polygons filtering by area (removes artifacts)\n",
        "    all_polygons = []\n",
        "    for idx, cnt in enumerate(approx_contours):\n",
        "        if idx not in child_contours and cv2.contourArea(cnt) >= min_area:\n",
        "            assert cnt.shape[1] == 1\n",
        "            poly = Polygon(\n",
        "                shell=cnt[:, 0, :],\n",
        "                holes=[c[:, 0, :] for c in cnt_children.get(idx, [])\n",
        "                       if cv2.contourArea(c) >= min_area])\n",
        "            all_polygons.append(poly)\n",
        "    # approximating polygons might have created invalid ones, fix them\n",
        "    all_polygons = MultiPolygon(all_polygons)\n",
        "    if not all_polygons.is_valid:\n",
        "        all_polygons = all_polygons.buffer(0)\n",
        "        # Sometimes buffer() converts a simple Multipolygon to just a Polygon,\n",
        "        # need to keep it a Multi throughout\n",
        "        if all_polygons.type == 'Polygon':\n",
        "            all_polygons = MultiPolygon([all_polygons])\n",
        "    return all_polygons"
      ],
      "execution_count": 0,
      "outputs": []
    },
    {
      "cell_type": "code",
      "metadata": {
        "id": "2exSFkp9xGNN",
        "colab_type": "code",
        "colab": {}
      },
      "source": [
        "def get_scalers(im_size, x_max, y_min):\n",
        "    # __author__ = Konstantin Lopuhin\n",
        "    # https://www.kaggle.com/lopuhin/dstl-satellite-imagery-feature-detection/full-pipeline-demo-poly-pixels-ml-poly\n",
        "    h, w = im_size  # they are flipped so that mask_for_polygons works correctly\n",
        "    h, w = float(h), float(w)\n",
        "    w_ = 1.0 * w * (w / (w + 1))\n",
        "    h_ = 1.0 * h * (h / (h + 1))\n",
        "    return w_ / x_max, h_ / y_min"
      ],
      "execution_count": 0,
      "outputs": []
    },
    {
      "cell_type": "code",
      "metadata": {
        "id": "TjbMcWu1xGIn",
        "colab_type": "code",
        "colab": {}
      },
      "source": [
        "def train_net():\n",
        "    print(\"start train net\")\n",
        "    x_val = np.load('/content/drive/My Drive/Capstone/Kaggle/Kaggle Data/data/x_tmp_3_band_%d.npy' % N_Cls)\n",
        "    print('x_val initial shape:', x_val.shape)\n",
        "    #x_val = x_val[:200]\n",
        "    #print('x_val loaded, shape now:', x_val.shape)\n",
        "    y_val = np.load('/content/drive/My Drive/Capstone/Kaggle/Kaggle Data/data/y_tmp_3_band_%d.npy' % N_Cls)\n",
        "    print('y_val initial shape:', y_val.shape)\n",
        "    #y_val = y_val[:200]\n",
        "    #print('y_val loaded, shape now:', y_val.shape)\n",
        "\n",
        "    img = np.load('/content/drive/My Drive/Capstone/Kaggle/Kaggle Data/data/x_trn_3_band_%d.npy' % N_Cls)\n",
        "    print('img initial shape:', img.shape)\n",
        "    #img = img[:200]\n",
        "    #print('img loaded, shape now:', img.shape)\n",
        "    msk = np.load('/content/drive/My Drive/Capstone/Kaggle/Kaggle Data/data/y_trn_3_band_%d.npy' % N_Cls)\n",
        "    print('msk initial shape', msk.shape)\n",
        "    #msk = msk[:200]\n",
        "    #print('msk loaded, shape now:', msk.shape)\n",
        "\n",
        "    x_trn, y_trn = get_patches(img, msk)\n",
        "    print('x_trn, y_trn loaded, initial shapes:', x_trn.shape, y_trn.shape)\n",
        "    #x_trn = x_trn[:2000]\n",
        "    #y_trn = y_trn[:2000]\n",
        "    #print('x_trn, y_trn post-shrinkage:', x_trn.shape, y_trn.shape)\n",
        "\n",
        "    del img\n",
        "    del msk\n",
        "\n",
        "    model = get_model()\n",
        "    #model.load_weights('weights/unet_10_jk0.7878')\n",
        "    model_checkpoint = ModelCheckpoint('/content/drive/My Drive/Capstone/Kaggle/Kaggle Data/weights/unet_tmp.hdf5', monitor='loss', save_best_only=True)\n",
        "    #for i in range(10):\n",
        "    history = model.fit(x_trn, y_trn, batch_size=128, epochs=150, verbose=1, shuffle=True,\n",
        "              callbacks=[model_checkpoint], validation_data=(x_val, y_val)) #validation_split = .3) \n",
        "    #del x_trn\n",
        "    #del y_trn\n",
        "    #x_trn, y_trn = get_patches(img, msk)\n",
        "    #print('x_trn, y_trn loaded within fit')\n",
        "    score, trs = calc_jacc(x_val, y_val, model)\n",
        "    print('val jk', score)\n",
        "    model.save_weights('/content/drive/My Drive/Capstone/Kaggle/Kaggle Data/weights/unet_10_jk%.4f' % score)\n",
        "\n",
        "    return history, model, x_val, y_val\n"
      ],
      "execution_count": 0,
      "outputs": []
    },
    {
      "cell_type": "code",
      "metadata": {
        "id": "3WUEBPUMum86",
        "colab_type": "code",
        "colab": {}
      },
      "source": [
        "def predict_id(id, model, trs):\n",
        "    img = RGB(id)\n",
        "    print(img.shape, 'img shape')\n",
        "    x = stretch_n(img)\n",
        "    print(x.shape, 'x shape')\n",
        "\n",
        "    cnv = np.zeros((3650, 3650, 3)).astype(np.float32)\n",
        "    #prd = np.zeros((N_Cls, 960, 960)).astype(np.float32) # Orig\n",
        "    prd = np.zeros((960, 960, N_Cls)).astype(np.float32) # Modified\n",
        "    print(cnv.shape, img.shape, img.shape[0], img.shape[1], x.shape)\n",
        "    cnv[:img.shape[0], :img.shape[1], :] = x\n",
        "\n",
        "    for i in range(0, 6):\n",
        "        line = []\n",
        "        for j in range(0, 6):\n",
        "            line.append(cnv[i * ISZ:(i + 1) * ISZ, j * ISZ:(j + 1) * ISZ])\n",
        "\n",
        "        #x = 2 * np.transpose(line, (0, 3, 1, 2)) - 1 # Orig\n",
        "        x = 2 * np.transpose(line, (0, 1, 2, 3)) - 1 # Modified\n",
        "        \n",
        "        tmp = model.predict(x, batch_size=4)\n",
        "        print(tmp.shape, 'tmp shape')\n",
        "        for j in range(tmp.shape[0]):\n",
        "            prd[i * ISZ:(i + 1) * ISZ, j * ISZ:(j + 1) * ISZ, :] = tmp[j]\n",
        "\n",
        "    #trs = [0.4, 0.1, 0.4, 0.3, 0.3, 0.5, 0.3, 0.6, 0.1, 0.1]\n",
        "    for i in range(N_Cls):\n",
        "        prd[i] = prd[i] > trs[i]\n",
        "\n",
        "    #return prd[:, :img.shape[0], :img.shape[1]] # Orig\n",
        "    return prd[:img.shape[0], :img.shape[1], :] # Modified"
      ],
      "execution_count": 0,
      "outputs": []
    },
    {
      "cell_type": "code",
      "metadata": {
        "id": "Yw_PbxgyfZdP",
        "colab_type": "code",
        "colab": {}
      },
      "source": [
        "def predict_test(model, trs):\n",
        "    print(\"predict test\")\n",
        "    for i, id in enumerate(sorted(set(SB['ImageId'].tolist()))):\n",
        "        msk = predict_id(id, model, trs)\n",
        "        np.save('/content/drive/My Drive/Capstone/Kaggle/Kaggle Data/msk/10_%s' % id, msk)\n",
        "        if i % 100 == 0: print(i, id)"
      ],
      "execution_count": 0,
      "outputs": []
    },
    {
      "cell_type": "code",
      "metadata": {
        "id": "daxwWE9ThzRw",
        "colab_type": "code",
        "colab": {}
      },
      "source": [
        "def check_predict(model, id='6120_2_2'):\n",
        "    model = model\n",
        "   #model.load_weights('weights/unet_10_jk0.7878')\n",
        "\n",
        "    msk = predict_id(id, model, [0.4, 0.1, 0.4, 0.3, 0.3, 0.5, 0.3, 0.6, 0.1, 0.1])\n",
        "    print('msk shape:', msk.shape)\n",
        "    #msk = np.transpose(msk, (2, 0, 1)) # Possibly fixed by modifying the return output from predict_id\n",
        "    #print('msk transposed:', msk.shape)\n",
        "    img = RGB(id)\n",
        "    print('img shape:', img.shape[:2])\n",
        "    plt.figure()\n",
        "    \n",
        "    fig, ax = plt.subplots(figsize=(20, 10))\n",
        "    ax1 = plt.subplot(131)\n",
        "    ax1.set_title('image ID:6120_2_3')\n",
        "    ax1.imshow(img[:, :, 1], cmap=plt.get_cmap('gist_ncar'))\n",
        "    ax2 = plt.subplot(132)\n",
        "    ax2.set_title('predict bldg pixels')\n",
        "    ax2.imshow(msk[2], cmap=plt.get_cmap('gray'))\n",
        "    ax3 = plt.subplot(133)\n",
        "    ax3.set_title('predict bldg polygons')\n",
        "    ax3.imshow(mask_for_polygons(mask_to_polygons(msk[0], epsilon=1), img.shape[:2]), cmap=plt.get_cmap('gray'))\n",
        "\n",
        "    plt.show()"
      ],
      "execution_count": 0,
      "outputs": []
    },
    {
      "cell_type": "code",
      "metadata": {
        "id": "cKFbV4T1xnA-",
        "colab_type": "code",
        "outputId": "7f729408-4817-4ed0-af08-4c79a3afb268",
        "colab": {
          "base_uri": "https://localhost:8080/",
          "height": 828
        }
      },
      "source": [
        "check_predict(model)"
      ],
      "execution_count": 0,
      "outputs": [
        {
          "output_type": "stream",
          "text": [
            "(3348, 3403, 3) img shape\n",
            "(3348, 3403, 3) x shape\n",
            "(3650, 3650, 3) (3348, 3403, 3) 3348 3403 (3348, 3403, 3)\n",
            "(6, 160, 160, 10) tmp shape\n",
            "(6, 160, 160, 10) tmp shape\n",
            "(6, 160, 160, 10) tmp shape\n",
            "(6, 160, 160, 10) tmp shape\n",
            "(6, 160, 160, 10) tmp shape\n",
            "(6, 160, 160, 10) tmp shape\n",
            "msk shape: (960, 960, 10)\n",
            "img shape: (3348, 3403)\n",
            "img_mask within mask for polygons (3348, 3403)\n"
          ],
          "name": "stdout"
        },
        {
          "output_type": "display_data",
          "data": {
            "text/plain": [
              "<Figure size 432x288 with 0 Axes>"
            ]
          },
          "metadata": {
            "tags": []
          }
        },
        {
          "output_type": "display_data",
          "data": {
            "image/png": "[encoded data removed]",
            "text/plain": [
              "<Figure size 1440x720 with 3 Axes>"
            ]
          },
          "metadata": {
            "tags": []
          }
        }
      ]
    },
    {
      "cell_type": "code",
      "metadata": {
        "id": "W_G6WxXCrFqA",
        "colab_type": "code",
        "colab": {}
      },
      "source": [
        "%whos"
      ],
      "execution_count": 0,
      "outputs": []
    },
    {
      "cell_type": "code",
      "metadata": {
        "id": "1T8y-UaZF757",
        "colab_type": "code",
        "outputId": "dccb8c8d-07d6-497e-eb06-7f85f4d8dbc1",
        "colab": {
          "base_uri": "https://localhost:8080/",
          "height": 493
        }
      },
      "source": [
        "stick_all_train()\n"
      ],
      "execution_count": 0,
      "outputs": [
        {
          "output_type": "stream",
          "text": [
            "let's stick all imgs together\n",
            "Length of ids here: 25\n",
            "Post-stretching of img here: (3349, 3396, 3) 6010_1_2 1.0 0.0\n",
            "Post-stretching of img here: (3345, 3396, 3) 6010_4_2 1.0 0.0\n",
            "Post-stretching of img here: (3345, 3393, 3) 6010_4_4 1.0 0.0\n",
            "Post-stretching of img here: (3349, 3391, 3) 6040_1_0 1.0 0.0\n",
            "Post-stretching of img here: (3349, 3391, 3) 6040_1_3 1.0 0.0\n",
            "Post-stretching of img here: (3349, 3391, 3) 6040_2_2 1.0 0.0\n",
            "Post-stretching of img here: (3346, 3387, 3) 6040_4_4 1.0 0.0\n",
            "Post-stretching of img here: (3348, 3403, 3) 6060_2_3 1.0 0.0\n",
            "Post-stretching of img here: (3350, 3338, 3) 6070_2_3 1.0 0.0\n",
            "Post-stretching of img here: (3349, 3393, 3) 6090_2_0 1.0 0.0\n",
            "Post-stretching of img here: (3349, 3391, 3) 6100_1_3 1.0 0.0\n",
            "Post-stretching of img here: (3349, 3391, 3) 6100_2_2 1.0 0.0\n",
            "Post-stretching of img here: (3349, 3391, 3) 6100_2_3 1.0 0.0\n",
            "Post-stretching of img here: (3348, 3396, 3) 6110_1_2 1.0 0.0\n",
            "Post-stretching of img here: (3348, 3396, 3) 6110_3_1 1.0 0.0\n",
            "Post-stretching of img here: (3348, 3396, 3) 6110_4_0 1.0 0.0\n",
            "Post-stretching of img here: (3348, 3403, 3) 6120_2_0 1.0 0.0\n",
            "Post-stretching of img here: (3348, 3403, 3) 6120_2_2 1.0 0.0\n",
            "Post-stretching of img here: (3348, 3396, 3) 6140_1_2 1.0 0.0\n",
            "Post-stretching of img here: (3348, 3396, 3) 6140_3_1 1.0 0.0\n",
            "Post-stretching of img here: (3348, 3403, 3) 6150_2_3 1.0 0.0\n",
            "Post-stretching of img here: (3349, 3393, 3) 6160_2_1 1.0 0.0\n",
            "Post-stretching of img here: (3349, 3389, 3) 6170_0_4 1.0 0.0\n",
            "Post-stretching of img here: (3349, 3389, 3) 6170_2_4 1.0 0.0\n",
            "Post-stretching of img here: (3345, 3393, 3) 6170_4_1 1.0 0.0\n",
            "amax(y), amin(y): 1.0 0.0\n"
          ],
          "name": "stdout"
        }
      ]
    },
    {
      "cell_type": "code",
      "metadata": {
        "id": "xXnzjkm3F8-u",
        "colab_type": "code",
        "outputId": "41305b74-0146-4f6a-f4d6-f332e28cd10c",
        "colab": {
          "base_uri": "https://localhost:8080/",
          "height": 51
        }
      },
      "source": [
        "make_val()"
      ],
      "execution_count": 0,
      "outputs": [
        {
          "output_type": "stream",
          "text": [
            "let's pick some samples for validation\n",
            "get_patches result: (1138, 160, 160, 3) (1138, 160, 160, 10) 1.0 -1.0 1.0 0.0\n"
          ],
          "name": "stdout"
        }
      ]
    },
    {
      "cell_type": "code",
      "metadata": {
        "id": "Fcv3PjozX3CW",
        "colab_type": "code",
        "colab": {}
      },
      "source": [
        "history, model, x_val, y_val = train_net()"
      ],
      "execution_count": 0,
      "outputs": []
    },
    {
      "cell_type": "code",
      "metadata": {
        "id": "buRctsutle5u",
        "colab_type": "code",
        "colab": {}
      },
      "source": [
        "%whos"
      ],
      "execution_count": 0,
      "outputs": []
    },
    {
      "cell_type": "code",
      "metadata": {
        "id": "chcWUYwzgpuP",
        "colab_type": "code",
        "outputId": "99a880f0-766e-4485-a5d9-4d30eb22dc41",
        "colab": {
          "base_uri": "https://localhost:8080/",
          "height": 275
        }
      },
      "source": [
        "\n",
        "\n",
        "score, trs = calc_jacc(x_val, y_val, model)\n"
      ],
      "execution_count": 0,
      "outputs": [
        {
          "output_type": "stream",
          "text": [
            "x_val, y_val, loaded within calc_jacc\n",
            "x_val.shape & y_val.shape within calc_jacc (1138, 160, 160, 3) (1138, 160, 160, 10)\n"
          ],
          "name": "stdout"
        },
        {
          "output_type": "stream",
          "text": [
            "/usr/local/lib/python3.6/dist-packages/sklearn/metrics/_classification.py:664: FutureWarning: jaccard_similarity_score has been deprecated and replaced with jaccard_score. It will be removed in version 0.23. This implementation has surprising behavior for binary and multiclass classification tasks.\n",
            "  FutureWarning)\n"
          ],
          "name": "stderr"
        },
        {
          "output_type": "stream",
          "text": [
            "i, m, b_tr, within calc_jacc 0 -:- 0.8959310282442624 -:- 0.4\n",
            "i, m, b_tr, within calc_jacc 1 -:- 0.7877863912043634 -:- 0.4\n",
            "i, m, b_tr, within calc_jacc 2 -:- 0.9875198611954216 -:- 0.4\n",
            "i, m, b_tr, within calc_jacc 3 -:- 0.8273619667708654 -:- 0.4\n",
            "i, m, b_tr, within calc_jacc 4 -:- 0.8289043075026186 -:- 0.5\n",
            "i, m, b_tr, within calc_jacc 5 -:- 0.9657760386026245 -:- 0.9\n",
            "i, m, b_tr, within calc_jacc 6 -:- 0.9958781984660556 -:- 0.7\n",
            "i, m, b_tr, within calc_jacc 7 -:- 0.9973707652675896 -:- 0.2\n",
            "i, m, b_tr, within calc_jacc 8 -:- 0.9935779132680901 -:- 0.3\n",
            "i, m, b_tr, within calc_jacc 9 -:- 0.9674652560460457 -:- 0.3\n"
          ],
          "name": "stdout"
        }
      ]
    },
    {
      "cell_type": "code",
      "metadata": {
        "id": "xXJE74hAgpya",
        "colab_type": "code",
        "colab": {}
      },
      "source": [
        "predict_test(model, trs)\n"
      ],
      "execution_count": 0,
      "outputs": []
    },
    {
      "cell_type": "code",
      "metadata": {
        "id": "XxTWV-3oveZy",
        "colab_type": "code",
        "outputId": "b1ec8a9c-03a5-4d0d-f78e-deef233a876c",
        "colab": {
          "base_uri": "https://localhost:8080/",
          "height": 1000
        }
      },
      "source": [
        "model.summary()"
      ],
      "execution_count": 0,
      "outputs": [
        {
          "output_type": "stream",
          "text": [
            "Model: \"unet_model\"\n",
            "__________________________________________________________________________________________________\n",
            "Layer (type)                    Output Shape         Param #     Connected to                     \n",
            "==================================================================================================\n",
            "input_1 (InputLayer)            [(None, 160, 160, 8) 0                                            \n",
            "__________________________________________________________________________________________________\n",
            "conv2d (Conv2D)                 (None, 160, 160, 32) 2336        input_1[0][0]                    \n",
            "__________________________________________________________________________________________________\n",
            "conv2d_1 (Conv2D)               (None, 160, 160, 32) 9248        conv2d[0][0]                     \n",
            "__________________________________________________________________________________________________\n",
            "max_pooling2d (MaxPooling2D)    (None, 80, 80, 32)   0           conv2d_1[0][0]                   \n",
            "__________________________________________________________________________________________________\n",
            "conv2d_2 (Conv2D)               (None, 80, 80, 64)   18496       max_pooling2d[0][0]              \n",
            "__________________________________________________________________________________________________\n",
            "conv2d_3 (Conv2D)               (None, 80, 80, 64)   36928       conv2d_2[0][0]                   \n",
            "__________________________________________________________________________________________________\n",
            "max_pooling2d_1 (MaxPooling2D)  (None, 40, 40, 64)   0           conv2d_3[0][0]                   \n",
            "__________________________________________________________________________________________________\n",
            "conv2d_4 (Conv2D)               (None, 40, 40, 128)  73856       max_pooling2d_1[0][0]            \n",
            "__________________________________________________________________________________________________\n",
            "conv2d_5 (Conv2D)               (None, 40, 40, 128)  147584      conv2d_4[0][0]                   \n",
            "__________________________________________________________________________________________________\n",
            "max_pooling2d_2 (MaxPooling2D)  (None, 20, 20, 128)  0           conv2d_5[0][0]                   \n",
            "__________________________________________________________________________________________________\n",
            "conv2d_6 (Conv2D)               (None, 20, 20, 256)  295168      max_pooling2d_2[0][0]            \n",
            "__________________________________________________________________________________________________\n",
            "conv2d_7 (Conv2D)               (None, 20, 20, 256)  590080      conv2d_6[0][0]                   \n",
            "__________________________________________________________________________________________________\n",
            "max_pooling2d_3 (MaxPooling2D)  (None, 10, 10, 256)  0           conv2d_7[0][0]                   \n",
            "__________________________________________________________________________________________________\n",
            "conv2d_8 (Conv2D)               (None, 10, 10, 512)  1180160     max_pooling2d_3[0][0]            \n",
            "__________________________________________________________________________________________________\n",
            "conv2d_9 (Conv2D)               (None, 10, 10, 512)  2359808     conv2d_8[0][0]                   \n",
            "__________________________________________________________________________________________________\n",
            "up_sampling2d (UpSampling2D)    (None, 20, 20, 512)  0           conv2d_9[0][0]                   \n",
            "__________________________________________________________________________________________________\n",
            "concatenate (Concatenate)       (None, 20, 20, 768)  0           up_sampling2d[0][0]              \n",
            "                                                                 conv2d_7[0][0]                   \n",
            "__________________________________________________________________________________________________\n",
            "conv2d_10 (Conv2D)              (None, 20, 20, 256)  1769728     concatenate[0][0]                \n",
            "__________________________________________________________________________________________________\n",
            "conv2d_11 (Conv2D)              (None, 20, 20, 256)  590080      conv2d_10[0][0]                  \n",
            "__________________________________________________________________________________________________\n",
            "up_sampling2d_1 (UpSampling2D)  (None, 40, 40, 256)  0           conv2d_11[0][0]                  \n",
            "__________________________________________________________________________________________________\n",
            "concatenate_1 (Concatenate)     (None, 40, 40, 384)  0           up_sampling2d_1[0][0]            \n",
            "                                                                 conv2d_5[0][0]                   \n",
            "__________________________________________________________________________________________________\n",
            "conv2d_12 (Conv2D)              (None, 40, 40, 128)  442496      concatenate_1[0][0]              \n",
            "__________________________________________________________________________________________________\n",
            "conv2d_13 (Conv2D)              (None, 40, 40, 128)  147584      conv2d_12[0][0]                  \n",
            "__________________________________________________________________________________________________\n",
            "up_sampling2d_2 (UpSampling2D)  (None, 80, 80, 128)  0           conv2d_13[0][0]                  \n",
            "__________________________________________________________________________________________________\n",
            "concatenate_2 (Concatenate)     (None, 80, 80, 192)  0           up_sampling2d_2[0][0]            \n",
            "                                                                 conv2d_3[0][0]                   \n",
            "__________________________________________________________________________________________________\n",
            "conv2d_14 (Conv2D)              (None, 80, 80, 64)   110656      concatenate_2[0][0]              \n",
            "__________________________________________________________________________________________________\n",
            "conv2d_15 (Conv2D)              (None, 80, 80, 64)   36928       conv2d_14[0][0]                  \n",
            "__________________________________________________________________________________________________\n",
            "up_sampling2d_3 (UpSampling2D)  (None, 160, 160, 64) 0           conv2d_15[0][0]                  \n",
            "__________________________________________________________________________________________________\n",
            "concatenate_3 (Concatenate)     (None, 160, 160, 96) 0           up_sampling2d_3[0][0]            \n",
            "                                                                 conv2d_1[0][0]                   \n",
            "__________________________________________________________________________________________________\n",
            "conv2d_16 (Conv2D)              (None, 160, 160, 32) 27680       concatenate_3[0][0]              \n",
            "__________________________________________________________________________________________________\n",
            "conv2d_17 (Conv2D)              (None, 160, 160, 32) 9248        conv2d_16[0][0]                  \n",
            "__________________________________________________________________________________________________\n",
            "conv2d_18 (Conv2D)              (None, 160, 160, 10) 330         conv2d_17[0][0]                  \n",
            "==================================================================================================\n",
            "Total params: 7,848,394\n",
            "Trainable params: 7,848,394\n",
            "Non-trainable params: 0\n",
            "__________________________________________________________________________________________________\n"
          ],
          "name": "stdout"
        }
      ]
    },
    {
      "cell_type": "code",
      "metadata": {
        "id": "RINZc0qhgp1q",
        "colab_type": "code",
        "outputId": "82707c56-a18d-4196-ce43-e78e5266f2d8",
        "colab": {
          "base_uri": "https://localhost:8080/",
          "height": 1000
        }
      },
      "source": [
        "check_predict(model)"
      ],
      "execution_count": 0,
      "outputs": [
        {
          "output_type": "stream",
          "text": [
            "(3348, 3403, 3) img shape\n",
            "(3348, 3403, 3) x shape\n",
            "(3650, 3650, 3) (3348, 3403, 3) 3348 3403 (3348, 3403, 3)\n",
            "(6, 160, 160, 10) tmp shape\n",
            "(6, 160, 160, 10) tmp shape\n",
            "(6, 160, 160, 10) tmp shape\n",
            "(6, 160, 160, 10) tmp shape\n",
            "(6, 160, 160, 10) tmp shape\n",
            "(6, 160, 160, 10) tmp shape\n",
            "msk shape: (960, 960, 10)\n",
            "img shape: (3348, 3403)\n"
          ],
          "name": "stdout"
        },
        {
          "output_type": "error",
          "ename": "IndexError",
          "evalue": "ignored",
          "traceback": [
            "\u001b[0;31m---------------------------------------------------------------------------\u001b[0m",
            "\u001b[0;31mIndexError\u001b[0m                                Traceback (most recent call last)",
            "\u001b[0;32m<ipython-input-60-539d7a3ef8ba>\u001b[0m in \u001b[0;36m<module>\u001b[0;34m()\u001b[0m\n\u001b[0;32m----> 1\u001b[0;31m \u001b[0mcheck_predict\u001b[0m\u001b[0;34m(\u001b[0m\u001b[0mmodel\u001b[0m\u001b[0;34m)\u001b[0m\u001b[0;34m\u001b[0m\u001b[0;34m\u001b[0m\u001b[0m\n\u001b[0m",
            "\u001b[0;32m<ipython-input-43-b2ee1598be61>\u001b[0m in \u001b[0;36mcheck_predict\u001b[0;34m(model, id)\u001b[0m\n\u001b[1;32m     14\u001b[0m     \u001b[0max1\u001b[0m \u001b[0;34m=\u001b[0m \u001b[0mplt\u001b[0m\u001b[0;34m.\u001b[0m\u001b[0msubplot\u001b[0m\u001b[0;34m(\u001b[0m\u001b[0;36m131\u001b[0m\u001b[0;34m)\u001b[0m\u001b[0;34m\u001b[0m\u001b[0;34m\u001b[0m\u001b[0m\n\u001b[1;32m     15\u001b[0m     \u001b[0max1\u001b[0m\u001b[0;34m.\u001b[0m\u001b[0mset_title\u001b[0m\u001b[0;34m(\u001b[0m\u001b[0;34m'image ID:6120_2_3'\u001b[0m\u001b[0;34m)\u001b[0m\u001b[0;34m\u001b[0m\u001b[0;34m\u001b[0m\u001b[0m\n\u001b[0;32m---> 16\u001b[0;31m     \u001b[0max1\u001b[0m\u001b[0;34m.\u001b[0m\u001b[0mimshow\u001b[0m\u001b[0;34m(\u001b[0m\u001b[0mimg\u001b[0m\u001b[0;34m[\u001b[0m\u001b[0;34m:\u001b[0m\u001b[0;34m,\u001b[0m \u001b[0;34m:\u001b[0m\u001b[0;34m,\u001b[0m \u001b[0;36m5\u001b[0m\u001b[0;34m]\u001b[0m\u001b[0;34m,\u001b[0m \u001b[0mcmap\u001b[0m\u001b[0;34m=\u001b[0m\u001b[0mplt\u001b[0m\u001b[0;34m.\u001b[0m\u001b[0mget_cmap\u001b[0m\u001b[0;34m(\u001b[0m\u001b[0;34m'gist_ncar'\u001b[0m\u001b[0;34m)\u001b[0m\u001b[0;34m)\u001b[0m\u001b[0;34m\u001b[0m\u001b[0;34m\u001b[0m\u001b[0m\n\u001b[0m\u001b[1;32m     17\u001b[0m     \u001b[0max2\u001b[0m \u001b[0;34m=\u001b[0m \u001b[0mplt\u001b[0m\u001b[0;34m.\u001b[0m\u001b[0msubplot\u001b[0m\u001b[0;34m(\u001b[0m\u001b[0;36m132\u001b[0m\u001b[0;34m)\u001b[0m\u001b[0;34m\u001b[0m\u001b[0;34m\u001b[0m\u001b[0m\n\u001b[1;32m     18\u001b[0m     \u001b[0max2\u001b[0m\u001b[0;34m.\u001b[0m\u001b[0mset_title\u001b[0m\u001b[0;34m(\u001b[0m\u001b[0;34m'predict bldg pixels'\u001b[0m\u001b[0;34m)\u001b[0m\u001b[0;34m\u001b[0m\u001b[0;34m\u001b[0m\u001b[0m\n",
            "\u001b[0;31mIndexError\u001b[0m: index 5 is out of bounds for axis 2 with size 3"
          ]
        },
        {
          "output_type": "display_data",
          "data": {
            "text/plain": [
              "<Figure size 432x288 with 0 Axes>"
            ]
          },
          "metadata": {
            "tags": []
          }
        },
        {
          "output_type": "display_data",
          "data": {
            "image/png": "[encoded data removed]",
            "text/plain": [
              "<Figure size 1440x720 with 1 Axes>"
            ]
          },
          "metadata": {
            "tags": []
          }
        }
      ]
    },
    {
      "cell_type": "code",
      "metadata": {
        "id": "P0D3twasTXBK",
        "colab_type": "code",
        "colab": {}
      },
      "source": [
        "\n",
        "\n",
        "\n",
        "\n",
        "def make_submit():\n",
        "    print \"make submission file\"\n",
        "    df = pd.read_csv(os.path.join(inDir, 'sample_submission.csv'))\n",
        "    print df.head()\n",
        "    for idx, row in df.iterrows():\n",
        "        id = row[0]\n",
        "        kls = row[1] - 1\n",
        "\n",
        "        msk = np.load('msk/10_%s.npy' % id)[kls]\n",
        "        pred_polygons = mask_to_polygons(msk)\n",
        "        x_max = GS.loc[GS['ImageId'] == id, 'Xmax'].as_matrix()[0]\n",
        "        y_min = GS.loc[GS['ImageId'] == id, 'Ymin'].as_matrix()[0]\n",
        "\n",
        "        x_scaler, y_scaler = get_scalers(msk.shape, x_max, y_min)\n",
        "\n",
        "        scaled_pred_polygons = shapely.affinity.scale(pred_polygons, xfact=1.0 / x_scaler, yfact=1.0 / y_scaler,\n",
        "                                                      origin=(0, 0, 0))\n",
        "\n",
        "        df.iloc[idx, 2] = shapely.wkt.dumps(scaled_pred_polygons)\n",
        "        if idx % 100 == 0: print idx\n",
        "    print df.head()\n",
        "    df.to_csv('subm/1.csv', index=False)\n",
        "\n",
        "\n",
        "if __name__ == '__main__':\n",
        "    stick_all_train()\n",
        "    make_val()\n",
        "    model = train_net()\n",
        "    score, trs = calc_jacc(model)\n",
        "    predict_test(model, trs)\n",
        "    make_submit()\n",
        "\n",
        "    # bonus\n",
        "    check_predict()"
      ],
      "execution_count": 0,
      "outputs": []
    },
    {
      "cell_type": "code",
      "metadata": {
        "id": "Lrdo1MyUTaQ2",
        "colab_type": "code",
        "colab": {}
      },
      "source": [
        "  "
      ],
      "execution_count": 0,
      "outputs": []
    },
    {
      "cell_type": "code",
      "metadata": {
        "id": "Kb0lbJsGTd8y",
        "colab_type": "code",
        "colab": {}
      },
      "source": [
        ""
      ],
      "execution_count": 0,
      "outputs": []
    },
    {
      "cell_type": "code",
      "metadata": {
        "id": "NuvB2ARcUaUN",
        "colab_type": "code",
        "colab": {}
      },
      "source": [
        ""
      ],
      "execution_count": 0,
      "outputs": []
    },
    {
      "cell_type": "code",
      "metadata": {
        "id": "f0jMbE5zUc9L",
        "colab_type": "code",
        "colab": {}
      },
      "source": [
        ""
      ],
      "execution_count": 0,
      "outputs": []
    },
    {
      "cell_type": "code",
      "metadata": {
        "id": "7SoolPnvVDBb",
        "colab_type": "code",
        "colab": {}
      },
      "source": [
        ""
      ],
      "execution_count": 0,
      "outputs": []
    },
    {
      "cell_type": "code",
      "metadata": {
        "id": "S5c7at1QVHGO",
        "colab_type": "code",
        "colab": {}
      },
      "source": [
        ""
      ],
      "execution_count": 0,
      "outputs": []
    },
    {
      "cell_type": "code",
      "metadata": {
        "id": "vdpdhsQlVJK_",
        "colab_type": "code",
        "colab": {}
      },
      "source": [
        ""
      ],
      "execution_count": 0,
      "outputs": []
    }
  ]
}