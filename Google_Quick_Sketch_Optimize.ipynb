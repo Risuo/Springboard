{
  "nbformat": 4,
  "nbformat_minor": 0,
  "metadata": {
    "colab": {
      "name": "Google Quick Sketch Optimize.ipynb",
      "provenance": [],
      "machine_shape": "hm",
      "authorship_tag": "ABX9TyPslwjUw8BYgpmQu/VzDswF",
      "include_colab_link": true
    },
    "kernelspec": {
      "name": "python3",
      "display_name": "Python 3"
    },
    "accelerator": "GPU"
  },
  "cells": [
    {
      "cell_type": "markdown",
      "metadata": {
        "id": "view-in-github",
        "colab_type": "text"
      },
      "source": [
        "<a href=\"https://colab.research.google.com/github/Risuo/Springboard/blob/master/Google_Quick_Sketch_Optimize.ipynb\" target=\"_parent\"><img src=\"https://colab.research.google.com/assets/colab-badge.svg\" alt=\"Open In Colab\"/></a>"
      ]
    },
    {
      "cell_type": "code",
      "metadata": {
        "id": "fVLflrd0AdxD",
        "colab_type": "code",
        "colab": {}
      },
      "source": [
        ""
      ],
      "execution_count": 0,
      "outputs": []
    },
    {
      "cell_type": "code",
      "metadata": {
        "id": "3weN8WnEAjwZ",
        "colab_type": "code",
        "outputId": "5db7be26-b528-4757-bf8e-3455e4e730e3",
        "colab": {
          "base_uri": "https://localhost:8080/",
          "height": 122
        }
      },
      "source": [
        "from google.colab import drive\n",
        "drive.mount('/content/drive')"
      ],
      "execution_count": 0,
      "outputs": [
        {
          "output_type": "stream",
          "text": [
            "Go to this URL in a browser: https://accounts.google.com/o/oauth2/auth?client_id=947318989803-6bn6qk8qdgf4n4g3pfee6491hc0brc4i.apps.googleusercontent.com&redirect_uri=urn%3aietf%3awg%3aoauth%3a2.0%3aoob&response_type=code&scope=email%20https%3a%2f%2fwww.googleapis.com%2fauth%2fdocs.test%20https%3a%2f%2fwww.googleapis.com%2fauth%2fdrive%20https%3a%2f%2fwww.googleapis.com%2fauth%2fdrive.photos.readonly%20https%3a%2f%2fwww.googleapis.com%2fauth%2fpeopleapi.readonly\n",
            "\n",
            "Enter your authorization code:\n",
            "··········\n",
            "Mounted at /content/drive\n"
          ],
          "name": "stdout"
        }
      ]
    },
    {
      "cell_type": "code",
      "metadata": {
        "id": "Gfchzce0AkbS",
        "colab_type": "code",
        "outputId": "cbb6de2a-9d56-4a7f-b531-c55d3e8b1f1b",
        "colab": {
          "base_uri": "https://localhost:8080/",
          "height": 63
        }
      },
      "source": [
        "import tensorflow as tf\n",
        "import numpy as np\n",
        "from tensorflow import keras\n",
        "from google.colab import files\n",
        "import distutils\n",
        "import os\n",
        "if distutils.version.LooseVersion(tf.__version__) < '1.14':\n",
        "  raise Exception ('No go, use Tensorflow 1.14 or newer')"
      ],
      "execution_count": 0,
      "outputs": [
        {
          "output_type": "display_data",
          "data": {
            "text/html": [
              "<p style=\"color: red;\">\n",
              "The default version of TensorFlow in Colab will soon switch to TensorFlow 2.x.<br>\n",
              "We recommend you <a href=\"https://www.tensorflow.org/guide/migrate\" target=\"_blank\">upgrade</a> now \n",
              "or ensure your notebook will continue to use TensorFlow 1.x via the <code>%tensorflow_version 1.x</code> magic:\n",
              "<a href=\"https://colab.research.google.com/notebooks/tensorflow_version.ipynb\" target=\"_blank\">more info</a>.</p>\n"
            ],
            "text/plain": [
              "<IPython.core.display.HTML object>"
            ]
          },
          "metadata": {
            "tags": []
          }
        }
      ]
    },
    {
      "cell_type": "code",
      "metadata": {
        "id": "4v2HFk1QBF9K",
        "colab_type": "code",
        "outputId": "297a0142-e994-4f87-9170-9e37c2f19813",
        "colab": {
          "base_uri": "https://localhost:8080/",
          "height": 170
        }
      },
      "source": [
        "%whos"
      ],
      "execution_count": 0,
      "outputs": [
        {
          "output_type": "stream",
          "text": [
            "Variable    Type               Data/Info\n",
            "----------------------------------------\n",
            "distutils   module             <module 'distutils' from <...>6/distutils/__init__.py'>\n",
            "drive       module             <module 'google.colab.dri<...>s/google/colab/drive.py'>\n",
            "files       module             <module 'google.colab.fil<...>s/google/colab/files.py'>\n",
            "keras       TFModuleWrapper    <module 'tensorflow.pytho<...>i/_v1/keras/__init__.py'>\n",
            "np          module             <module 'numpy' from '/us<...>kages/numpy/__init__.py'>\n",
            "os          module             <module 'os' from '/usr/lib/python3.6/os.py'>\n",
            "tf          TFModuleWrapper    <module 'tensorflow' from<...>/tensorflow/__init__.py'>\n"
          ],
          "name": "stdout"
        }
      ]
    },
    {
      "cell_type": "code",
      "metadata": {
        "id": "TvRIUB1JBJRo",
        "colab_type": "code",
        "colab": {}
      },
      "source": [
        "class_names = np.load('/content/drive/My Drive/Springboard era ML AI/Quick Draw Doodle Project/class_names.npy')"
      ],
      "execution_count": 0,
      "outputs": []
    },
    {
      "cell_type": "code",
      "metadata": {
        "id": "4FFpIxAvBY5x",
        "colab_type": "code",
        "colab": {}
      },
      "source": [
        "x_train = np.load('/content/drive/My Drive/Springboard era ML AI/Quick Draw Doodle Project/Quarter-Size Datasets/x_train_q.npy')"
      ],
      "execution_count": 0,
      "outputs": []
    },
    {
      "cell_type": "code",
      "metadata": {
        "id": "9pCcV08gBg8n",
        "colab_type": "code",
        "colab": {}
      },
      "source": [
        "y_train = np.load('/content/drive/My Drive/Springboard era ML AI/Quick Draw Doodle Project/Quarter-Size Datasets/y_train_q.npy')"
      ],
      "execution_count": 0,
      "outputs": []
    },
    {
      "cell_type": "code",
      "metadata": {
        "id": "-IDZxPYnB8oz",
        "colab_type": "code",
        "colab": {}
      },
      "source": [
        "x_test = np.load('/content/drive/My Drive/Springboard era ML AI/Quick Draw Doodle Project/Quarter-Size Datasets/x_test_q.npy')"
      ],
      "execution_count": 0,
      "outputs": []
    },
    {
      "cell_type": "code",
      "metadata": {
        "id": "89MltpXDB8uu",
        "colab_type": "code",
        "colab": {}
      },
      "source": [
        "y_test = np.load('/content/drive/My Drive/Springboard era ML AI/Quick Draw Doodle Project/Quarter-Size Datasets/y_test_q.npy')"
      ],
      "execution_count": 0,
      "outputs": []
    },
    {
      "cell_type": "code",
      "metadata": {
        "id": "m2Ej2Ky3CbKG",
        "colab_type": "code",
        "outputId": "9a177328-57c2-437a-ca70-19a353e75763",
        "colab": {
          "base_uri": "https://localhost:8080/",
          "height": 102
        }
      },
      "source": [
        "print(x_train.shape)\n",
        "print(y_train.shape)\n",
        "print(x_test.shape)\n",
        "print(y_test.shape)\n",
        "num_classes = len(class_names)\n",
        "print(num_classes)"
      ],
      "execution_count": 0,
      "outputs": [
        {
          "output_type": "stream",
          "text": [
            "(1656000, 28, 28, 1)\n",
            "(1656000, 345)\n",
            "(414000, 28, 28, 1)\n",
            "(414000, 345)\n",
            "345\n"
          ],
          "name": "stdout"
        }
      ]
    },
    {
      "cell_type": "code",
      "metadata": {
        "id": "yajtIBKZdZoh",
        "colab_type": "code",
        "colab": {}
      },
      "source": [
        "x_train = x_train.astype('float32')\n",
        "x_test = x_test.astype('float32')"
      ],
      "execution_count": 0,
      "outputs": []
    },
    {
      "cell_type": "code",
      "metadata": {
        "id": "3p1mLJzDdZwj",
        "colab_type": "code",
        "colab": {}
      },
      "source": [
        "x_train /= 255.0\n",
        "x_test /= 255.0"
      ],
      "execution_count": 0,
      "outputs": []
    },
    {
      "cell_type": "code",
      "metadata": {
        "id": "Fd63lKfcDi2i",
        "colab_type": "code",
        "colab": {}
      },
      "source": [
        "x_train_l = x_train[:1606000]\n",
        "y_train_l = y_train[:1606000]\n",
        "\n",
        "#x_test_s = x_test[:10000]\n",
        "#y_test_s = y_test[:10000]\n",
        "\n",
        "x_val = x_train[-50000:]\n",
        "y_val = y_train[-50000:]"
      ],
      "execution_count": 0,
      "outputs": []
    },
    {
      "cell_type": "code",
      "metadata": {
        "id": "a-m-s2HBEWNT",
        "colab_type": "code",
        "outputId": "39d310e1-89c4-4c66-9dc0-24783c287182",
        "colab": {
          "base_uri": "https://localhost:8080/",
          "height": 119
        }
      },
      "source": [
        "print(x_train_s.shape)\n",
        "print(y_train_s.shape)\n",
        "\n",
        "print(x_test_s.shape)\n",
        "print(y_test_s.shape)\n",
        "\n",
        "print(x_val.shape)\n",
        "print(y_val.shape)\n"
      ],
      "execution_count": 0,
      "outputs": [
        {
          "output_type": "stream",
          "text": [
            "(60000, 28, 28, 1)\n",
            "(60000, 345)\n",
            "(10000, 28, 28, 1)\n",
            "(10000, 345)\n",
            "(5000, 28, 28, 1)\n",
            "(5000, 345)\n"
          ],
          "name": "stdout"
        }
      ]
    },
    {
      "cell_type": "code",
      "metadata": {
        "id": "D7x_rGiHBGvT",
        "colab_type": "code",
        "colab": {}
      },
      "source": [
        ""
      ],
      "execution_count": 0,
      "outputs": []
    },
    {
      "cell_type": "code",
      "metadata": {
        "id": "lzdfyZrxEdnY",
        "colab_type": "code",
        "colab": {}
      },
      "source": [
        "from tensorflow.python.keras import backend as K\n",
        "from tensorflow.python.keras.models import Sequential\n",
        "from tensorflow.python.keras.layers import InputLayer, Input\n",
        "from tensorflow.python.keras.layers import Reshape, MaxPooling2D\n",
        "from tensorflow.python.keras.layers import Conv2D, Dense, Flatten, BatchNormalization\n",
        "from tensorflow.python.keras.callbacks import TensorBoard\n",
        "from tensorflow.python.keras.optimizers import Adam\n",
        "from tensorflow.python.keras.models import load_model \n",
        "%matplotlib inline\n",
        "import matplotlib.pyplot as plt"
      ],
      "execution_count": 0,
      "outputs": []
    },
    {
      "cell_type": "code",
      "metadata": {
        "id": "5tCkQ7koEjQ-",
        "colab_type": "code",
        "outputId": "f78f2aa8-14ee-4376-ceac-d4298351d49d",
        "colab": {
          "base_uri": "https://localhost:8080/",
          "height": 224
        }
      },
      "source": [
        "!pip install h5py scikit-optimize"
      ],
      "execution_count": 0,
      "outputs": [
        {
          "output_type": "stream",
          "text": [
            "Requirement already satisfied: h5py in /usr/local/lib/python3.6/dist-packages (2.8.0)\n",
            "Collecting scikit-optimize\n",
            "\u001b[?25l  Downloading https://files.pythonhosted.org/packages/f4/44/60f82c97d1caa98752c7da2c1681cab5c7a390a0fdd3a55fac672b321cac/scikit_optimize-0.5.2-py2.py3-none-any.whl (74kB)\n",
            "\u001b[K     |████████████████████████████████| 81kB 2.0MB/s \n",
            "\u001b[?25hRequirement already satisfied: six in /usr/local/lib/python3.6/dist-packages (from h5py) (1.12.0)\n",
            "Requirement already satisfied: numpy>=1.7 in /usr/local/lib/python3.6/dist-packages (from h5py) (1.17.5)\n",
            "Requirement already satisfied: scipy>=0.14.0 in /usr/local/lib/python3.6/dist-packages (from scikit-optimize) (1.4.1)\n",
            "Requirement already satisfied: scikit-learn>=0.19.1 in /usr/local/lib/python3.6/dist-packages (from scikit-optimize) (0.22.1)\n",
            "Requirement already satisfied: joblib>=0.11 in /usr/local/lib/python3.6/dist-packages (from scikit-learn>=0.19.1->scikit-optimize) (0.14.1)\n",
            "Installing collected packages: scikit-optimize\n",
            "Successfully installed scikit-optimize-0.5.2\n"
          ],
          "name": "stdout"
        }
      ]
    },
    {
      "cell_type": "code",
      "metadata": {
        "id": "yVPPik_OElXu",
        "colab_type": "code",
        "outputId": "18e88377-6594-4945-c85a-b2e9cad91e1a",
        "colab": {
          "base_uri": "https://localhost:8080/",
          "height": 105
        }
      },
      "source": [
        "import skopt\n",
        "from skopt import gp_minimize, forest_minimize\n",
        "from skopt.space import Real, Categorical, Integer\n",
        "from skopt.plots import plot_convergence\n",
        "from skopt.plots import plot_objective, plot_evaluations\n",
        "from skopt.utils import use_named_args"
      ],
      "execution_count": 0,
      "outputs": [
        {
          "output_type": "stream",
          "text": [
            "/usr/local/lib/python3.6/dist-packages/sklearn/externals/joblib/__init__.py:15: FutureWarning: sklearn.externals.joblib is deprecated in 0.21 and will be removed in 0.23. Please import this functionality directly from joblib, which can be installed with: pip install joblib. If this warning is raised when loading pickled models, you may need to re-serialize those models with scikit-learn 0.21+.\n",
            "  warnings.warn(msg, category=FutureWarning)\n",
            "/usr/local/lib/python3.6/dist-packages/sklearn/utils/deprecation.py:144: FutureWarning: The sklearn.metrics.scorer module is  deprecated in version 0.22 and will be removed in version 0.24. The corresponding classes / functions should instead be imported from sklearn.metrics. Anything that cannot be imported from sklearn.metrics is now part of the private API.\n",
            "  warnings.warn(message, FutureWarning)\n"
          ],
          "name": "stderr"
        }
      ]
    },
    {
      "cell_type": "code",
      "metadata": {
        "id": "ZxqNDowEErcl",
        "colab_type": "code",
        "outputId": "ad1553cf-18ba-433f-be43-0173975b0908",
        "colab": {
          "base_uri": "https://localhost:8080/",
          "height": 231
        }
      },
      "source": [
        "print('Tensorflow version:', tf.__version__)\n",
        "print('Keras version:', tf.keras.__version__)\n",
        "print('Scikit optimize version:', skopt.__version__)"
      ],
      "execution_count": 0,
      "outputs": [
        {
          "output_type": "stream",
          "text": [
            "Tensorflow version: 1.15.0\n",
            "Keras version: 2.2.4-tf\n"
          ],
          "name": "stdout"
        },
        {
          "output_type": "error",
          "ename": "NameError",
          "evalue": "ignored",
          "traceback": [
            "\u001b[0;31m---------------------------------------------------------------------------\u001b[0m",
            "\u001b[0;31mNameError\u001b[0m                                 Traceback (most recent call last)",
            "\u001b[0;32m<ipython-input-5-20681502dad2>\u001b[0m in \u001b[0;36m<module>\u001b[0;34m()\u001b[0m\n\u001b[1;32m      1\u001b[0m \u001b[0mprint\u001b[0m\u001b[0;34m(\u001b[0m\u001b[0;34m'Tensorflow version:'\u001b[0m\u001b[0;34m,\u001b[0m \u001b[0mtf\u001b[0m\u001b[0;34m.\u001b[0m\u001b[0m__version__\u001b[0m\u001b[0;34m)\u001b[0m\u001b[0;34m\u001b[0m\u001b[0;34m\u001b[0m\u001b[0m\n\u001b[1;32m      2\u001b[0m \u001b[0mprint\u001b[0m\u001b[0;34m(\u001b[0m\u001b[0;34m'Keras version:'\u001b[0m\u001b[0;34m,\u001b[0m \u001b[0mtf\u001b[0m\u001b[0;34m.\u001b[0m\u001b[0mkeras\u001b[0m\u001b[0;34m.\u001b[0m\u001b[0m__version__\u001b[0m\u001b[0;34m)\u001b[0m\u001b[0;34m\u001b[0m\u001b[0;34m\u001b[0m\u001b[0m\n\u001b[0;32m----> 3\u001b[0;31m \u001b[0mprint\u001b[0m\u001b[0;34m(\u001b[0m\u001b[0;34m'Scikit optimize version:'\u001b[0m\u001b[0;34m,\u001b[0m \u001b[0mskopt\u001b[0m\u001b[0;34m.\u001b[0m\u001b[0m__version__\u001b[0m\u001b[0;34m)\u001b[0m\u001b[0;34m\u001b[0m\u001b[0;34m\u001b[0m\u001b[0m\n\u001b[0m",
            "\u001b[0;31mNameError\u001b[0m: name 'skopt' is not defined"
          ]
        }
      ]
    },
    {
      "cell_type": "code",
      "metadata": {
        "id": "3d4dxpIaEuEe",
        "colab_type": "code",
        "colab": {}
      },
      "source": [
        "def log_dir_name(learning_rate, num_dense_layers,\n",
        "                 num_dense_nodes, kernel_size, activation):\n",
        "\n",
        "    # The dir-name for the TensorBoard log-dir.\n",
        "    s = \"./doodle_GPU_logs/lr_{0:.0e}_layers_{1}_nodes_{2}_{3}/\"\n",
        "\n",
        "    # Insert all the hyper-parameters in the dir-name.\n",
        "    log_dir = s.format(learning_rate,\n",
        "                       num_dense_layers,\n",
        "                       num_dense_nodes,\n",
        "                       kernel_size,\n",
        "                       activation)\n",
        "\n",
        "    return log_dir"
      ],
      "execution_count": 0,
      "outputs": []
    },
    {
      "cell_type": "code",
      "metadata": {
        "id": "2CWmlFLO7VrO",
        "colab_type": "code",
        "colab": {}
      },
      "source": [
        "dim_learning_rate = Real(low = 1e-6, \n",
        "                         high = 1e-2, \n",
        "                         prior = 'log-uniform',\n",
        "                         name = 'learning_rate')\n",
        "\n",
        "dim_num_dense_layers = Integer(low = 1,\n",
        "                               high = 8,\n",
        "                               name = 'num_dense_layers')\n",
        "\n",
        "dim_num_dense_nodes = Integer(low = 5,\n",
        "                              high = 1024,\n",
        "                              name = 'num_dense_nodes')\n",
        "\n",
        "dim_kernel_size = Integer(low = 1,\n",
        "                          high = 4,\n",
        "                          name = 'kernel_size')\n",
        "\n",
        "dim_activation = Categorical(categories = ['relu', 'sigmoid', 'elu'],\n",
        "                             name = 'activation')\n",
        "\n",
        "\n",
        "\n"
      ],
      "execution_count": 0,
      "outputs": []
    },
    {
      "cell_type": "code",
      "metadata": {
        "id": "ETfZU4zpE1WK",
        "colab_type": "code",
        "colab": {}
      },
      "source": [
        "dim_learning_rate = Real(low = 1e-6, \n",
        "                         high = 1e-2, \n",
        "                         prior = 'log-uniform',\n",
        "                         name = 'learning_rate')"
      ],
      "execution_count": 0,
      "outputs": []
    },
    {
      "cell_type": "code",
      "metadata": {
        "id": "71RrI63RE364",
        "colab_type": "code",
        "colab": {}
      },
      "source": [
        "dim_num_dense_layers = Integer(low = 1,\n",
        "                               high = 8,\n",
        "                               name = 'num_dense_layers')"
      ],
      "execution_count": 0,
      "outputs": []
    },
    {
      "cell_type": "code",
      "metadata": {
        "id": "K9hQ9me3E6nH",
        "colab_type": "code",
        "colab": {}
      },
      "source": [
        "dim_num_dense_nodes = Integer(low = 5,\n",
        "                              high = 1024,\n",
        "                              name = 'num_dense_nodes')"
      ],
      "execution_count": 0,
      "outputs": []
    },
    {
      "cell_type": "code",
      "metadata": {
        "id": "ewaEh_5tH7Ah",
        "colab_type": "code",
        "colab": {}
      },
      "source": [
        "dim_kernel_size = Integer(low = 1,\n",
        "                          high = 4,\n",
        "                          name = 'kernel_size')"
      ],
      "execution_count": 0,
      "outputs": []
    },
    {
      "cell_type": "code",
      "metadata": {
        "id": "x84K2eFyIJXg",
        "colab_type": "code",
        "colab": {}
      },
      "source": [
        "#dim_stride_length = Integer(low = 1,\n",
        "#                     high = 1,\n",
        "#                     name = 'stride_length')"
      ],
      "execution_count": 0,
      "outputs": []
    },
    {
      "cell_type": "code",
      "metadata": {
        "id": "wemUcMW-FB8J",
        "colab_type": "code",
        "colab": {}
      },
      "source": [
        "dim_activation = Categorical(categories = ['relu', 'sigmoid', 'elu'],\n",
        "                             name = 'activation')"
      ],
      "execution_count": 0,
      "outputs": []
    },
    {
      "cell_type": "code",
      "metadata": {
        "id": "8wHlt2_9FEFL",
        "colab_type": "code",
        "colab": {}
      },
      "source": [
        "dimensions = [dim_learning_rate,\n",
        "              dim_num_dense_layers,\n",
        "              dim_num_dense_nodes,\n",
        "              dim_kernel_size,\n",
        "              dim_activation]"
      ],
      "execution_count": 0,
      "outputs": []
    },
    {
      "cell_type": "code",
      "metadata": {
        "id": "mqqGbuntFG13",
        "colab_type": "code",
        "colab": {}
      },
      "source": [
        "default_parameters = [1e-3, 1, 350, 3, 'relu']"
      ],
      "execution_count": 0,
      "outputs": []
    },
    {
      "cell_type": "code",
      "metadata": {
        "id": "NzTwraHEFPLe",
        "colab_type": "code",
        "colab": {}
      },
      "source": [
        "validation_data = (x_val, y_val)"
      ],
      "execution_count": 0,
      "outputs": []
    },
    {
      "cell_type": "code",
      "metadata": {
        "id": "IMGawj6oFSMB",
        "colab_type": "code",
        "colab": {}
      },
      "source": [
        "img_size = 28\n",
        "\n",
        "img_size_flat = img_size * img_size\n",
        "\n",
        "img_shape = (img_size, img_size)\n",
        "\n",
        "img_shape_full = (img_size, img_size, 1)\n",
        "\n",
        "num_channels = 1\n",
        "\n",
        "num_classes = 345"
      ],
      "execution_count": 0,
      "outputs": []
    },
    {
      "cell_type": "code",
      "metadata": {
        "id": "Ptgz3QMxFXju",
        "colab_type": "code",
        "colab": {}
      },
      "source": [
        "def plot_images(images, cls_true, cls_pred=None):\n",
        "    assert len(images) == len(cls_true) == 9\n",
        "    \n",
        "    # Create figure with 3x3 sub-plots.\n",
        "    fig, axes = plt.subplots(3, 3)\n",
        "    fig.subplots_adjust(hspace=0.3, wspace=0.3)\n",
        "\n",
        "    for i, ax in enumerate(axes.flat):\n",
        "        # Plot image.\n",
        "        ax.imshow(images[i].reshape(img_shape), cmap='binary')\n",
        "\n",
        "        # Show true and predicted classes.\n",
        "        if cls_pred is None:\n",
        "            xlabel = \"True: {0}\".format(cls_true[i])\n",
        "        else:\n",
        "            xlabel = \"True: {0}, Pred: {1}\".format(cls_true[i], cls_pred[i])\n",
        "\n",
        "        # Show the classes as the label on the x-axis.\n",
        "        ax.set_xlabel(xlabel)\n",
        "        \n",
        "        # Remove ticks from the plot.\n",
        "        ax.set_xticks([])\n",
        "        ax.set_yticks([])\n",
        "    \n",
        "    # Ensure the plot is shown correctly with multiple plots\n",
        "    # in a single Notebook cell.\n",
        "    plt.show()"
      ],
      "execution_count": 0,
      "outputs": []
    },
    {
      "cell_type": "code",
      "metadata": {
        "id": "0V8hLJF3FZXH",
        "colab_type": "code",
        "outputId": "6209edce-3809-43c5-d24c-e1607f4fbd35",
        "colab": {
          "base_uri": "https://localhost:8080/",
          "height": 262
        }
      },
      "source": [
        "# Get the first images from the test-set.\n",
        "images = x_test[0:9]\n",
        "\n",
        "# Get the true classes for those images.\n",
        "\n",
        "cls_true = class_names[(np.argmax(y_test, axis = 1)[0:9])]\n",
        "\n",
        "# Plot the images and labels using our helper-function above.\n",
        "plot_images(images=images, cls_true=cls_true)"
      ],
      "execution_count": 0,
      "outputs": [
        {
          "output_type": "display_data",
          "data": {
            "image/png": "[encoded data removed]",
            "text/plain": [
              "<Figure size 432x288 with 9 Axes>"
            ]
          },
          "metadata": {
            "tags": []
          }
        }
      ]
    },
    {
      "cell_type": "code",
      "metadata": {
        "id": "yymKRqr9jixr",
        "colab_type": "code",
        "colab": {}
      },
      "source": [
        "def create_model():\n",
        "  model = Sequential()\n",
        "  model.add(Conv2D(kernel_size=(4,4), strides=1, filters=16, padding='same', input_shape = x_train.shape[1:], activation='elu'))\n",
        "  model.add(MaxPooling2D(pool_size=2, strides=2))\n",
        "  model.add(Conv2D(kernel_size=(4,4), strides=1, filters=32, padding='same', activation='elu'))\n",
        "  model.add(MaxPooling2D(pool_size=2, strides=2))  \n",
        "  model.add(Conv2D(kernel_size=(4,4), strides=1, filters=64, padding='same', activation='elu'))\n",
        "  model.add(MaxPooling2D(pool_size=2, strides=2))\n",
        "  model.add(Conv2D(kernel_size=(4,4), strides=1, filters=128, padding='same', activation='elu'))\n",
        "  model.add(MaxPooling2D(pool_size=2, strides=2))\n",
        "  model.add(Flatten())\n",
        "  model.add(Dense(822, activation = 'elu'))\n",
        "  model.add(Dense(345, activation='softmax'))\n",
        "  return model\n"
      ],
      "execution_count": 0,
      "outputs": []
    },
    {
      "cell_type": "code",
      "metadata": {
        "id": "CEhwScgzFsdg",
        "colab_type": "code",
        "colab": {}
      },
      "source": [
        "def create_model(learning_rate, num_dense_layers,\n",
        "                 num_dense_nodes, kernel_size, activation):\n",
        "    \"\"\"\n",
        "    Hyper-parameters:\n",
        "    learning_rate:     Learning-rate for the optimizer.\n",
        "    num_dense_layers:  Number of dense layers.\n",
        "    num_dense_nodes:   Number of nodes in each dense layer.\n",
        "    kernel_size:       Kernel Size of each conv2D layer.\n",
        "    activation:        Activation function for all layers.\n",
        "    \"\"\"\n",
        "\n",
        "    # Start construction of a Keras Sequential model.\n",
        "    model = Sequential()\n",
        "\n",
        "    # Add an input layer which is similar to a feed_dict in TensorFlow.\n",
        "    # Note that the input-shape must be a tuple containing the image-size.\n",
        "    #model.add(InputLayer(input_shape=(img_size_flat,)))\n",
        "\n",
        "    # The input from MNIST is a flattened array with 784 elements,\n",
        "    # but the convolutional layers expect images with shape (28, 28, 1)\n",
        "    #model.add(Reshape(img_shape_full))\n",
        "\n",
        "    # First convolutional layer.\n",
        "    # There are many hyper-parameters in this layer, but we only\n",
        "    # want to optimize the activation-function in this example.\n",
        "    model.add(Conv2D(kernel_size=(kernel_size,kernel_size), strides=1, filters=16, padding='same',\n",
        "                     input_shape = x_train_s.shape[1:],\n",
        "                     activation=activation, name='layer_conv1'))\n",
        "    model.add(MaxPooling2D(pool_size=2, strides=2))\n",
        "\n",
        "    # Second convolutional layer.\n",
        "    # Again, we only want to optimize the activation-function here.\n",
        "    model.add(Conv2D(kernel_size=(kernel_size,kernel_size), strides=1, filters=32, padding='same',\n",
        "                     activation=activation, name='layer_conv2'))\n",
        "    model.add(MaxPooling2D(pool_size=2, strides=2))\n",
        "      \n",
        "    # Third convolutional layer.\n",
        "    # Again, we only want to optimize the activation-function here.\n",
        "    model.add(Conv2D(kernel_size=(kernel_size,kernel_size), strides=1, filters=64, padding='same',\n",
        "                     activation=activation, name='layer_conv3'))\n",
        "    model.add(MaxPooling2D(pool_size=2, strides=2))\n",
        "\n",
        "\n",
        "    # Fourth convolutional layer.\n",
        "    # Again, we only want to optimize the activation-function here.\n",
        "    model.add(Conv2D(kernel_size=(kernel_size,kernel_size), strides=1, filters=128, padding='same',\n",
        "                     activation=activation, name='layer_conv4'))\n",
        "    model.add(MaxPooling2D(pool_size=2, strides=2))\n",
        "\n",
        "\n",
        "\n",
        "    # Flatten the 4-rank output of the convolutional layers\n",
        "    # to 2-rank that can be input to a fully-connected / dense layer.\n",
        "    model.add(Flatten())\n",
        "\n",
        "    # Add fully-connected / dense layers.\n",
        "    # The number of layers is a hyper-parameter we want to optimize.\n",
        "    for i in range(num_dense_layers):\n",
        "        # Name of the layer. This is not really necessary\n",
        "        # because Keras should give them unique names.\n",
        "        name = 'layer_dense_{0}'.format(i+1)\n",
        "\n",
        "        # Add the dense / fully-connected layer to the model.\n",
        "        # This has two hyper-parameters we want to optimize:\n",
        "        # The number of nodes and the activation function.\n",
        "        model.add(Dense(num_dense_nodes,\n",
        "                        activation=activation,\n",
        "                        name=name))\n",
        "\n",
        "    # Last fully-connected / dense layer with softmax-activation\n",
        "    # for use in classification.\n",
        "    model.add(Dense(num_classes, activation='softmax'))\n",
        "    \n",
        "    # Use the Adam method for training the network.\n",
        "    # We want to find the best learning-rate for the Adam method.\n",
        "    optimizer = Adam(lr=learning_rate)\n",
        "    \n",
        "    # In Keras we need to compile the model so it can be trained.\n",
        "    model.compile(optimizer=optimizer,\n",
        "                  loss='categorical_crossentropy',\n",
        "                  metrics=['accuracy', 'top_k_categorical_accuracy'])\n",
        "    \n",
        "    return model"
      ],
      "execution_count": 0,
      "outputs": []
    },
    {
      "cell_type": "code",
      "metadata": {
        "id": "OBZZBqixJRCQ",
        "colab_type": "code",
        "colab": {}
      },
      "source": [
        "path_best_model_initial_optimize = 'best_model_initial_optimize.keras'"
      ],
      "execution_count": 0,
      "outputs": []
    },
    {
      "cell_type": "code",
      "metadata": {
        "id": "BAWnRjraJUJL",
        "colab_type": "code",
        "colab": {}
      },
      "source": [
        "best_accuracy = 0.0"
      ],
      "execution_count": 0,
      "outputs": []
    },
    {
      "cell_type": "code",
      "metadata": {
        "id": "ulpHuAWkJWp4",
        "colab_type": "code",
        "colab": {}
      },
      "source": [
        "count = 0\n",
        "@use_named_args(dimensions=dimensions)\n",
        "def fitness(learning_rate, num_dense_layers,\n",
        "            num_dense_nodes, kernel_size, activation):\n",
        "    \"\"\"\n",
        "    Hyper-parameters:\n",
        "    learning_rate:     Learning-rate for the optimizer.\n",
        "    num_dense_layers:  Number of dense layers.\n",
        "    num_dense_nodes:   Number of nodes in each dense layer.\n",
        "    kernel_size:       Kernel Size of each conv2D layer.\n",
        "    activation:        Activation function for all layers.\n",
        "    \"\"\"\n",
        "\n",
        "    global count \n",
        "    count += 1\n",
        "    # Print the hyper-parameters.\n",
        "    print('model #', count)\n",
        "    print()\n",
        "    print('learning rate: {0:.1e}'.format(learning_rate))\n",
        "    print('num_dense_layers:', num_dense_layers)\n",
        "    print('num_dense_nodes:', num_dense_nodes)\n",
        "    print('kernel_size:', kernel_size)\n",
        "    print('activation:', activation)\n",
        "    print()\n",
        "    \n",
        "    # Create the neural network with these hyper-parameters.\n",
        "\n",
        "    \n",
        "\n",
        "    model = create_model(learning_rate=learning_rate,\n",
        "                         num_dense_layers=num_dense_layers,\n",
        "                         num_dense_nodes=num_dense_nodes,\n",
        "                         kernel_size=kernel_size,\n",
        "                         activation=activation)\n",
        "\n",
        "    # Dir-name for the TensorBoard log-files.\n",
        "    log_dir = log_dir_name(learning_rate, num_dense_layers,\n",
        "                           num_dense_nodes, kernel_size, activation)\n",
        "    \n",
        "    # Create a callback-function for Keras which will be\n",
        "    # run after each epoch has ended during training.\n",
        "    # This saves the log-files for TensorBoard.\n",
        "    # Note that there are complications when histogram_freq=1.\n",
        "    # It might give strange errors and it also does not properly\n",
        "    # support Keras data-generators for the validation-set.\n",
        "    callback_log = TensorBoard(\n",
        "        log_dir=log_dir,\n",
        "        histogram_freq=0,\n",
        "        write_graph=True,\n",
        "        write_grads=False,\n",
        "        write_images=False)\n",
        "   \n",
        "    # Use Keras to train the model.\n",
        "    history = model.fit(x=x_train_s,\n",
        "                        y=y_train_s,\n",
        "                        epochs=3,\n",
        "                        batch_size=128,\n",
        "                        validation_data=validation_data,\n",
        "                        callbacks=[callback_log])\n",
        "\n",
        "    # Get the classification accuracy on the validation-set\n",
        "    # after the last training-epoch.\n",
        "    accuracy = history.history['val_acc'][-1]\n",
        "\n",
        "    print(history.history)\n",
        "\n",
        "    # Print the classification accuracy.\n",
        "    print()\n",
        "    print(\"Accuracy: {0:.2%}\".format(accuracy))\n",
        "    print()\n",
        "\n",
        "    # Save the model if it improves on the best-found performance.\n",
        "    # We use the global keyword so we update the variable outside\n",
        "    # of this function.\n",
        "    global best_accuracy\n",
        "\n",
        "    # If the classification accuracy of the saved model is improved ...\n",
        "    if accuracy > best_accuracy:\n",
        "        # Save the new model to harddisk.\n",
        "        model.save(path_best_model_initial_optimize)\n",
        "        \n",
        "        # Update the classification accuracy.\n",
        "        best_accuracy = accuracy\n",
        "\n",
        "    # Delete the Keras model with these hyper-parameters from memory.\n",
        "    \n",
        "    del model\n",
        "    \n",
        "    # Clear the Keras session, otherwise it will keep adding new\n",
        "    # models to the same TensorFlow graph each time we create\n",
        "    # a model with a different set of hyper-parameters.\n",
        "    \n",
        "    K.clear_session()\n",
        "    \n",
        "    # NOTE: Scikit-optimize does minimization so it tries to\n",
        "    # find a set of hyper-parameters with the LOWEST fitness-value.\n",
        "    # Because we are interested in the HIGHEST classification\n",
        "    # accuracy, we need to negate this number so it can be minimized.\n",
        "    \n",
        "    return -accuracy"
      ],
      "execution_count": 0,
      "outputs": []
    },
    {
      "cell_type": "code",
      "metadata": {
        "id": "sKlOPOWwBPl5",
        "colab_type": "code",
        "colab": {}
      },
      "source": [
        ""
      ],
      "execution_count": 0,
      "outputs": []
    },
    {
      "cell_type": "code",
      "metadata": {
        "id": "d3i2S7HMCr6d",
        "colab_type": "code",
        "colab": {}
      },
      "source": [
        ""
      ],
      "execution_count": 0,
      "outputs": []
    },
    {
      "cell_type": "code",
      "metadata": {
        "id": "J33xvbkrKcig",
        "colab_type": "code",
        "outputId": "7d57f487-cc37-4a53-b344-ce48cfac52b2",
        "colab": {
          "base_uri": "https://localhost:8080/",
          "height": 428
        }
      },
      "source": [
        "fitness(x=default_parameters)"
      ],
      "execution_count": 0,
      "outputs": [
        {
          "output_type": "stream",
          "text": [
            "model # 1\n",
            "\n",
            "learning rate: 1.0e-03\n",
            "num_dense_layers: 1\n",
            "num_dense_nodes: 350\n",
            "kernel_size: 3\n",
            "activation: relu\n",
            "\n",
            "WARNING:tensorflow:From /usr/local/lib/python3.6/dist-packages/tensorflow_core/python/ops/resource_variable_ops.py:1630: calling BaseResourceVariable.__init__ (from tensorflow.python.ops.resource_variable_ops) with constraint is deprecated and will be removed in a future version.\n",
            "Instructions for updating:\n",
            "If using Keras pass *_constraint arguments to layers.\n",
            "Train on 60000 samples, validate on 5000 samples\n",
            "Epoch 1/3\n",
            "60000/60000 [==============================] - 10s 162us/sample - loss: 4.6060 - acc: 0.0965 - top_k_categorical_accuracy: 0.2555 - val_loss: 3.8260 - val_acc: 0.1964 - val_top_k_categorical_accuracy: 0.4358\n",
            "Epoch 2/3\n",
            "60000/60000 [==============================] - 3s 51us/sample - loss: 3.3602 - acc: 0.2644 - top_k_categorical_accuracy: 0.5375 - val_loss: 3.2168 - val_acc: 0.2960 - val_top_k_categorical_accuracy: 0.5792\n",
            "Epoch 3/3\n",
            "60000/60000 [==============================] - 3s 52us/sample - loss: 2.8680 - acc: 0.3497 - top_k_categorical_accuracy: 0.6374 - val_loss: 2.9332 - val_acc: 0.3520 - val_top_k_categorical_accuracy: 0.6346\n",
            "{'loss': [4.605981689453125, 3.3601747049967448, 2.867967830403646], 'acc': [0.09646667, 0.26441666, 0.34966666], 'top_k_categorical_accuracy': [0.25551668, 0.53753334, 0.63738334], 'val_loss': [3.826042081451416, 3.2167760017395017, 2.933167609786987], 'val_acc': [0.1964, 0.296, 0.352], 'val_top_k_categorical_accuracy': [0.4358, 0.5792, 0.6346]}\n",
            "\n",
            "Accuracy: 35.20%\n",
            "\n"
          ],
          "name": "stdout"
        },
        {
          "output_type": "execute_result",
          "data": {
            "text/plain": [
              "-0.352"
            ]
          },
          "metadata": {
            "tags": []
          },
          "execution_count": 37
        }
      ]
    },
    {
      "cell_type": "code",
      "metadata": {
        "id": "mwAVhXjmK2lE",
        "colab_type": "code",
        "outputId": "cc36611a-0439-4c82-d89c-9f9388086a7b",
        "colab": {
          "base_uri": "https://localhost:8080/",
          "height": 1000
        }
      },
      "source": [
        "search_result = gp_minimize(func=fitness,\n",
        "                            dimensions=dimensions,\n",
        "                            acq_func='EI', # Expected Improvement.\n",
        "                            n_calls=50,\n",
        "                            x0=default_parameters)"
      ],
      "execution_count": 0,
      "outputs": [
        {
          "output_type": "stream",
          "text": [
            "model # 2\n",
            "\n",
            "learning rate: 1.0e-03\n",
            "num_dense_layers: 1\n",
            "num_dense_nodes: 350\n",
            "kernel_size: 3\n",
            "activation: relu\n",
            "\n",
            "Train on 60000 samples, validate on 5000 samples\n",
            "Epoch 1/3\n",
            "60000/60000 [==============================] - 4s 58us/sample - loss: 4.5713 - acc: 0.1009 - top_k_categorical_accuracy: 0.2651 - val_loss: 3.8263 - val_acc: 0.1912 - val_top_k_categorical_accuracy: 0.4426\n",
            "Epoch 2/3\n",
            "60000/60000 [==============================] - 3s 55us/sample - loss: 3.3003 - acc: 0.2706 - top_k_categorical_accuracy: 0.5467 - val_loss: 3.1806 - val_acc: 0.3080 - val_top_k_categorical_accuracy: 0.5876\n",
            "Epoch 3/3\n",
            "60000/60000 [==============================] - 3s 53us/sample - loss: 2.7961 - acc: 0.3609 - top_k_categorical_accuracy: 0.6488 - val_loss: 2.9322 - val_acc: 0.3464 - val_top_k_categorical_accuracy: 0.6324\n",
            "{'loss': [4.571343351109823, 3.300343951034546, 2.7961193756103517], 'acc': [0.1009, 0.27056667, 0.36086667], 'top_k_categorical_accuracy': [0.26508334, 0.5467333, 0.64881665], 'val_loss': [3.826254718399048, 3.180573996734619, 2.932230072402954], 'val_acc': [0.1912, 0.308, 0.3464], 'val_top_k_categorical_accuracy': [0.4426, 0.5876, 0.6324]}\n",
            "\n",
            "Accuracy: 34.64%\n",
            "\n",
            "model # 3\n",
            "\n",
            "learning rate: 6.1e-05\n",
            "num_dense_layers: 8\n",
            "num_dense_nodes: 15\n",
            "kernel_size: 2\n",
            "activation: elu\n",
            "\n",
            "Train on 60000 samples, validate on 5000 samples\n",
            "Epoch 1/3\n",
            "60000/60000 [==============================] - 5s 85us/sample - loss: 5.8392 - acc: 0.0041 - top_k_categorical_accuracy: 0.0208 - val_loss: 5.8222 - val_acc: 0.0056 - val_top_k_categorical_accuracy: 0.0236\n",
            "Epoch 2/3\n",
            "60000/60000 [==============================] - 4s 74us/sample - loss: 5.7408 - acc: 0.0074 - top_k_categorical_accuracy: 0.0312 - val_loss: 5.6693 - val_acc: 0.0094 - val_top_k_categorical_accuracy: 0.0330\n",
            "Epoch 3/3\n",
            "60000/60000 [==============================] - 4s 73us/sample - loss: 5.5885 - acc: 0.0098 - top_k_categorical_accuracy: 0.0399 - val_loss: 5.5463 - val_acc: 0.0114 - val_top_k_categorical_accuracy: 0.0462\n",
            "{'loss': [5.839249714406331, 5.740769740041097, 5.588498215738932], 'acc': [0.00415, 0.0073833335, 0.009783333], 'top_k_categorical_accuracy': [0.0208, 0.031233333, 0.03985], 'val_loss': [5.822190727996826, 5.669290786743164, 5.546265546417236], 'val_acc': [0.0056, 0.0094, 0.0114], 'val_top_k_categorical_accuracy': [0.0236, 0.033, 0.0462]}\n",
            "\n",
            "Accuracy: 1.14%\n",
            "\n",
            "model # 4\n",
            "\n",
            "learning rate: 1.8e-05\n",
            "num_dense_layers: 4\n",
            "num_dense_nodes: 322\n",
            "kernel_size: 3\n",
            "activation: relu\n",
            "\n",
            "Train on 60000 samples, validate on 5000 samples\n",
            "Epoch 1/3\n",
            "60000/60000 [==============================] - 4s 68us/sample - loss: 5.8409 - acc: 0.0040 - top_k_categorical_accuracy: 0.0202 - val_loss: 5.8308 - val_acc: 0.0058 - val_top_k_categorical_accuracy: 0.0278\n",
            "Epoch 2/3\n",
            "60000/60000 [==============================] - 4s 61us/sample - loss: 5.6117 - acc: 0.0097 - top_k_categorical_accuracy: 0.0443 - val_loss: 5.3755 - val_acc: 0.0136 - val_top_k_categorical_accuracy: 0.0692\n",
            "Epoch 3/3\n",
            "60000/60000 [==============================] - 4s 61us/sample - loss: 5.2104 - acc: 0.0247 - top_k_categorical_accuracy: 0.0984 - val_loss: 5.1523 - val_acc: 0.0332 - val_top_k_categorical_accuracy: 0.1140\n",
            "{'loss': [5.840890810902914, 5.611677144622803, 5.210367906697591], 'acc': [0.004, 0.009683333, 0.024666667], 'top_k_categorical_accuracy': [0.020233333, 0.044266667, 0.09843333], 'val_loss': [5.830766997528076, 5.375513004302978, 5.152304607391358], 'val_acc': [0.0058, 0.0136, 0.0332], 'val_top_k_categorical_accuracy': [0.0278, 0.0692, 0.114]}\n",
            "\n",
            "Accuracy: 3.32%\n",
            "\n",
            "model # 5\n",
            "\n",
            "learning rate: 4.8e-06\n",
            "num_dense_layers: 6\n",
            "num_dense_nodes: 467\n",
            "kernel_size: 3\n",
            "activation: relu\n",
            "\n",
            "Train on 60000 samples, validate on 5000 samples\n",
            "Epoch 1/3\n",
            "60000/60000 [==============================] - 4s 75us/sample - loss: 5.8433 - acc: 0.0027 - top_k_categorical_accuracy: 0.0143 - val_loss: 5.8430 - val_acc: 0.0040 - val_top_k_categorical_accuracy: 0.0182\n",
            "Epoch 2/3\n",
            "60000/60000 [==============================] - 4s 70us/sample - loss: 5.8421 - acc: 0.0026 - top_k_categorical_accuracy: 0.0188 - val_loss: 5.8404 - val_acc: 0.0046 - val_top_k_categorical_accuracy: 0.0288\n",
            "Epoch 3/3\n",
            "60000/60000 [==============================] - 4s 68us/sample - loss: 5.8278 - acc: 0.0039 - top_k_categorical_accuracy: 0.0292 - val_loss: 5.7956 - val_acc: 0.0074 - val_top_k_categorical_accuracy: 0.0320\n",
            "{'loss': [5.843331717936198, 5.842088757578532, 5.8278406120300295], 'acc': [0.0026833334, 0.00265, 0.003916667], 'top_k_categorical_accuracy': [0.014266667, 0.01875, 0.0292], 'val_loss': [5.842968320465088, 5.840375965881347, 5.795553204345703], 'val_acc': [0.004, 0.0046, 0.0074], 'val_top_k_categorical_accuracy': [0.0182, 0.0288, 0.032]}\n",
            "\n",
            "Accuracy: 0.74%\n",
            "\n",
            "model # 6\n",
            "\n",
            "learning rate: 3.9e-05\n",
            "num_dense_layers: 6\n",
            "num_dense_nodes: 864\n",
            "kernel_size: 3\n",
            "activation: sigmoid\n",
            "\n",
            "Train on 60000 samples, validate on 5000 samples\n",
            "Epoch 1/3\n",
            "60000/60000 [==============================] - 5s 80us/sample - loss: 5.8669 - acc: 0.0027 - top_k_categorical_accuracy: 0.0144 - val_loss: 5.8547 - val_acc: 0.0030 - val_top_k_categorical_accuracy: 0.0118\n",
            "Epoch 2/3\n",
            "60000/60000 [==============================] - 4s 70us/sample - loss: 5.8520 - acc: 0.0029 - top_k_categorical_accuracy: 0.0151 - val_loss: 5.8523 - val_acc: 0.0030 - val_top_k_categorical_accuracy: 0.0124\n",
            "Epoch 3/3\n",
            "60000/60000 [==============================] - 4s 72us/sample - loss: 5.8515 - acc: 0.0032 - top_k_categorical_accuracy: 0.0150 - val_loss: 5.8540 - val_acc: 0.0028 - val_top_k_categorical_accuracy: 0.0154\n",
            "{'loss': [5.866871979014078, 5.852012742360433, 5.851492022705078], 'acc': [0.0027166666, 0.0028666668, 0.0032333334], 'top_k_categorical_accuracy': [0.014416667, 0.015133333, 0.015], 'val_loss': [5.854670681762696, 5.852265909576416, 5.854007369995117], 'val_acc': [0.003, 0.003, 0.0028], 'val_top_k_categorical_accuracy': [0.0118, 0.0124, 0.0154]}\n",
            "\n",
            "Accuracy: 0.28%\n",
            "\n",
            "model # 7\n",
            "\n",
            "learning rate: 4.0e-05\n",
            "num_dense_layers: 1\n",
            "num_dense_nodes: 631\n",
            "kernel_size: 3\n",
            "activation: relu\n",
            "\n",
            "Train on 60000 samples, validate on 5000 samples\n",
            "Epoch 1/3\n",
            "60000/60000 [==============================] - 3s 55us/sample - loss: 5.8172 - acc: 0.0071 - top_k_categorical_accuracy: 0.0273 - val_loss: 5.6584 - val_acc: 0.0136 - val_top_k_categorical_accuracy: 0.0570\n",
            "Epoch 2/3\n",
            "60000/60000 [==============================] - 3s 51us/sample - loss: 5.1934 - acc: 0.0358 - top_k_categorical_accuracy: 0.1260 - val_loss: 4.9729 - val_acc: 0.0550 - val_top_k_categorical_accuracy: 0.1850\n",
            "Epoch 3/3\n",
            "60000/60000 [==============================] - 3s 52us/sample - loss: 4.7524 - acc: 0.0794 - top_k_categorical_accuracy: 0.2319 - val_loss: 4.6906 - val_acc: 0.0872 - val_top_k_categorical_accuracy: 0.2554\n",
            "{'loss': [5.817169106801351, 5.193376222229004, 4.752403238169352], 'acc': [0.0071, 0.03585, 0.07943334], 'top_k_categorical_accuracy': [0.027333334, 0.12601666, 0.23193334], 'val_loss': [5.658438801574707, 4.972932656860351, 4.690624767303467], 'val_acc': [0.0136, 0.055, 0.0872], 'val_top_k_categorical_accuracy': [0.057, 0.185, 0.2554]}\n",
            "\n",
            "Accuracy: 8.72%\n",
            "\n",
            "model # 8\n",
            "\n",
            "learning rate: 4.4e-03\n",
            "num_dense_layers: 6\n",
            "num_dense_nodes: 126\n",
            "kernel_size: 1\n",
            "activation: relu\n",
            "\n",
            "Train on 60000 samples, validate on 5000 samples\n",
            "Epoch 1/3\n",
            "60000/60000 [==============================] - 4s 75us/sample - loss: 5.8448 - acc: 0.0030 - top_k_categorical_accuracy: 0.0145 - val_loss: 5.8458 - val_acc: 0.0030 - val_top_k_categorical_accuracy: 0.0142\n",
            "Epoch 2/3\n",
            "60000/60000 [==============================] - 4s 67us/sample - loss: 5.8438 - acc: 0.0031 - top_k_categorical_accuracy: 0.0159 - val_loss: 5.8475 - val_acc: 0.0028 - val_top_k_categorical_accuracy: 0.0152\n",
            "Epoch 3/3\n",
            "60000/60000 [==============================] - 4s 65us/sample - loss: 5.8436 - acc: 0.0032 - top_k_categorical_accuracy: 0.0155 - val_loss: 5.8479 - val_acc: 0.0030 - val_top_k_categorical_accuracy: 0.0140\n",
            "{'loss': [5.844836991373698, 5.843799982452393, 5.843647616831461], 'acc': [0.0030166667, 0.0031, 0.0032166666], 'top_k_categorical_accuracy': [0.0145, 0.01585, 0.015483334], 'val_loss': [5.845764070892334, 5.847477200317383, 5.847897228240967], 'val_acc': [0.003, 0.0028, 0.003], 'val_top_k_categorical_accuracy': [0.0142, 0.0152, 0.014]}\n",
            "\n",
            "Accuracy: 0.30%\n",
            "\n",
            "model # 9\n",
            "\n",
            "learning rate: 1.7e-05\n",
            "num_dense_layers: 5\n",
            "num_dense_nodes: 897\n",
            "kernel_size: 2\n",
            "activation: sigmoid\n",
            "\n",
            "Train on 60000 samples, validate on 5000 samples\n",
            "Epoch 1/3\n",
            "60000/60000 [==============================] - 4s 73us/sample - loss: 5.8743 - acc: 0.0030 - top_k_categorical_accuracy: 0.0149 - val_loss: 5.8501 - val_acc: 0.0028 - val_top_k_categorical_accuracy: 0.0166\n",
            "Epoch 2/3\n",
            "60000/60000 [==============================] - 4s 68us/sample - loss: 5.8476 - acc: 0.0032 - top_k_categorical_accuracy: 0.0153 - val_loss: 5.8495 - val_acc: 0.0020 - val_top_k_categorical_accuracy: 0.0126\n",
            "Epoch 3/3\n",
            "60000/60000 [==============================] - 4s 70us/sample - loss: 5.8471 - acc: 0.0029 - top_k_categorical_accuracy: 0.0144 - val_loss: 5.8487 - val_acc: 0.0028 - val_top_k_categorical_accuracy: 0.0140\n",
            "{'loss': [5.874344438680013, 5.84759114481608, 5.8471225766499835], 'acc': [0.0030333332, 0.0032333334, 0.00285], 'top_k_categorical_accuracy': [0.01495, 0.015283333, 0.01445], 'val_loss': [5.85008759689331, 5.8494939025878905, 5.848692636108399], 'val_acc': [0.0028, 0.002, 0.0028], 'val_top_k_categorical_accuracy': [0.0166, 0.0126, 0.014]}\n",
            "\n",
            "Accuracy: 0.28%\n",
            "\n",
            "model # 10\n",
            "\n",
            "learning rate: 2.8e-03\n",
            "num_dense_layers: 2\n",
            "num_dense_nodes: 123\n",
            "kernel_size: 2\n",
            "activation: sigmoid\n",
            "\n",
            "Train on 60000 samples, validate on 5000 samples\n",
            "Epoch 1/3\n",
            "60000/60000 [==============================] - 4s 64us/sample - loss: 5.8482 - acc: 0.0030 - top_k_categorical_accuracy: 0.0143 - val_loss: 5.8448 - val_acc: 0.0036 - val_top_k_categorical_accuracy: 0.0144\n",
            "Epoch 2/3\n",
            "60000/60000 [==============================] - 4s 59us/sample - loss: 5.8431 - acc: 0.0030 - top_k_categorical_accuracy: 0.0154 - val_loss: 5.8461 - val_acc: 0.0028 - val_top_k_categorical_accuracy: 0.0136\n",
            "Epoch 3/3\n",
            "60000/60000 [==============================] - 3s 55us/sample - loss: 5.8428 - acc: 0.0030 - top_k_categorical_accuracy: 0.0165 - val_loss: 5.8469 - val_acc: 0.0036 - val_top_k_categorical_accuracy: 0.0144\n",
            "{'loss': [5.848159847005208, 5.843077677408854, 5.842782609812419], 'acc': [0.003, 0.0029833333, 0.0029833333], 'top_k_categorical_accuracy': [0.01435, 0.015433333, 0.0165], 'val_loss': [5.844787049865722, 5.846090511322021, 5.846877992248535], 'val_acc': [0.0036, 0.0028, 0.0036], 'val_top_k_categorical_accuracy': [0.0144, 0.0136, 0.0144]}\n",
            "\n",
            "Accuracy: 0.36%\n",
            "\n",
            "model # 11\n",
            "\n",
            "learning rate: 5.9e-06\n",
            "num_dense_layers: 8\n",
            "num_dense_nodes: 19\n",
            "kernel_size: 2\n",
            "activation: sigmoid\n",
            "\n",
            "Train on 60000 samples, validate on 5000 samples\n",
            "Epoch 1/3\n",
            "60000/60000 [==============================] - 5s 82us/sample - loss: 5.8566 - acc: 0.0030 - top_k_categorical_accuracy: 0.0142 - val_loss: 5.8518 - val_acc: 0.0034 - val_top_k_categorical_accuracy: 0.0208\n",
            "Epoch 2/3\n",
            "60000/60000 [==============================] - 4s 74us/sample - loss: 5.8559 - acc: 0.0030 - top_k_categorical_accuracy: 0.0142 - val_loss: 5.8514 - val_acc: 0.0034 - val_top_k_categorical_accuracy: 0.0208\n",
            "Epoch 3/3\n",
            "60000/60000 [==============================] - 4s 74us/sample - loss: 5.8553 - acc: 0.0030 - top_k_categorical_accuracy: 0.0142 - val_loss: 5.8509 - val_acc: 0.0034 - val_top_k_categorical_accuracy: 0.0208\n",
            "{'loss': [5.856626370493571, 5.855939690907796, 5.855294937896729], 'acc': [0.003, 0.003, 0.003], 'top_k_categorical_accuracy': [0.014233333, 0.014233333, 0.014233333], 'val_loss': [5.851798205566406, 5.851359413146973, 5.85094661026001], 'val_acc': [0.0034, 0.0034, 0.0034], 'val_top_k_categorical_accuracy': [0.0208, 0.0208, 0.0208]}\n",
            "\n",
            "Accuracy: 0.34%\n",
            "\n",
            "model # 12\n",
            "\n",
            "learning rate: 3.2e-06\n",
            "num_dense_layers: 7\n",
            "num_dense_nodes: 23\n",
            "kernel_size: 3\n",
            "activation: relu\n",
            "\n",
            "Train on 60000 samples, validate on 5000 samples\n",
            "Epoch 1/3\n",
            "60000/60000 [==============================] - 5s 79us/sample - loss: 5.8435 - acc: 0.0026 - top_k_categorical_accuracy: 0.0147 - val_loss: 5.8435 - val_acc: 0.0030 - val_top_k_categorical_accuracy: 0.0140\n",
            "Epoch 2/3\n",
            "60000/60000 [==============================] - 4s 71us/sample - loss: 5.8434 - acc: 0.0034 - top_k_categorical_accuracy: 0.0147 - val_loss: 5.8435 - val_acc: 0.0034 - val_top_k_categorical_accuracy: 0.0144\n",
            "Epoch 3/3\n",
            "60000/60000 [==============================] - 4s 73us/sample - loss: 5.8434 - acc: 0.0035 - top_k_categorical_accuracy: 0.0145 - val_loss: 5.8434 - val_acc: 0.0034 - val_top_k_categorical_accuracy: 0.0144\n",
            "{'loss': [5.84351707127889, 5.843441891225179, 5.843355116526285], 'acc': [0.0025666666, 0.0033833333, 0.0035333333], 'top_k_categorical_accuracy': [0.01465, 0.014716667, 0.0145], 'val_loss': [5.84352435913086, 5.843476722717285, 5.843403854370117], 'val_acc': [0.003, 0.0034, 0.0034], 'val_top_k_categorical_accuracy': [0.014, 0.0144, 0.0144]}\n",
            "\n",
            "Accuracy: 0.34%\n",
            "\n",
            "model # 13\n",
            "\n",
            "learning rate: 5.7e-03\n",
            "num_dense_layers: 1\n",
            "num_dense_nodes: 977\n",
            "kernel_size: 3\n",
            "activation: relu\n",
            "\n",
            "Train on 60000 samples, validate on 5000 samples\n",
            "Epoch 1/3\n",
            "60000/60000 [==============================] - 3s 56us/sample - loss: 5.8453 - acc: 0.0028 - top_k_categorical_accuracy: 0.0154 - val_loss: 5.8471 - val_acc: 0.0032 - val_top_k_categorical_accuracy: 0.0156\n",
            "Epoch 2/3\n",
            "60000/60000 [==============================] - 3s 53us/sample - loss: 5.8445 - acc: 0.0031 - top_k_categorical_accuracy: 0.0158 - val_loss: 5.8481 - val_acc: 0.0028 - val_top_k_categorical_accuracy: 0.0146\n",
            "Epoch 3/3\n",
            "60000/60000 [==============================] - 3s 53us/sample - loss: 5.8444 - acc: 0.0032 - top_k_categorical_accuracy: 0.0149 - val_loss: 5.8485 - val_acc: 0.0028 - val_top_k_categorical_accuracy: 0.0150\n",
            "{'loss': [5.845303926595052, 5.8444637705485025, 5.844357263183594], 'acc': [0.0028333333, 0.0031, 0.0031833334], 'top_k_categorical_accuracy': [0.0154, 0.015833333, 0.014916667], 'val_loss': [5.847068381500244, 5.848059324645996, 5.848466800689697], 'val_acc': [0.0032, 0.0028, 0.0028], 'val_top_k_categorical_accuracy': [0.0156, 0.0146, 0.015]}\n",
            "\n",
            "Accuracy: 0.28%\n",
            "\n",
            "model # 14\n",
            "\n",
            "learning rate: 8.5e-04\n",
            "num_dense_layers: 1\n",
            "num_dense_nodes: 279\n",
            "kernel_size: 3\n",
            "activation: relu\n",
            "\n",
            "Train on 60000 samples, validate on 5000 samples\n",
            "Epoch 1/3\n",
            "60000/60000 [==============================] - 3s 57us/sample - loss: 4.5721 - acc: 0.1027 - top_k_categorical_accuracy: 0.2664 - val_loss: 3.8000 - val_acc: 0.1960 - val_top_k_categorical_accuracy: 0.4498\n",
            "Epoch 2/3\n",
            "60000/60000 [==============================] - 3s 52us/sample - loss: 3.3446 - acc: 0.2668 - top_k_categorical_accuracy: 0.5389 - val_loss: 3.2873 - val_acc: 0.2852 - val_top_k_categorical_accuracy: 0.5660\n",
            "Epoch 3/3\n",
            "60000/60000 [==============================] - 3s 53us/sample - loss: 2.8797 - acc: 0.3489 - top_k_categorical_accuracy: 0.6341 - val_loss: 2.9801 - val_acc: 0.3420 - val_top_k_categorical_accuracy: 0.6278\n",
            "{'loss': [4.572142470932007, 3.3446464458465575, 2.8797248958587645], 'acc': [0.10266667, 0.26681668, 0.34886667], 'top_k_categorical_accuracy': [0.26645, 0.53886664, 0.63405], 'val_loss': [3.7999760078430174, 3.2872538238525393, 2.980115704345703], 'val_acc': [0.196, 0.2852, 0.342], 'val_top_k_categorical_accuracy': [0.4498, 0.566, 0.6278]}\n",
            "\n",
            "Accuracy: 34.20%\n",
            "\n",
            "model # 15\n",
            "\n",
            "learning rate: 9.4e-04\n",
            "num_dense_layers: 7\n",
            "num_dense_nodes: 859\n",
            "kernel_size: 1\n",
            "activation: relu\n",
            "\n",
            "Train on 60000 samples, validate on 5000 samples\n",
            "Epoch 1/3\n",
            "60000/60000 [==============================] - 5s 81us/sample - loss: 5.7922 - acc: 0.0039 - top_k_categorical_accuracy: 0.0193 - val_loss: 5.7048 - val_acc: 0.0058 - val_top_k_categorical_accuracy: 0.0300\n",
            "Epoch 2/3\n",
            "60000/60000 [==============================] - 5s 75us/sample - loss: 5.6829 - acc: 0.0060 - top_k_categorical_accuracy: 0.0285 - val_loss: 5.6719 - val_acc: 0.0056 - val_top_k_categorical_accuracy: 0.0326\n",
            "Epoch 3/3\n",
            "60000/60000 [==============================] - 4s 71us/sample - loss: 5.6466 - acc: 0.0069 - top_k_categorical_accuracy: 0.0348 - val_loss: 5.6398 - val_acc: 0.0082 - val_top_k_categorical_accuracy: 0.0422\n",
            "{'loss': [5.792193908691406, 5.682931574503581, 5.646606620025635], 'acc': [0.0038833334, 0.005983333, 0.0069333334], 'top_k_categorical_accuracy': [0.019283334, 0.028533334, 0.034783334], 'val_loss': [5.704806322479248, 5.6718748046875, 5.639759213256836], 'val_acc': [0.0058, 0.0056, 0.0082], 'val_top_k_categorical_accuracy': [0.03, 0.0326, 0.0422]}\n",
            "\n",
            "Accuracy: 0.82%\n",
            "\n",
            "model # 16\n",
            "\n",
            "learning rate: 1.7e-06\n",
            "num_dense_layers: 1\n",
            "num_dense_nodes: 320\n",
            "kernel_size: 1\n",
            "activation: elu\n",
            "\n",
            "Train on 60000 samples, validate on 5000 samples\n",
            "Epoch 1/3\n",
            "60000/60000 [==============================] - 3s 56us/sample - loss: 5.8445 - acc: 0.0029 - top_k_categorical_accuracy: 0.0146 - val_loss: 5.8461 - val_acc: 0.0018 - val_top_k_categorical_accuracy: 0.0134\n",
            "Epoch 2/3\n",
            "60000/60000 [==============================] - 3s 51us/sample - loss: 5.8439 - acc: 0.0029 - top_k_categorical_accuracy: 0.0147 - val_loss: 5.8456 - val_acc: 0.0018 - val_top_k_categorical_accuracy: 0.0134\n",
            "Epoch 3/3\n",
            "60000/60000 [==============================] - 3s 51us/sample - loss: 5.8434 - acc: 0.0029 - top_k_categorical_accuracy: 0.0150 - val_loss: 5.8451 - val_acc: 0.0018 - val_top_k_categorical_accuracy: 0.0138\n",
            "{'loss': [5.8445114885965985, 5.843927797444661, 5.843354691823324], 'acc': [0.00285, 0.00285, 0.00285], 'top_k_categorical_accuracy': [0.0146, 0.0147, 0.015016667], 'val_loss': [5.846136414337158, 5.845618663787842, 5.845107219696045], 'val_acc': [0.0018, 0.0018, 0.0018], 'val_top_k_categorical_accuracy': [0.0134, 0.0134, 0.0138]}\n",
            "\n",
            "Accuracy: 0.18%\n",
            "\n",
            "model # 17\n",
            "\n",
            "learning rate: 9.0e-03\n",
            "num_dense_layers: 1\n",
            "num_dense_nodes: 320\n",
            "kernel_size: 2\n",
            "activation: relu\n",
            "\n",
            "Train on 60000 samples, validate on 5000 samples\n",
            "Epoch 1/3\n",
            "60000/60000 [==============================] - 3s 57us/sample - loss: 5.8467 - acc: 0.0029 - top_k_categorical_accuracy: 0.0137 - val_loss: 5.8487 - val_acc: 0.0038 - val_top_k_categorical_accuracy: 0.0162\n",
            "Epoch 2/3\n",
            "60000/60000 [==============================] - 3s 53us/sample - loss: 5.8463 - acc: 0.0030 - top_k_categorical_accuracy: 0.0144 - val_loss: 5.8481 - val_acc: 0.0030 - val_top_k_categorical_accuracy: 0.0162\n",
            "Epoch 3/3\n",
            "60000/60000 [==============================] - 3s 52us/sample - loss: 5.8462 - acc: 0.0029 - top_k_categorical_accuracy: 0.0149 - val_loss: 5.8477 - val_acc: 0.0036 - val_top_k_categorical_accuracy: 0.0170\n",
            "{'loss': [5.846727826944987, 5.846307681020101, 5.846219700876872], 'acc': [0.0028666668, 0.0030166667, 0.0029166667], 'top_k_categorical_accuracy': [0.01375, 0.014366667, 0.014866667], 'val_loss': [5.848705531311035, 5.848081072235107, 5.847742268371582], 'val_acc': [0.0038, 0.003, 0.0036], 'val_top_k_categorical_accuracy': [0.0162, 0.0162, 0.017]}\n",
            "\n",
            "Accuracy: 0.36%\n",
            "\n",
            "model # 18\n",
            "\n",
            "learning rate: 9.5e-04\n",
            "num_dense_layers: 3\n",
            "num_dense_nodes: 733\n",
            "kernel_size: 3\n",
            "activation: relu\n",
            "\n",
            "Train on 60000 samples, validate on 5000 samples\n",
            "Epoch 1/3\n",
            "60000/60000 [==============================] - 4s 62us/sample - loss: 4.9783 - acc: 0.0374 - top_k_categorical_accuracy: 0.1359 - val_loss: 4.3818 - val_acc: 0.0852 - val_top_k_categorical_accuracy: 0.2668\n",
            "Epoch 2/3\n",
            "60000/60000 [==============================] - 3s 58us/sample - loss: 3.7834 - acc: 0.1693 - top_k_categorical_accuracy: 0.4204 - val_loss: 3.5152 - val_acc: 0.2162 - val_top_k_categorical_accuracy: 0.4982\n",
            "Epoch 3/3\n",
            "60000/60000 [==============================] - 4s 59us/sample - loss: 3.0894 - acc: 0.2837 - top_k_categorical_accuracy: 0.5839 - val_loss: 3.1232 - val_acc: 0.2880 - val_top_k_categorical_accuracy: 0.5856\n",
            "{'loss': [4.978281119537353, 3.78340266456604, 3.0893700052897137], 'acc': [0.037416667, 0.16935, 0.2837], 'top_k_categorical_accuracy': [0.13593334, 0.42038333, 0.58386666], 'val_loss': [4.381757828521729, 3.5151848152160645, 3.1231748111724853], 'val_acc': [0.0852, 0.2162, 0.288], 'val_top_k_categorical_accuracy': [0.2668, 0.4982, 0.5856]}\n",
            "\n",
            "Accuracy: 28.80%\n",
            "\n",
            "model # 19\n",
            "\n",
            "learning rate: 9.6e-04\n",
            "num_dense_layers: 1\n",
            "num_dense_nodes: 529\n",
            "kernel_size: 4\n",
            "activation: relu\n",
            "\n",
            "Train on 60000 samples, validate on 5000 samples\n",
            "Epoch 1/3\n",
            "60000/60000 [==============================] - 4s 65us/sample - loss: 4.4654 - acc: 0.1181 - top_k_categorical_accuracy: 0.2869 - val_loss: 3.6020 - val_acc: 0.2280 - val_top_k_categorical_accuracy: 0.4996\n",
            "Epoch 2/3\n",
            "60000/60000 [==============================] - 3s 58us/sample - loss: 3.0767 - acc: 0.3084 - top_k_categorical_accuracy: 0.5936 - val_loss: 2.9567 - val_acc: 0.3464 - val_top_k_categorical_accuracy: 0.6262\n",
            "Epoch 3/3\n",
            "60000/60000 [==============================] - 3s 58us/sample - loss: 2.6141 - acc: 0.3937 - top_k_categorical_accuracy: 0.6816 - val_loss: 2.7940 - val_acc: 0.3670 - val_top_k_categorical_accuracy: 0.6622\n",
            "{'loss': [4.465373674138387, 3.076686787414551, 2.6141387531280516], 'acc': [0.118083335, 0.30843332, 0.39368334], 'top_k_categorical_accuracy': [0.28688332, 0.59365, 0.68156666], 'val_loss': [3.602005460739136, 2.9566521896362303, 2.7940329334259033], 'val_acc': [0.228, 0.3464, 0.367], 'val_top_k_categorical_accuracy': [0.4996, 0.6262, 0.6622]}\n",
            "\n",
            "Accuracy: 36.70%\n",
            "\n",
            "model # 20\n",
            "\n",
            "learning rate: 4.0e-04\n",
            "num_dense_layers: 1\n",
            "num_dense_nodes: 780\n",
            "kernel_size: 4\n",
            "activation: elu\n",
            "\n",
            "Train on 60000 samples, validate on 5000 samples\n",
            "Epoch 1/3\n",
            "60000/60000 [==============================] - 4s 63us/sample - loss: 4.4207 - acc: 0.1285 - top_k_categorical_accuracy: 0.3097 - val_loss: 3.7275 - val_acc: 0.2206 - val_top_k_categorical_accuracy: 0.4698\n",
            "Epoch 2/3\n",
            "60000/60000 [==============================] - 3s 57us/sample - loss: 3.3211 - acc: 0.2759 - top_k_categorical_accuracy: 0.5497 - val_loss: 3.2310 - val_acc: 0.3054 - val_top_k_categorical_accuracy: 0.5676\n",
            "Epoch 3/3\n",
            "60000/60000 [==============================] - 3s 57us/sample - loss: 2.8415 - acc: 0.3611 - top_k_categorical_accuracy: 0.6409 - val_loss: 2.9523 - val_acc: 0.3518 - val_top_k_categorical_accuracy: 0.6258\n",
            "{'loss': [4.4207274458567305, 3.3211286332448324, 2.841525477727254], 'acc': [0.12855, 0.2759, 0.36105], 'top_k_categorical_accuracy': [0.3097, 0.54968333, 0.64085], 'val_loss': [3.7275401008605957, 3.231035662841797, 2.95225152053833], 'val_acc': [0.2206, 0.3054, 0.3518], 'val_top_k_categorical_accuracy': [0.4698, 0.5676, 0.6258]}\n",
            "\n",
            "Accuracy: 35.18%\n",
            "\n",
            "model # 21\n",
            "\n",
            "learning rate: 6.8e-04\n",
            "num_dense_layers: 1\n",
            "num_dense_nodes: 928\n",
            "kernel_size: 4\n",
            "activation: relu\n",
            "\n",
            "Train on 60000 samples, validate on 5000 samples\n",
            "Epoch 1/3\n",
            "60000/60000 [==============================] - 4s 66us/sample - loss: 4.5078 - acc: 0.1078 - top_k_categorical_accuracy: 0.2772 - val_loss: 3.7564 - val_acc: 0.2078 - val_top_k_categorical_accuracy: 0.4482\n",
            "Epoch 2/3\n",
            "60000/60000 [==============================] - 4s 59us/sample - loss: 3.2687 - acc: 0.2758 - top_k_categorical_accuracy: 0.5555 - val_loss: 3.1716 - val_acc: 0.2990 - val_top_k_categorical_accuracy: 0.5794\n",
            "Epoch 3/3\n",
            "60000/60000 [==============================] - 4s 59us/sample - loss: 2.7655 - acc: 0.3622 - top_k_categorical_accuracy: 0.6542 - val_loss: 2.9030 - val_acc: 0.3578 - val_top_k_categorical_accuracy: 0.6418\n",
            "{'loss': [4.507758888753255, 3.2687280064900714, 2.7654967310587564], 'acc': [0.10783333, 0.27575, 0.3622], 'top_k_categorical_accuracy': [0.27723333, 0.55553335, 0.65423334], 'val_loss': [3.75640178604126, 3.171643473815918, 2.9029646690368653], 'val_acc': [0.2078, 0.299, 0.3578], 'val_top_k_categorical_accuracy': [0.4482, 0.5794, 0.6418]}\n",
            "\n",
            "Accuracy: 35.78%\n",
            "\n",
            "model # 22\n",
            "\n",
            "learning rate: 7.4e-04\n",
            "num_dense_layers: 1\n",
            "num_dense_nodes: 5\n",
            "kernel_size: 4\n",
            "activation: sigmoid\n",
            "\n",
            "Train on 60000 samples, validate on 5000 samples\n",
            "Epoch 1/3\n",
            "60000/60000 [==============================] - 4s 62us/sample - loss: 5.8438 - acc: 0.0028 - top_k_categorical_accuracy: 0.0141 - val_loss: 5.8440 - val_acc: 0.0030 - val_top_k_categorical_accuracy: 0.0148\n",
            "Epoch 2/3\n",
            "60000/60000 [==============================] - 3s 57us/sample - loss: 5.8428 - acc: 0.0030 - top_k_categorical_accuracy: 0.0159 - val_loss: 5.8444 - val_acc: 0.0036 - val_top_k_categorical_accuracy: 0.0152\n",
            "Epoch 3/3\n",
            "60000/60000 [==============================] - 3s 58us/sample - loss: 5.8423 - acc: 0.0030 - top_k_categorical_accuracy: 0.0168 - val_loss: 5.8448 - val_acc: 0.0028 - val_top_k_categorical_accuracy: 0.0154\n",
            "{'loss': [5.843839346313477, 5.842767171478272, 5.842252863311767], 'acc': [0.0028, 0.0030166667, 0.003], 'top_k_categorical_accuracy': [0.014066666, 0.015933333, 0.0168], 'val_loss': [5.844000287628174, 5.844379905700683, 5.84484811706543], 'val_acc': [0.003, 0.0036, 0.0028], 'val_top_k_categorical_accuracy': [0.0148, 0.0152, 0.0154]}\n",
            "\n",
            "Accuracy: 0.28%\n",
            "\n",
            "model # 23\n",
            "\n",
            "learning rate: 6.8e-04\n",
            "num_dense_layers: 1\n",
            "num_dense_nodes: 5\n",
            "kernel_size: 4\n",
            "activation: elu\n",
            "\n",
            "Train on 60000 samples, validate on 5000 samples\n",
            "Epoch 1/3\n",
            "60000/60000 [==============================] - 4s 63us/sample - loss: 5.4612 - acc: 0.0188 - top_k_categorical_accuracy: 0.0750 - val_loss: 5.0852 - val_acc: 0.0364 - val_top_k_categorical_accuracy: 0.1348\n",
            "Epoch 2/3\n",
            "60000/60000 [==============================] - 3s 58us/sample - loss: 4.7764 - acc: 0.0600 - top_k_categorical_accuracy: 0.2045 - val_loss: 4.6414 - val_acc: 0.0710 - val_top_k_categorical_accuracy: 0.2464\n",
            "Epoch 3/3\n",
            "60000/60000 [==============================] - 3s 57us/sample - loss: 4.4139 - acc: 0.0961 - top_k_categorical_accuracy: 0.2882 - val_loss: 4.4088 - val_acc: 0.0992 - val_top_k_categorical_accuracy: 0.2904\n",
            "{'loss': [5.46115980758667, 4.77639592666626, 4.4138632526397705], 'acc': [0.018766666, 0.05995, 0.0961], 'top_k_categorical_accuracy': [0.07503334, 0.20455, 0.28823334], 'val_loss': [5.085193099975586, 4.641399788665772, 4.4087834400177], 'val_acc': [0.0364, 0.071, 0.0992], 'val_top_k_categorical_accuracy': [0.1348, 0.2464, 0.2904]}\n",
            "\n",
            "Accuracy: 9.92%\n",
            "\n",
            "model # 24\n",
            "\n",
            "learning rate: 5.1e-04\n",
            "num_dense_layers: 1\n",
            "num_dense_nodes: 685\n",
            "kernel_size: 1\n",
            "activation: relu\n",
            "\n",
            "Train on 60000 samples, validate on 5000 samples\n",
            "Epoch 1/3\n",
            "60000/60000 [==============================] - 3s 58us/sample - loss: 5.7333 - acc: 0.0058 - top_k_categorical_accuracy: 0.0284 - val_loss: 5.6203 - val_acc: 0.0100 - val_top_k_categorical_accuracy: 0.0414\n",
            "Epoch 2/3\n",
            "60000/60000 [==============================] - 3s 52us/sample - loss: 5.5635 - acc: 0.0119 - top_k_categorical_accuracy: 0.0523 - val_loss: 5.5561 - val_acc: 0.0102 - val_top_k_categorical_accuracy: 0.0544\n",
            "Epoch 3/3\n",
            "60000/60000 [==============================] - 3s 51us/sample - loss: 5.5147 - acc: 0.0140 - top_k_categorical_accuracy: 0.0602 - val_loss: 5.5375 - val_acc: 0.0120 - val_top_k_categorical_accuracy: 0.0600\n",
            "{'loss': [5.733296169789632, 5.56346264038086, 5.5147119224548335], 'acc': [0.0058333334, 0.011933333, 0.014033333], 'top_k_categorical_accuracy': [0.028366666, 0.0523, 0.060216665], 'val_loss': [5.620281037902832, 5.556094790649414, 5.537464359283447], 'val_acc': [0.01, 0.0102, 0.012], 'val_top_k_categorical_accuracy': [0.0414, 0.0544, 0.06]}\n",
            "\n",
            "Accuracy: 1.20%\n",
            "\n",
            "model # 25\n",
            "\n",
            "learning rate: 4.8e-04\n",
            "num_dense_layers: 3\n",
            "num_dense_nodes: 687\n",
            "kernel_size: 4\n",
            "activation: relu\n",
            "\n",
            "Train on 60000 samples, validate on 5000 samples\n",
            "Epoch 1/3\n",
            "60000/60000 [==============================] - 4s 71us/sample - loss: 4.9534 - acc: 0.0448 - top_k_categorical_accuracy: 0.1513 - val_loss: 4.3649 - val_acc: 0.0996 - val_top_k_categorical_accuracy: 0.2794\n",
            "Epoch 2/3\n",
            "60000/60000 [==============================] - 4s 63us/sample - loss: 3.9208 - acc: 0.1537 - top_k_categorical_accuracy: 0.3910 - val_loss: 3.8020 - val_acc: 0.1794 - val_top_k_categorical_accuracy: 0.4332\n",
            "Epoch 3/3\n",
            "60000/60000 [==============================] - 4s 64us/sample - loss: 3.3497 - acc: 0.2400 - top_k_categorical_accuracy: 0.5280 - val_loss: 3.3209 - val_acc: 0.2620 - val_top_k_categorical_accuracy: 0.5514\n",
            "{'loss': [4.953374836476644, 3.920803030014038, 3.349703922017415], 'acc': [0.04475, 0.15365, 0.24001667], 'top_k_categorical_accuracy': [0.15126666, 0.39103332, 0.5280333], 'val_loss': [4.3648586875915525, 3.801996981048584, 3.320894285583496], 'val_acc': [0.0996, 0.1794, 0.262], 'val_top_k_categorical_accuracy': [0.2794, 0.4332, 0.5514]}\n",
            "\n",
            "Accuracy: 26.20%\n",
            "\n",
            "model # 26\n",
            "\n",
            "learning rate: 6.1e-04\n",
            "num_dense_layers: 1\n",
            "num_dense_nodes: 1024\n",
            "kernel_size: 4\n",
            "activation: elu\n",
            "\n",
            "Train on 60000 samples, validate on 5000 samples\n",
            "Epoch 1/3\n",
            "60000/60000 [==============================] - 4s 62us/sample - loss: 4.1580 - acc: 0.1579 - top_k_categorical_accuracy: 0.3618 - val_loss: 3.3783 - val_acc: 0.2710 - val_top_k_categorical_accuracy: 0.5408\n",
            "Epoch 2/3\n",
            "60000/60000 [==============================] - 3s 57us/sample - loss: 2.9246 - acc: 0.3425 - top_k_categorical_accuracy: 0.6303 - val_loss: 2.8734 - val_acc: 0.3538 - val_top_k_categorical_accuracy: 0.6502\n",
            "Epoch 3/3\n",
            "60000/60000 [==============================] - 3s 57us/sample - loss: 2.4959 - acc: 0.4243 - top_k_categorical_accuracy: 0.7056 - val_loss: 2.6595 - val_acc: 0.4044 - val_top_k_categorical_accuracy: 0.6826\n",
            "{'loss': [4.1580445766448975, 2.924635781987508, 2.4959453384399413], 'acc': [0.1579, 0.34253332, 0.42435], 'top_k_categorical_accuracy': [0.36181667, 0.6303167, 0.70561665], 'val_loss': [3.3782536193847656, 2.873373785018921, 2.6594581802368165], 'val_acc': [0.271, 0.3538, 0.4044], 'val_top_k_categorical_accuracy': [0.5408, 0.6502, 0.6826]}\n",
            "\n",
            "Accuracy: 40.44%\n",
            "\n",
            "model # 27\n",
            "\n",
            "learning rate: 7.0e-04\n",
            "num_dense_layers: 1\n",
            "num_dense_nodes: 1024\n",
            "kernel_size: 4\n",
            "activation: elu\n",
            "\n",
            "Train on 60000 samples, validate on 5000 samples\n",
            "Epoch 1/3\n",
            "60000/60000 [==============================] - 4s 63us/sample - loss: 4.1417 - acc: 0.1596 - top_k_categorical_accuracy: 0.3641 - val_loss: 3.3720 - val_acc: 0.2666 - val_top_k_categorical_accuracy: 0.5460\n",
            "Epoch 2/3\n",
            "60000/60000 [==============================] - 4s 58us/sample - loss: 2.8890 - acc: 0.3487 - top_k_categorical_accuracy: 0.6362 - val_loss: 2.8362 - val_acc: 0.3686 - val_top_k_categorical_accuracy: 0.6520\n",
            "Epoch 3/3\n",
            "60000/60000 [==============================] - 4s 59us/sample - loss: 2.4576 - acc: 0.4326 - top_k_categorical_accuracy: 0.7136 - val_loss: 2.6735 - val_acc: 0.3916 - val_top_k_categorical_accuracy: 0.6846\n",
            "{'loss': [4.141663592529297, 2.889044596862793, 2.4576384531021116], 'acc': [0.15965, 0.34875, 0.43265], 'top_k_categorical_accuracy': [0.36405, 0.6362333, 0.71358335], 'val_loss': [3.3719916774749756, 2.836154476928711, 2.6734611484527586], 'val_acc': [0.2666, 0.3686, 0.3916], 'val_top_k_categorical_accuracy': [0.546, 0.652, 0.6846]}\n",
            "\n",
            "Accuracy: 39.16%\n",
            "\n",
            "model # 28\n",
            "\n",
            "learning rate: 5.4e-04\n",
            "num_dense_layers: 1\n",
            "num_dense_nodes: 1024\n",
            "kernel_size: 4\n",
            "activation: elu\n",
            "\n",
            "Train on 60000 samples, validate on 5000 samples\n",
            "Epoch 1/3\n",
            "60000/60000 [==============================] - 4s 62us/sample - loss: 4.2492 - acc: 0.1476 - top_k_categorical_accuracy: 0.3435 - val_loss: 3.4958 - val_acc: 0.2552 - val_top_k_categorical_accuracy: 0.5140\n",
            "Epoch 2/3\n",
            "60000/60000 [==============================] - 3s 57us/sample - loss: 3.0379 - acc: 0.3258 - top_k_categorical_accuracy: 0.6080 - val_loss: 2.9655 - val_acc: 0.3422 - val_top_k_categorical_accuracy: 0.6354\n",
            "Epoch 3/3\n",
            "60000/60000 [==============================] - 3s 57us/sample - loss: 2.6006 - acc: 0.4051 - top_k_categorical_accuracy: 0.6871 - val_loss: 2.7586 - val_acc: 0.3822 - val_top_k_categorical_accuracy: 0.6700\n",
            "{'loss': [4.2491925369262695, 3.0379037499745687, 2.6005806564331055], 'acc': [0.14761667, 0.32583332, 0.40513334], 'top_k_categorical_accuracy': [0.34348333, 0.60798335, 0.6870833], 'val_loss': [3.4958319648742675, 2.965456753540039, 2.758611863708496], 'val_acc': [0.2552, 0.3422, 0.3822], 'val_top_k_categorical_accuracy': [0.514, 0.6354, 0.67]}\n",
            "\n",
            "Accuracy: 38.22%\n",
            "\n",
            "model # 29\n",
            "\n",
            "learning rate: 7.6e-04\n",
            "num_dense_layers: 1\n",
            "num_dense_nodes: 865\n",
            "kernel_size: 4\n",
            "activation: elu\n",
            "\n",
            "Train on 60000 samples, validate on 5000 samples\n",
            "Epoch 1/3\n",
            "60000/60000 [==============================] - 4s 62us/sample - loss: 4.0954 - acc: 0.1708 - top_k_categorical_accuracy: 0.3758 - val_loss: 3.3059 - val_acc: 0.2806 - val_top_k_categorical_accuracy: 0.5636\n",
            "Epoch 2/3\n",
            "60000/60000 [==============================] - 3s 58us/sample - loss: 2.8260 - acc: 0.3618 - top_k_categorical_accuracy: 0.6469 - val_loss: 2.7965 - val_acc: 0.3756 - val_top_k_categorical_accuracy: 0.6654\n",
            "Epoch 3/3\n",
            "60000/60000 [==============================] - 3s 58us/sample - loss: 2.4259 - acc: 0.4359 - top_k_categorical_accuracy: 0.7181 - val_loss: 2.6425 - val_acc: 0.4012 - val_top_k_categorical_accuracy: 0.6852\n",
            "{'loss': [4.095357511266073, 2.8260020946502684, 2.4258540576934813], 'acc': [0.1708, 0.36185, 0.43591666], 'top_k_categorical_accuracy': [0.3758, 0.6468667, 0.71811664], 'val_loss': [3.3059383850097657, 2.7964725311279297, 2.6424979885101316], 'val_acc': [0.2806, 0.3756, 0.4012], 'val_top_k_categorical_accuracy': [0.5636, 0.6654, 0.6852]}\n",
            "\n",
            "Accuracy: 40.12%\n",
            "\n",
            "model # 30\n",
            "\n",
            "learning rate: 7.4e-04\n",
            "num_dense_layers: 1\n",
            "num_dense_nodes: 822\n",
            "kernel_size: 4\n",
            "activation: elu\n",
            "\n",
            "Train on 60000 samples, validate on 5000 samples\n",
            "Epoch 1/3\n",
            "60000/60000 [==============================] - 4s 63us/sample - loss: 4.0895 - acc: 0.1697 - top_k_categorical_accuracy: 0.3771 - val_loss: 3.2280 - val_acc: 0.2924 - val_top_k_categorical_accuracy: 0.5734\n",
            "Epoch 2/3\n",
            "60000/60000 [==============================] - 3s 57us/sample - loss: 2.8082 - acc: 0.3641 - top_k_categorical_accuracy: 0.6508 - val_loss: 2.8156 - val_acc: 0.3734 - val_top_k_categorical_accuracy: 0.6572\n",
            "Epoch 3/3\n",
            "60000/60000 [==============================] - 3s 58us/sample - loss: 2.4118 - acc: 0.4390 - top_k_categorical_accuracy: 0.7220 - val_loss: 2.6094 - val_acc: 0.4212 - val_top_k_categorical_accuracy: 0.6998\n",
            "{'loss': [4.089503462600708, 2.8081638886769613, 2.411786533228556], 'acc': [0.16965, 0.36408332, 0.43903333], 'top_k_categorical_accuracy': [0.37713334, 0.6508, 0.722], 'val_loss': [3.2280455711364744, 2.815607760620117, 2.6093847984313965], 'val_acc': [0.2924, 0.3734, 0.4212], 'val_top_k_categorical_accuracy': [0.5734, 0.6572, 0.6998]}\n",
            "\n",
            "Accuracy: 42.12%\n",
            "\n",
            "model # 31\n",
            "\n",
            "learning rate: 7.6e-04\n",
            "num_dense_layers: 1\n",
            "num_dense_nodes: 754\n",
            "kernel_size: 3\n",
            "activation: elu\n",
            "\n",
            "Train on 60000 samples, validate on 5000 samples\n",
            "Epoch 1/3\n",
            "60000/60000 [==============================] - 3s 57us/sample - loss: 4.1692 - acc: 0.1621 - top_k_categorical_accuracy: 0.3616 - val_loss: 3.3685 - val_acc: 0.2692 - val_top_k_categorical_accuracy: 0.5504\n",
            "Epoch 2/3\n",
            "60000/60000 [==============================] - 3s 52us/sample - loss: 2.9199 - acc: 0.3483 - top_k_categorical_accuracy: 0.6305 - val_loss: 2.8951 - val_acc: 0.3644 - val_top_k_categorical_accuracy: 0.6342\n",
            "Epoch 3/3\n",
            "60000/60000 [==============================] - 3s 52us/sample - loss: 2.5211 - acc: 0.4197 - top_k_categorical_accuracy: 0.7025 - val_loss: 2.6890 - val_acc: 0.3964 - val_top_k_categorical_accuracy: 0.6854\n",
            "{'loss': [4.169159403101603, 2.9198928385416667, 2.5211487827301027], 'acc': [0.16208333, 0.34826666, 0.41971666], 'top_k_categorical_accuracy': [0.36165, 0.6305, 0.7025333], 'val_loss': [3.368483445739746, 2.895098979187012, 2.689009232330322], 'val_acc': [0.2692, 0.3644, 0.3964], 'val_top_k_categorical_accuracy': [0.5504, 0.6342, 0.6854]}\n",
            "\n",
            "Accuracy: 39.64%\n",
            "\n",
            "model # 32\n",
            "\n",
            "learning rate: 7.9e-04\n",
            "num_dense_layers: 1\n",
            "num_dense_nodes: 707\n",
            "kernel_size: 4\n",
            "activation: elu\n",
            "\n",
            "Train on 60000 samples, validate on 5000 samples\n",
            "Epoch 1/3\n",
            "60000/60000 [==============================] - 4s 63us/sample - loss: 4.0918 - acc: 0.1697 - top_k_categorical_accuracy: 0.3777 - val_loss: 3.2825 - val_acc: 0.2882 - val_top_k_categorical_accuracy: 0.5610\n",
            "Epoch 2/3\n",
            "60000/60000 [==============================] - 3s 56us/sample - loss: 2.8288 - acc: 0.3602 - top_k_categorical_accuracy: 0.6469 - val_loss: 2.8174 - val_acc: 0.3740 - val_top_k_categorical_accuracy: 0.6578\n",
            "Epoch 3/3\n",
            "60000/60000 [==============================] - 3s 57us/sample - loss: 2.4211 - acc: 0.4362 - top_k_categorical_accuracy: 0.7189 - val_loss: 2.6339 - val_acc: 0.4072 - val_top_k_categorical_accuracy: 0.6904\n",
            "{'loss': [4.091828383000692, 2.828818390274048, 2.421076840655009], 'acc': [0.1697, 0.36021668, 0.43618333], 'top_k_categorical_accuracy': [0.37766665, 0.6468833, 0.71895], 'val_loss': [3.28252077293396, 2.8174112865447998, 2.6338956535339357], 'val_acc': [0.2882, 0.374, 0.4072], 'val_top_k_categorical_accuracy': [0.561, 0.6578, 0.6904]}\n",
            "\n",
            "Accuracy: 40.72%\n",
            "\n",
            "model # 33\n",
            "\n",
            "learning rate: 7.8e-04\n",
            "num_dense_layers: 1\n",
            "num_dense_nodes: 723\n",
            "kernel_size: 4\n",
            "activation: elu\n",
            "\n",
            "Train on 60000 samples, validate on 5000 samples\n",
            "Epoch 1/3\n",
            "60000/60000 [==============================] - 4s 62us/sample - loss: 4.1097 - acc: 0.1661 - top_k_categorical_accuracy: 0.3735 - val_loss: 3.2641 - val_acc: 0.2910 - val_top_k_categorical_accuracy: 0.5670\n",
            "Epoch 2/3\n",
            "60000/60000 [==============================] - 3s 58us/sample - loss: 2.8319 - acc: 0.3614 - top_k_categorical_accuracy: 0.6462 - val_loss: 2.8104 - val_acc: 0.3724 - val_top_k_categorical_accuracy: 0.6618\n",
            "Epoch 3/3\n",
            "60000/60000 [==============================] - 3s 58us/sample - loss: 2.4197 - acc: 0.4376 - top_k_categorical_accuracy: 0.7192 - val_loss: 2.6600 - val_acc: 0.4034 - val_top_k_categorical_accuracy: 0.6896\n",
            "{'loss': [4.109724795659383, 2.83192289390564, 2.4197254338582357], 'acc': [0.16605, 0.36138332, 0.4376], 'top_k_categorical_accuracy': [0.37353334, 0.6462333, 0.71923333], 'val_loss': [3.2641449897766113, 2.8104135974884032, 2.660023419189453], 'val_acc': [0.291, 0.3724, 0.4034], 'val_top_k_categorical_accuracy': [0.567, 0.6618, 0.6896]}\n",
            "\n",
            "Accuracy: 40.34%\n",
            "\n",
            "model # 34\n",
            "\n",
            "learning rate: 6.9e-04\n",
            "num_dense_layers: 1\n",
            "num_dense_nodes: 1024\n",
            "kernel_size: 4\n",
            "activation: sigmoid\n",
            "\n",
            "Train on 60000 samples, validate on 5000 samples\n",
            "Epoch 1/3\n",
            "60000/60000 [==============================] - 4s 62us/sample - loss: 5.8824 - acc: 0.0026 - top_k_categorical_accuracy: 0.0138 - val_loss: 5.8489 - val_acc: 0.0032 - val_top_k_categorical_accuracy: 0.0148\n",
            "Epoch 2/3\n",
            "60000/60000 [==============================] - 4s 58us/sample - loss: 5.8456 - acc: 0.0027 - top_k_categorical_accuracy: 0.0151 - val_loss: 5.8457 - val_acc: 0.0028 - val_top_k_categorical_accuracy: 0.0144\n",
            "Epoch 3/3\n",
            "60000/60000 [==============================] - 4s 61us/sample - loss: 5.8438 - acc: 0.0027 - top_k_categorical_accuracy: 0.0152 - val_loss: 5.8460 - val_acc: 0.0028 - val_top_k_categorical_accuracy: 0.0152\n",
            "{'loss': [5.882392017364502, 5.845648961385091, 5.843828734079997], 'acc': [0.0026166667, 0.0027, 0.0026833334], 'top_k_categorical_accuracy': [0.013833334, 0.0150666665, 0.015166666], 'val_loss': [5.848853298950195, 5.845698937225341, 5.845991079711914], 'val_acc': [0.0032, 0.0028, 0.0028], 'val_top_k_categorical_accuracy': [0.0148, 0.0144, 0.0152]}\n",
            "\n",
            "Accuracy: 0.28%\n",
            "\n",
            "model # 35\n",
            "\n",
            "learning rate: 1.0e-06\n",
            "num_dense_layers: 1\n",
            "num_dense_nodes: 1024\n",
            "kernel_size: 4\n",
            "activation: sigmoid\n",
            "\n",
            "Train on 60000 samples, validate on 5000 samples\n",
            "Epoch 1/3\n",
            "60000/60000 [==============================] - 4s 65us/sample - loss: 6.0011 - acc: 0.0027 - top_k_categorical_accuracy: 0.0138 - val_loss: 5.9738 - val_acc: 0.0022 - val_top_k_categorical_accuracy: 0.0132\n",
            "Epoch 2/3\n",
            "60000/60000 [==============================] - 3s 57us/sample - loss: 5.9621 - acc: 0.0027 - top_k_categorical_accuracy: 0.0138 - val_loss: 5.9419 - val_acc: 0.0022 - val_top_k_categorical_accuracy: 0.0132\n",
            "Epoch 3/3\n",
            "60000/60000 [==============================] - 3s 57us/sample - loss: 5.9331 - acc: 0.0027 - top_k_categorical_accuracy: 0.0138 - val_loss: 5.9181 - val_acc: 0.0022 - val_top_k_categorical_accuracy: 0.0132\n",
            "{'loss': [6.0011076072692875, 5.96207235438029, 5.933081436920166], 'acc': [0.0027, 0.0027, 0.0027], 'top_k_categorical_accuracy': [0.0138, 0.0138, 0.0138], 'val_loss': [5.9737723487854, 5.9418639465332035, 5.918082385253906], 'val_acc': [0.0022, 0.0022, 0.0022], 'val_top_k_categorical_accuracy': [0.0132, 0.0132, 0.0132]}\n",
            "\n",
            "Accuracy: 0.22%\n",
            "\n",
            "model # 36\n",
            "\n",
            "learning rate: 7.7e-04\n",
            "num_dense_layers: 1\n",
            "num_dense_nodes: 757\n",
            "kernel_size: 4\n",
            "activation: elu\n",
            "\n",
            "Train on 60000 samples, validate on 5000 samples\n",
            "Epoch 1/3\n",
            "60000/60000 [==============================] - 4s 62us/sample - loss: 4.1012 - acc: 0.1692 - top_k_categorical_accuracy: 0.3781 - val_loss: 3.3425 - val_acc: 0.2776 - val_top_k_categorical_accuracy: 0.5586\n",
            "Epoch 2/3\n",
            "60000/60000 [==============================] - 3s 57us/sample - loss: 2.8496 - acc: 0.3559 - top_k_categorical_accuracy: 0.6415 - val_loss: 2.8704 - val_acc: 0.3638 - val_top_k_categorical_accuracy: 0.6418\n",
            "Epoch 3/3\n",
            "60000/60000 [==============================] - 3s 57us/sample - loss: 2.4404 - acc: 0.4335 - top_k_categorical_accuracy: 0.7160 - val_loss: 2.6604 - val_acc: 0.4068 - val_top_k_categorical_accuracy: 0.6844\n",
            "{'loss': [4.101185257466634, 2.849596421432495, 2.4404001394907633], 'acc': [0.16925, 0.35595, 0.43348333], 'top_k_categorical_accuracy': [0.37813333, 0.6414833, 0.71603334], 'val_loss': [3.342481929397583, 2.8703977905273437, 2.660402607345581], 'val_acc': [0.2776, 0.3638, 0.4068], 'val_top_k_categorical_accuracy': [0.5586, 0.6418, 0.6844]}\n",
            "\n",
            "Accuracy: 40.68%\n",
            "\n",
            "model # 37\n",
            "\n",
            "learning rate: 7.6e-04\n",
            "num_dense_layers: 1\n",
            "num_dense_nodes: 760\n",
            "kernel_size: 4\n",
            "activation: elu\n",
            "\n",
            "Train on 60000 samples, validate on 5000 samples\n",
            "Epoch 1/3\n",
            "60000/60000 [==============================] - 4s 62us/sample - loss: 4.1759 - acc: 0.1565 - top_k_categorical_accuracy: 0.3595 - val_loss: 3.4396 - val_acc: 0.2560 - val_top_k_categorical_accuracy: 0.5368\n",
            "Epoch 2/3\n",
            "60000/60000 [==============================] - 3s 57us/sample - loss: 2.9236 - acc: 0.3431 - top_k_categorical_accuracy: 0.6281 - val_loss: 2.9001 - val_acc: 0.3618 - val_top_k_categorical_accuracy: 0.6428\n",
            "Epoch 3/3\n",
            "60000/60000 [==============================] - 3s 58us/sample - loss: 2.4729 - acc: 0.4266 - top_k_categorical_accuracy: 0.7106 - val_loss: 2.7043 - val_acc: 0.3950 - val_top_k_categorical_accuracy: 0.6776\n",
            "{'loss': [4.175881927363077, 2.9236229757944745, 2.472866686121623], 'acc': [0.1565, 0.34311667, 0.42661667], 'top_k_categorical_accuracy': [0.35953334, 0.62815, 0.71055], 'val_loss': [3.4395757022857665, 2.9000598609924317, 2.7042579334259034], 'val_acc': [0.256, 0.3618, 0.395], 'val_top_k_categorical_accuracy': [0.5368, 0.6428, 0.6776]}\n",
            "\n",
            "Accuracy: 39.50%\n",
            "\n",
            "model # 38\n",
            "\n",
            "learning rate: 7.7e-04\n",
            "num_dense_layers: 1\n",
            "num_dense_nodes: 763\n",
            "kernel_size: 4\n",
            "activation: elu\n",
            "\n",
            "Train on 60000 samples, validate on 5000 samples\n",
            "Epoch 1/3\n",
            "60000/60000 [==============================] - 4s 64us/sample - loss: 4.0977 - acc: 0.1672 - top_k_categorical_accuracy: 0.3765 - val_loss: 3.2799 - val_acc: 0.2920 - val_top_k_categorical_accuracy: 0.5626\n",
            "Epoch 2/3\n",
            "60000/60000 [==============================] - 4s 58us/sample - loss: 2.8382 - acc: 0.3586 - top_k_categorical_accuracy: 0.6450 - val_loss: 2.8510 - val_acc: 0.3734 - val_top_k_categorical_accuracy: 0.6618\n",
            "Epoch 3/3\n",
            "60000/60000 [==============================] - 4s 59us/sample - loss: 2.4318 - acc: 0.4350 - top_k_categorical_accuracy: 0.7163 - val_loss: 2.6161 - val_acc: 0.4094 - val_top_k_categorical_accuracy: 0.6964\n",
            "{'loss': [4.09768848508199, 2.8382132334391277, 2.4317719776153566], 'acc': [0.16721667, 0.35856667, 0.43498334], 'top_k_categorical_accuracy': [0.37655, 0.645, 0.71625], 'val_loss': [3.279948536300659, 2.8509936157226563, 2.616066618347168], 'val_acc': [0.292, 0.3734, 0.4094], 'val_top_k_categorical_accuracy': [0.5626, 0.6618, 0.6964]}\n",
            "\n",
            "Accuracy: 40.94%\n",
            "\n",
            "model # 39\n",
            "\n",
            "learning rate: 7.7e-04\n",
            "num_dense_layers: 1\n",
            "num_dense_nodes: 763\n",
            "kernel_size: 4\n",
            "activation: elu\n",
            "\n",
            "Train on 60000 samples, validate on 5000 samples\n",
            "Epoch 1/3\n",
            "60000/60000 [==============================] - 4s 62us/sample - loss: 4.1476 - acc: 0.1599 - top_k_categorical_accuracy: 0.3657 - val_loss: 3.4007 - val_acc: 0.2664 - val_top_k_categorical_accuracy: 0.5372\n",
            "Epoch 2/3\n",
            "60000/60000 [==============================] - 3s 57us/sample - loss: 2.8823 - acc: 0.3509 - top_k_categorical_accuracy: 0.6349 - val_loss: 2.8548 - val_acc: 0.3694 - val_top_k_categorical_accuracy: 0.6506\n",
            "Epoch 3/3\n",
            "60000/60000 [==============================] - 3s 56us/sample - loss: 2.4513 - acc: 0.4304 - top_k_categorical_accuracy: 0.7138 - val_loss: 2.6375 - val_acc: 0.4018 - val_top_k_categorical_accuracy: 0.6862\n",
            "{'loss': [4.14762525583903, 2.882261243693034, 2.4513470024108885], 'acc': [0.15986666, 0.35093334, 0.43043333], 'top_k_categorical_accuracy': [0.36571667, 0.6349, 0.71383333], 'val_loss': [3.4007212326049805, 2.854773759841919, 2.6374752838134765], 'val_acc': [0.2664, 0.3694, 0.4018], 'val_top_k_categorical_accuracy': [0.5372, 0.6506, 0.6862]}\n",
            "\n",
            "Accuracy: 40.18%\n",
            "\n",
            "model # 40\n",
            "\n",
            "learning rate: 7.6e-04\n",
            "num_dense_layers: 1\n",
            "num_dense_nodes: 765\n",
            "kernel_size: 4\n",
            "activation: elu\n",
            "\n",
            "Train on 60000 samples, validate on 5000 samples\n",
            "Epoch 1/3\n",
            "60000/60000 [==============================] - 4s 64us/sample - loss: 4.0291 - acc: 0.1789 - top_k_categorical_accuracy: 0.3920 - val_loss: 3.2403 - val_acc: 0.2880 - val_top_k_categorical_accuracy: 0.5750\n",
            "Epoch 2/3\n",
            "60000/60000 [==============================] - 3s 57us/sample - loss: 2.7728 - acc: 0.3736 - top_k_categorical_accuracy: 0.6573 - val_loss: 2.7711 - val_acc: 0.3836 - val_top_k_categorical_accuracy: 0.6614\n",
            "Epoch 3/3\n",
            "60000/60000 [==============================] - 3s 58us/sample - loss: 2.3973 - acc: 0.4436 - top_k_categorical_accuracy: 0.7222 - val_loss: 2.6193 - val_acc: 0.4130 - val_top_k_categorical_accuracy: 0.6970\n",
            "{'loss': [4.029079206848144, 2.7728177145640056, 2.397288660812378], 'acc': [0.17895, 0.37356666, 0.44358334], 'top_k_categorical_accuracy': [0.39201668, 0.6573167, 0.72225], 'val_loss': [3.240313120651245, 2.7710534713745116, 2.619264284515381], 'val_acc': [0.288, 0.3836, 0.413], 'val_top_k_categorical_accuracy': [0.575, 0.6614, 0.697]}\n",
            "\n",
            "Accuracy: 41.30%\n",
            "\n",
            "model # 41\n",
            "\n",
            "learning rate: 7.7e-04\n",
            "num_dense_layers: 1\n",
            "num_dense_nodes: 765\n",
            "kernel_size: 4\n",
            "activation: elu\n",
            "\n",
            "Train on 60000 samples, validate on 5000 samples\n",
            "Epoch 1/3\n",
            "60000/60000 [==============================] - 4s 62us/sample - loss: 4.0228 - acc: 0.1805 - top_k_categorical_accuracy: 0.3938 - val_loss: 3.1935 - val_acc: 0.2982 - val_top_k_categorical_accuracy: 0.5852\n",
            "Epoch 2/3\n",
            "60000/60000 [==============================] - 3s 57us/sample - loss: 2.7855 - acc: 0.3713 - top_k_categorical_accuracy: 0.6537 - val_loss: 2.7972 - val_acc: 0.3788 - val_top_k_categorical_accuracy: 0.6586\n",
            "Epoch 3/3\n",
            "60000/60000 [==============================] - 3s 57us/sample - loss: 2.3902 - acc: 0.4427 - top_k_categorical_accuracy: 0.7252 - val_loss: 2.6417 - val_acc: 0.4020 - val_top_k_categorical_accuracy: 0.6962\n",
            "{'loss': [4.0227899129231774, 2.785499473317464, 2.3902467695871987], 'acc': [0.1805, 0.37133333, 0.44271666], 'top_k_categorical_accuracy': [0.39375, 0.6537, 0.7252333], 'val_loss': [3.1935370922088624, 2.7971976621627808, 2.641650288772583], 'val_acc': [0.2982, 0.3788, 0.402], 'val_top_k_categorical_accuracy': [0.5852, 0.6586, 0.6962]}\n",
            "\n",
            "Accuracy: 40.20%\n",
            "\n",
            "model # 42\n",
            "\n",
            "learning rate: 1.0e-06\n",
            "num_dense_layers: 8\n",
            "num_dense_nodes: 1024\n",
            "kernel_size: 1\n",
            "activation: sigmoid\n",
            "\n",
            "Train on 60000 samples, validate on 5000 samples\n",
            "Epoch 1/3\n",
            "60000/60000 [==============================] - 5s 89us/sample - loss: 5.9979 - acc: 0.0031 - top_k_categorical_accuracy: 0.0145 - val_loss: 5.9716 - val_acc: 0.0022 - val_top_k_categorical_accuracy: 0.0122\n",
            "Epoch 2/3\n",
            "60000/60000 [==============================] - 5s 79us/sample - loss: 5.9427 - acc: 0.0031 - top_k_categorical_accuracy: 0.0145 - val_loss: 5.9289 - val_acc: 0.0022 - val_top_k_categorical_accuracy: 0.0122\n",
            "Epoch 3/3\n",
            "60000/60000 [==============================] - 5s 79us/sample - loss: 5.9087 - acc: 0.0031 - top_k_categorical_accuracy: 0.0147 - val_loss: 5.9018 - val_acc: 0.0022 - val_top_k_categorical_accuracy: 0.0122\n",
            "{'loss': [5.997948129272461, 5.942665853118896, 5.908717701975505], 'acc': [0.0031166666, 0.0031166666, 0.0031166666], 'top_k_categorical_accuracy': [0.0145166665, 0.0145166665, 0.0147], 'val_loss': [5.971624675750732, 5.928877966308594, 5.901844192504883], 'val_acc': [0.0022, 0.0022, 0.0022], 'val_top_k_categorical_accuracy': [0.0122, 0.0122, 0.0122]}\n",
            "\n",
            "Accuracy: 0.22%\n",
            "\n",
            "model # 43\n",
            "\n",
            "learning rate: 7.6e-04\n",
            "num_dense_layers: 1\n",
            "num_dense_nodes: 769\n",
            "kernel_size: 4\n",
            "activation: elu\n",
            "\n",
            "Train on 60000 samples, validate on 5000 samples\n",
            "Epoch 1/3\n",
            "60000/60000 [==============================] - 4s 63us/sample - loss: 4.1217 - acc: 0.1638 - top_k_categorical_accuracy: 0.3735 - val_loss: 3.2771 - val_acc: 0.2928 - val_top_k_categorical_accuracy: 0.5708\n",
            "Epoch 2/3\n",
            "60000/60000 [==============================] - 3s 58us/sample - loss: 2.8554 - acc: 0.3566 - top_k_categorical_accuracy: 0.6422 - val_loss: 2.8253 - val_acc: 0.3694 - val_top_k_categorical_accuracy: 0.6562\n",
            "Epoch 3/3\n",
            "60000/60000 [==============================] - 3s 58us/sample - loss: 2.4531 - acc: 0.4311 - top_k_categorical_accuracy: 0.7137 - val_loss: 2.6584 - val_acc: 0.3998 - val_top_k_categorical_accuracy: 0.6948\n",
            "{'loss': [4.121650439453125, 2.855365273920695, 2.453140306854248], 'acc': [0.16385, 0.35661668, 0.43111667], 'top_k_categorical_accuracy': [0.37353334, 0.6422333, 0.7136833], 'val_loss': [3.2771190002441406, 2.8253230308532715, 2.658416222000122], 'val_acc': [0.2928, 0.3694, 0.3998], 'val_top_k_categorical_accuracy': [0.5708, 0.6562, 0.6948]}\n",
            "\n",
            "Accuracy: 39.98%\n",
            "\n",
            "model # 44\n",
            "\n",
            "learning rate: 7.6e-04\n",
            "num_dense_layers: 1\n",
            "num_dense_nodes: 767\n",
            "kernel_size: 4\n",
            "activation: elu\n",
            "\n",
            "Train on 60000 samples, validate on 5000 samples\n",
            "Epoch 1/3\n",
            "60000/60000 [==============================] - 4s 62us/sample - loss: 4.1398 - acc: 0.1613 - top_k_categorical_accuracy: 0.3665 - val_loss: 3.3213 - val_acc: 0.2846 - val_top_k_categorical_accuracy: 0.5592\n",
            "Epoch 2/3\n",
            "60000/60000 [==============================] - 3s 57us/sample - loss: 2.8947 - acc: 0.3492 - top_k_categorical_accuracy: 0.6316 - val_loss: 2.8519 - val_acc: 0.3656 - val_top_k_categorical_accuracy: 0.6448\n",
            "Epoch 3/3\n",
            "60000/60000 [==============================] - 3s 57us/sample - loss: 2.4639 - acc: 0.4298 - top_k_categorical_accuracy: 0.7124 - val_loss: 2.6940 - val_acc: 0.4066 - val_top_k_categorical_accuracy: 0.6796\n",
            "{'loss': [4.139767929204305, 2.8947134404500328, 2.4638991146087648], 'acc': [0.16133334, 0.34916666, 0.4298], 'top_k_categorical_accuracy': [0.36648333, 0.63158333, 0.71236664], 'val_loss': [3.3212764083862303, 2.8519341300964354, 2.693963115310669], 'val_acc': [0.2846, 0.3656, 0.4066], 'val_top_k_categorical_accuracy': [0.5592, 0.6448, 0.6796]}\n",
            "\n",
            "Accuracy: 40.66%\n",
            "\n",
            "model # 45\n",
            "\n",
            "learning rate: 1.0e-02\n",
            "num_dense_layers: 8\n",
            "num_dense_nodes: 5\n",
            "kernel_size: 4\n",
            "activation: elu\n",
            "\n",
            "Train on 60000 samples, validate on 5000 samples\n",
            "Epoch 1/3\n",
            "60000/60000 [==============================] - 5s 89us/sample - loss: 5.5593 - acc: 0.0081 - top_k_categorical_accuracy: 0.0362 - val_loss: 5.4424 - val_acc: 0.0084 - val_top_k_categorical_accuracy: 0.0476\n",
            "Epoch 2/3\n",
            "60000/60000 [==============================] - 5s 82us/sample - loss: 5.3238 - acc: 0.0118 - top_k_categorical_accuracy: 0.0560 - val_loss: 5.2856 - val_acc: 0.0146 - val_top_k_categorical_accuracy: 0.0692\n",
            "Epoch 3/3\n",
            "60000/60000 [==============================] - 5s 78us/sample - loss: 5.2634 - acc: 0.0140 - top_k_categorical_accuracy: 0.0657 - val_loss: 5.2158 - val_acc: 0.0160 - val_top_k_categorical_accuracy: 0.0796\n",
            "{'loss': [5.559348184204102, 5.323802965291341, 5.2633822156270345], 'acc': [0.00805, 0.011766667, 0.013966667], 'top_k_categorical_accuracy': [0.036183335, 0.055966668, 0.06571667], 'val_loss': [5.442360472106934, 5.285585040283203, 5.2158171104431155], 'val_acc': [0.0084, 0.0146, 0.016], 'val_top_k_categorical_accuracy': [0.0476, 0.0692, 0.0796]}\n",
            "\n",
            "Accuracy: 1.60%\n",
            "\n",
            "model # 46\n",
            "\n",
            "learning rate: 7.6e-04\n",
            "num_dense_layers: 1\n",
            "num_dense_nodes: 772\n",
            "kernel_size: 4\n",
            "activation: elu\n",
            "\n",
            "Train on 60000 samples, validate on 5000 samples\n",
            "Epoch 1/3\n",
            "60000/60000 [==============================] - 4s 63us/sample - loss: 4.0928 - acc: 0.1677 - top_k_categorical_accuracy: 0.3796 - val_loss: 3.3024 - val_acc: 0.2774 - val_top_k_categorical_accuracy: 0.5644\n",
            "Epoch 2/3\n",
            "60000/60000 [==============================] - 3s 58us/sample - loss: 2.8429 - acc: 0.3573 - top_k_categorical_accuracy: 0.6448 - val_loss: 2.7948 - val_acc: 0.3716 - val_top_k_categorical_accuracy: 0.6560\n",
            "Epoch 3/3\n",
            "60000/60000 [==============================] - 3s 58us/sample - loss: 2.4376 - acc: 0.4343 - top_k_categorical_accuracy: 0.7176 - val_loss: 2.6191 - val_acc: 0.4004 - val_top_k_categorical_accuracy: 0.6944\n",
            "{'loss': [4.092786951828003, 2.8429207611083984, 2.4376319964090984], 'acc': [0.16773333, 0.3573, 0.43431666], 'top_k_categorical_accuracy': [0.37961668, 0.6448, 0.7176], 'val_loss': [3.3023792755126955, 2.794791900253296, 2.6191485275268556], 'val_acc': [0.2774, 0.3716, 0.4004], 'val_top_k_categorical_accuracy': [0.5644, 0.656, 0.6944]}\n",
            "\n",
            "Accuracy: 40.04%\n",
            "\n",
            "model # 47\n",
            "\n",
            "learning rate: 7.6e-04\n",
            "num_dense_layers: 1\n",
            "num_dense_nodes: 768\n",
            "kernel_size: 4\n",
            "activation: elu\n",
            "\n",
            "Train on 60000 samples, validate on 5000 samples\n",
            "Epoch 1/3\n",
            "60000/60000 [==============================] - 4s 63us/sample - loss: 4.1274 - acc: 0.1628 - top_k_categorical_accuracy: 0.3705 - val_loss: 3.4152 - val_acc: 0.2554 - val_top_k_categorical_accuracy: 0.5344\n",
            "Epoch 2/3\n",
            "60000/60000 [==============================] - 3s 58us/sample - loss: 2.9083 - acc: 0.3464 - top_k_categorical_accuracy: 0.6331 - val_loss: 2.8736 - val_acc: 0.3522 - val_top_k_categorical_accuracy: 0.6512\n",
            "Epoch 3/3\n",
            "60000/60000 [==============================] - 3s 58us/sample - loss: 2.4751 - acc: 0.4278 - top_k_categorical_accuracy: 0.7091 - val_loss: 2.6533 - val_acc: 0.4086 - val_top_k_categorical_accuracy: 0.6906\n",
            "{'loss': [4.1273879683176675, 2.9083361353556314, 2.475096766281128], 'acc': [0.16283333, 0.3464, 0.4278], 'top_k_categorical_accuracy': [0.37048334, 0.6331, 0.7090833], 'val_loss': [3.4152130317687988, 2.8735655944824217, 2.6532543243408204], 'val_acc': [0.2554, 0.3522, 0.4086], 'val_top_k_categorical_accuracy': [0.5344, 0.6512, 0.6906]}\n",
            "\n",
            "Accuracy: 40.86%\n",
            "\n",
            "model # 48\n",
            "\n",
            "learning rate: 7.6e-04\n",
            "num_dense_layers: 1\n",
            "num_dense_nodes: 768\n",
            "kernel_size: 4\n",
            "activation: elu\n",
            "\n",
            "Train on 60000 samples, validate on 5000 samples\n",
            "Epoch 1/3\n",
            "60000/60000 [==============================] - 4s 64us/sample - loss: 4.1257 - acc: 0.1640 - top_k_categorical_accuracy: 0.3712 - val_loss: 3.2996 - val_acc: 0.2860 - val_top_k_categorical_accuracy: 0.5598\n",
            "Epoch 2/3\n",
            "60000/60000 [==============================] - 3s 57us/sample - loss: 2.8599 - acc: 0.3543 - top_k_categorical_accuracy: 0.6389 - val_loss: 2.8137 - val_acc: 0.3702 - val_top_k_categorical_accuracy: 0.6568\n",
            "Epoch 3/3\n",
            "60000/60000 [==============================] - 3s 58us/sample - loss: 2.4406 - acc: 0.4316 - top_k_categorical_accuracy: 0.7160 - val_loss: 2.6650 - val_acc: 0.3992 - val_top_k_categorical_accuracy: 0.6862\n",
            "{'loss': [4.125654081090292, 2.859914124170939, 2.440633095677694], 'acc': [0.16398333, 0.35425, 0.43156666], 'top_k_categorical_accuracy': [0.37123334, 0.6389167, 0.71601665], 'val_loss': [3.2995591720581054, 2.8136526920318605, 2.6650454738616944], 'val_acc': [0.286, 0.3702, 0.3992], 'val_top_k_categorical_accuracy': [0.5598, 0.6568, 0.6862]}\n",
            "\n",
            "Accuracy: 39.92%\n",
            "\n",
            "model # 49\n",
            "\n",
            "learning rate: 7.6e-04\n",
            "num_dense_layers: 1\n",
            "num_dense_nodes: 766\n",
            "kernel_size: 4\n",
            "activation: elu\n",
            "\n",
            "Train on 60000 samples, validate on 5000 samples\n",
            "Epoch 1/3\n",
            "60000/60000 [==============================] - 4s 62us/sample - loss: 4.1553 - acc: 0.1573 - top_k_categorical_accuracy: 0.3656 - val_loss: 3.3501 - val_acc: 0.2686 - val_top_k_categorical_accuracy: 0.5478\n",
            "Epoch 2/3\n",
            "60000/60000 [==============================] - 3s 57us/sample - loss: 2.8896 - acc: 0.3496 - top_k_categorical_accuracy: 0.6357 - val_loss: 2.8610 - val_acc: 0.3658 - val_top_k_categorical_accuracy: 0.6506\n",
            "Epoch 3/3\n",
            "60000/60000 [==============================] - 3s 57us/sample - loss: 2.4571 - acc: 0.4296 - top_k_categorical_accuracy: 0.7151 - val_loss: 2.6598 - val_acc: 0.3992 - val_top_k_categorical_accuracy: 0.6886\n",
            "{'loss': [4.155283822504679, 2.8895945580800375, 2.4571491673787436], 'acc': [0.15725, 0.3496, 0.4296], 'top_k_categorical_accuracy': [0.36565, 0.63568336, 0.7150667], 'val_loss': [3.350112077331543, 2.861000857925415, 2.65976901550293], 'val_acc': [0.2686, 0.3658, 0.3992], 'val_top_k_categorical_accuracy': [0.5478, 0.6506, 0.6886]}\n",
            "\n",
            "Accuracy: 39.92%\n",
            "\n",
            "model # 50\n",
            "\n",
            "learning rate: 7.6e-04\n",
            "num_dense_layers: 1\n",
            "num_dense_nodes: 766\n",
            "kernel_size: 4\n",
            "activation: elu\n",
            "\n",
            "Train on 60000 samples, validate on 5000 samples\n",
            "Epoch 1/3\n",
            "60000/60000 [==============================] - 4s 63us/sample - loss: 4.0915 - acc: 0.1688 - top_k_categorical_accuracy: 0.3792 - val_loss: 3.2923 - val_acc: 0.2826 - val_top_k_categorical_accuracy: 0.5638\n",
            "Epoch 2/3\n",
            "60000/60000 [==============================] - 3s 58us/sample - loss: 2.8196 - acc: 0.3638 - top_k_categorical_accuracy: 0.6478 - val_loss: 2.8025 - val_acc: 0.3810 - val_top_k_categorical_accuracy: 0.6568\n",
            "Epoch 3/3\n",
            "60000/60000 [==============================] - 3s 58us/sample - loss: 2.4145 - acc: 0.4395 - top_k_categorical_accuracy: 0.7215 - val_loss: 2.6098 - val_acc: 0.4118 - val_top_k_categorical_accuracy: 0.6990\n",
            "{'loss': [4.091468567911784, 2.8195527954101562, 2.414523095448812], 'acc': [0.16883333, 0.36381668, 0.43953332], 'top_k_categorical_accuracy': [0.37918332, 0.64783335, 0.7215], 'val_loss': [3.2922595359802247, 2.8024868869781496, 2.6098445781707764], 'val_acc': [0.2826, 0.381, 0.4118], 'val_top_k_categorical_accuracy': [0.5638, 0.6568, 0.699]}\n",
            "\n",
            "Accuracy: 41.18%\n",
            "\n",
            "model # 51\n",
            "\n",
            "learning rate: 7.7e-04\n",
            "num_dense_layers: 1\n",
            "num_dense_nodes: 766\n",
            "kernel_size: 4\n",
            "activation: elu\n",
            "\n",
            "Train on 60000 samples, validate on 5000 samples\n",
            "Epoch 1/3\n",
            "60000/60000 [==============================] - 4s 62us/sample - loss: 4.0892 - acc: 0.1677 - top_k_categorical_accuracy: 0.3786 - val_loss: 3.2859 - val_acc: 0.2916 - val_top_k_categorical_accuracy: 0.5646\n",
            "Epoch 2/3\n",
            "60000/60000 [==============================] - 3s 57us/sample - loss: 2.8258 - acc: 0.3609 - top_k_categorical_accuracy: 0.6472 - val_loss: 2.8033 - val_acc: 0.3746 - val_top_k_categorical_accuracy: 0.6586\n",
            "Epoch 3/3\n",
            "60000/60000 [==============================] - 3s 57us/sample - loss: 2.4096 - acc: 0.4394 - top_k_categorical_accuracy: 0.7209 - val_loss: 2.6271 - val_acc: 0.4032 - val_top_k_categorical_accuracy: 0.6944\n",
            "{'loss': [4.089151677068075, 2.825774406051636, 2.409557002131144], 'acc': [0.16771667, 0.36086667, 0.43943334], 'top_k_categorical_accuracy': [0.37858334, 0.6472167, 0.7209333], 'val_loss': [3.2859274513244627, 2.8033413177490236, 2.627101496505737], 'val_acc': [0.2916, 0.3746, 0.4032], 'val_top_k_categorical_accuracy': [0.5646, 0.6586, 0.6944]}\n",
            "\n",
            "Accuracy: 40.32%\n",
            "\n"
          ],
          "name": "stdout"
        }
      ]
    },
    {
      "cell_type": "code",
      "metadata": {
        "id": "vdS6H4HfPwRl",
        "colab_type": "code",
        "outputId": "133c2b9d-8adf-42ee-b9ab-b8540e039a47",
        "colab": {
          "base_uri": "https://localhost:8080/",
          "height": 314
        }
      },
      "source": [
        "plot_convergence(search_result)"
      ],
      "execution_count": 0,
      "outputs": [
        {
          "output_type": "execute_result",
          "data": {
            "text/plain": [
              "<matplotlib.axes._subplots.AxesSubplot at 0x7f75b0415400>"
            ]
          },
          "metadata": {
            "tags": []
          },
          "execution_count": 40
        },
        {
          "output_type": "display_data",
          "data": {
            "image/png": "[encoded data removed]",
            "text/plain": [
              "<Figure size 432x288 with 1 Axes>"
            ]
          },
          "metadata": {
            "tags": []
          }
        }
      ]
    },
    {
      "cell_type": "code",
      "metadata": {
        "id": "pOUnazwXPwUD",
        "colab_type": "code",
        "outputId": "3acf08f2-e6f0-4ada-fa3f-1ef238c90688",
        "colab": {
          "base_uri": "https://localhost:8080/",
          "height": 34
        }
      },
      "source": [
        "search_result.x"
      ],
      "execution_count": 0,
      "outputs": [
        {
          "output_type": "execute_result",
          "data": {
            "text/plain": [
              "[0.0007388971256192591, 1, 822, 4, 'elu']"
            ]
          },
          "metadata": {
            "tags": []
          },
          "execution_count": 41
        }
      ]
    },
    {
      "cell_type": "code",
      "metadata": {
        "id": "K7cYtDAGPwPW",
        "colab_type": "code",
        "colab": {}
      },
      "source": [
        "space = search_result.space"
      ],
      "execution_count": 0,
      "outputs": []
    },
    {
      "cell_type": "code",
      "metadata": {
        "id": "UGCPiCKPP54t",
        "colab_type": "code",
        "outputId": "f4335f7b-bbc7-487f-ee5c-efd7344cb548",
        "colab": {
          "base_uri": "https://localhost:8080/",
          "height": 187
        }
      },
      "source": [
        "sorted(zip(search_result.func_vals, search_result.x_iters))[:10]"
      ],
      "execution_count": 0,
      "outputs": [
        {
          "output_type": "execute_result",
          "data": {
            "text/plain": [
              "[(-0.4212, [0.0007388971256192591, 1, 822, 4, 'elu']),\n",
              " (-0.413, [0.0007642006383557408, 1, 765, 4, 'elu']),\n",
              " (-0.4118, [0.0007638635151699078, 1, 766, 4, 'elu']),\n",
              " (-0.4094, [0.0007700741156066329, 1, 763, 4, 'elu']),\n",
              " (-0.4086, [0.0007630284333570987, 1, 768, 4, 'elu']),\n",
              " (-0.4072, [0.0007940616729351839, 1, 707, 4, 'elu']),\n",
              " (-0.4068, [0.0007711168491671444, 1, 757, 4, 'elu']),\n",
              " (-0.4066, [0.0007638239117450621, 1, 767, 4, 'elu']),\n",
              " (-0.4044, [0.0006116231610317688, 1, 1024, 4, 'elu']),\n",
              " (-0.4034, [0.000776032360522664, 1, 723, 4, 'elu'])]"
            ]
          },
          "metadata": {
            "tags": []
          },
          "execution_count": 43
        }
      ]
    },
    {
      "cell_type": "code",
      "metadata": {
        "id": "ARJSeB-SSU3s",
        "colab_type": "code",
        "colab": {}
      },
      "source": [
        ""
      ],
      "execution_count": 0,
      "outputs": []
    },
    {
      "cell_type": "code",
      "metadata": {
        "id": "Jv1KR8lZWooq",
        "colab_type": "code",
        "outputId": "5147486b-73ac-4240-a390-a943ee040be3",
        "colab": {
          "base_uri": "https://localhost:8080/",
          "height": 377
        }
      },
      "source": [
        "fitness(x=search_result.x)"
      ],
      "execution_count": 0,
      "outputs": [
        {
          "output_type": "stream",
          "text": [
            "model # 52\n",
            "\n",
            "learning rate: 7.4e-04\n",
            "num_dense_layers: 1\n",
            "num_dense_nodes: 822\n",
            "kernel_size: 4\n",
            "activation: elu\n",
            "\n",
            "Train on 60000 samples, validate on 5000 samples\n",
            "Epoch 1/3\n",
            "60000/60000 [==============================] - 4s 62us/sample - loss: 4.1774 - acc: 0.1561 - top_k_categorical_accuracy: 0.3599 - val_loss: 3.4076 - val_acc: 0.2712 - val_top_k_categorical_accuracy: 0.5398\n",
            "Epoch 2/3\n",
            "60000/60000 [==============================] - 3s 57us/sample - loss: 2.9249 - acc: 0.3423 - top_k_categorical_accuracy: 0.6287 - val_loss: 2.8910 - val_acc: 0.3676 - val_top_k_categorical_accuracy: 0.6438\n",
            "Epoch 3/3\n",
            "60000/60000 [==============================] - 3s 57us/sample - loss: 2.4772 - acc: 0.4271 - top_k_categorical_accuracy: 0.7116 - val_loss: 2.6740 - val_acc: 0.4002 - val_top_k_categorical_accuracy: 0.6802\n",
            "{'loss': [4.177425531641642, 2.924867175801595, 2.477169783528646], 'acc': [0.15606667, 0.3423, 0.42708334], 'top_k_categorical_accuracy': [0.35991666, 0.62865, 0.7116], 'val_loss': [3.4075909088134764, 2.8909639083862304, 2.673989165496826], 'val_acc': [0.2712, 0.3676, 0.4002], 'val_top_k_categorical_accuracy': [0.5398, 0.6438, 0.6802]}\n",
            "\n",
            "Accuracy: 40.02%\n",
            "\n"
          ],
          "name": "stdout"
        },
        {
          "output_type": "execute_result",
          "data": {
            "text/plain": [
              "-0.4002"
            ]
          },
          "metadata": {
            "tags": []
          },
          "execution_count": 44
        }
      ]
    },
    {
      "cell_type": "code",
      "metadata": {
        "id": "W2GKMPbiXBX1",
        "colab_type": "code",
        "outputId": "87a1578b-2b00-4c59-8895-48be431303c2",
        "colab": {
          "base_uri": "https://localhost:8080/",
          "height": 139
        }
      },
      "source": [
        "model = load_model('/content/best_model_initial_optimize.keras')"
      ],
      "execution_count": 0,
      "outputs": [
        {
          "output_type": "stream",
          "text": [
            "WARNING:tensorflow:From /usr/local/lib/python3.6/dist-packages/tensorflow_core/python/ops/init_ops.py:97: calling GlorotUniform.__init__ (from tensorflow.python.ops.init_ops) with dtype is deprecated and will be removed in a future version.\n",
            "Instructions for updating:\n",
            "Call initializer instance with the dtype argument instead of passing it to the constructor\n",
            "WARNING:tensorflow:From /usr/local/lib/python3.6/dist-packages/tensorflow_core/python/ops/init_ops.py:97: calling Zeros.__init__ (from tensorflow.python.ops.init_ops) with dtype is deprecated and will be removed in a future version.\n",
            "Instructions for updating:\n",
            "Call initializer instance with the dtype argument instead of passing it to the constructor\n"
          ],
          "name": "stdout"
        }
      ]
    },
    {
      "cell_type": "code",
      "metadata": {
        "id": "j_cdHJUA9Hsd",
        "colab_type": "code",
        "colab": {}
      },
      "source": [
        "del model"
      ],
      "execution_count": 0,
      "outputs": []
    },
    {
      "cell_type": "code",
      "metadata": {
        "id": "kuR7bVnwk2lt",
        "colab_type": "code",
        "colab": {}
      },
      "source": [
        "model = create_model()"
      ],
      "execution_count": 0,
      "outputs": []
    },
    {
      "cell_type": "code",
      "metadata": {
        "id": "xVOoXkRJlQIA",
        "colab_type": "code",
        "colab": {}
      },
      "source": [
        "model.compile(tf.keras.optimizers.Adam(learning_rate = 0.0007388971256192591),\n",
        "              loss = 'categorical_crossentropy',\n",
        "              metrics = ['accuracy', 'top_k_categorical_accuracy'])"
      ],
      "execution_count": 0,
      "outputs": []
    },
    {
      "cell_type": "code",
      "metadata": {
        "id": "3jtb8aECXre7",
        "colab_type": "code",
        "outputId": "9a908282-f363-4e08-8867-06f77fdb7eee",
        "colab": {
          "base_uri": "https://localhost:8080/",
          "height": 34
        }
      },
      "source": [
        "untrained = model.evaluate(x = x_test,\n",
        "                           y = y_test)"
      ],
      "execution_count": 0,
      "outputs": [
        {
          "output_type": "stream",
          "text": [
            "414000/414000 [==============================] - 29s 70us/sample - loss: 5.8443 - acc: 0.0030 - top_k_categorical_accuracy: 0.0127\n"
          ],
          "name": "stdout"
        }
      ]
    },
    {
      "cell_type": "code",
      "metadata": {
        "id": "XNlsCwk5YDzv",
        "colab_type": "code",
        "outputId": "73ef02ce-396e-4662-ff41-bb62201506df",
        "colab": {
          "base_uri": "https://localhost:8080/",
          "height": 1000
        }
      },
      "source": [
        "model.fit(x_train_l, y_train_l,\n",
        "          epochs=30,\n",
        "          batch_size=5120,\n",
        "          validation_data=(x_val, y_val))"
      ],
      "execution_count": 0,
      "outputs": [
        {
          "output_type": "stream",
          "text": [
            "Train on 1606000 samples, validate on 50000 samples\n",
            "Epoch 1/30\n",
            "1606000/1606000 [==============================] - 27s 17us/sample - loss: 3.4365 - acc: 0.2793 - top_k_categorical_accuracy: 0.5255 - val_loss: 2.6259 - val_acc: 0.4111 - val_top_k_categorical_accuracy: 0.6885\n",
            "Epoch 2/30\n",
            "1606000/1606000 [==============================] - 26s 16us/sample - loss: 2.3369 - acc: 0.4666 - top_k_categorical_accuracy: 0.7382 - val_loss: 2.1904 - val_acc: 0.4980 - val_top_k_categorical_accuracy: 0.7625\n",
            "Epoch 3/30\n",
            "1606000/1606000 [==============================] - 26s 16us/sample - loss: 2.0360 - acc: 0.5260 - top_k_categorical_accuracy: 0.7865 - val_loss: 1.9875 - val_acc: 0.5376 - val_top_k_categorical_accuracy: 0.7940\n",
            "Epoch 4/30\n",
            "1606000/1606000 [==============================] - 26s 16us/sample - loss: 1.8797 - acc: 0.5580 - top_k_categorical_accuracy: 0.8096 - val_loss: 1.8698 - val_acc: 0.5635 - val_top_k_categorical_accuracy: 0.8114\n",
            "Epoch 5/30\n",
            "1606000/1606000 [==============================] - 26s 16us/sample - loss: 1.7787 - acc: 0.5789 - top_k_categorical_accuracy: 0.8239 - val_loss: 1.7984 - val_acc: 0.5765 - val_top_k_categorical_accuracy: 0.8220\n",
            "Epoch 6/30\n",
            "1606000/1606000 [==============================] - 26s 16us/sample - loss: 1.7052 - acc: 0.5939 - top_k_categorical_accuracy: 0.8341 - val_loss: 1.7356 - val_acc: 0.5905 - val_top_k_categorical_accuracy: 0.8315\n",
            "Epoch 7/30\n",
            "1606000/1606000 [==============================] - 26s 16us/sample - loss: 1.6457 - acc: 0.6065 - top_k_categorical_accuracy: 0.8419 - val_loss: 1.6992 - val_acc: 0.5972 - val_top_k_categorical_accuracy: 0.8361\n",
            "Epoch 8/30\n",
            "1606000/1606000 [==============================] - 26s 16us/sample - loss: 1.5996 - acc: 0.6161 - top_k_categorical_accuracy: 0.8479 - val_loss: 1.6440 - val_acc: 0.6104 - val_top_k_categorical_accuracy: 0.8421\n",
            "Epoch 9/30\n",
            "1606000/1606000 [==============================] - 26s 16us/sample - loss: 1.5599 - acc: 0.6244 - top_k_categorical_accuracy: 0.8533 - val_loss: 1.6264 - val_acc: 0.6129 - val_top_k_categorical_accuracy: 0.8448\n",
            "Epoch 10/30\n",
            "1606000/1606000 [==============================] - 26s 16us/sample - loss: 1.5255 - acc: 0.6314 - top_k_categorical_accuracy: 0.8576 - val_loss: 1.5989 - val_acc: 0.6202 - val_top_k_categorical_accuracy: 0.8488\n",
            "Epoch 11/30\n",
            "1606000/1606000 [==============================] - 26s 16us/sample - loss: 1.4958 - acc: 0.6375 - top_k_categorical_accuracy: 0.8613 - val_loss: 1.5811 - val_acc: 0.6243 - val_top_k_categorical_accuracy: 0.8510\n",
            "Epoch 12/30\n",
            "1606000/1606000 [==============================] - 26s 16us/sample - loss: 1.4689 - acc: 0.6433 - top_k_categorical_accuracy: 0.8648 - val_loss: 1.5556 - val_acc: 0.6287 - val_top_k_categorical_accuracy: 0.8528\n",
            "Epoch 13/30\n",
            "1606000/1606000 [==============================] - 26s 16us/sample - loss: 1.4453 - acc: 0.6481 - top_k_categorical_accuracy: 0.8678 - val_loss: 1.5423 - val_acc: 0.6313 - val_top_k_categorical_accuracy: 0.8565\n",
            "Epoch 14/30\n",
            "1606000/1606000 [==============================] - 26s 16us/sample - loss: 1.4223 - acc: 0.6531 - top_k_categorical_accuracy: 0.8706 - val_loss: 1.5315 - val_acc: 0.6335 - val_top_k_categorical_accuracy: 0.8573\n",
            "Epoch 15/30\n",
            "1606000/1606000 [==============================] - 26s 16us/sample - loss: 1.4031 - acc: 0.6570 - top_k_categorical_accuracy: 0.8729 - val_loss: 1.5237 - val_acc: 0.6364 - val_top_k_categorical_accuracy: 0.8597\n",
            "Epoch 16/30\n",
            "1606000/1606000 [==============================] - 26s 16us/sample - loss: 1.3859 - acc: 0.6604 - top_k_categorical_accuracy: 0.8752 - val_loss: 1.5058 - val_acc: 0.6404 - val_top_k_categorical_accuracy: 0.8617\n",
            "Epoch 17/30\n",
            "1606000/1606000 [==============================] - 26s 16us/sample - loss: 1.3696 - acc: 0.6637 - top_k_categorical_accuracy: 0.8770 - val_loss: 1.5146 - val_acc: 0.6376 - val_top_k_categorical_accuracy: 0.8588\n",
            "Epoch 18/30\n",
            "1606000/1606000 [==============================] - 26s 16us/sample - loss: 1.3537 - acc: 0.6671 - top_k_categorical_accuracy: 0.8791 - val_loss: 1.4926 - val_acc: 0.6407 - val_top_k_categorical_accuracy: 0.8628\n",
            "Epoch 19/30\n",
            "1606000/1606000 [==============================] - 26s 16us/sample - loss: 1.3383 - acc: 0.6705 - top_k_categorical_accuracy: 0.8809 - val_loss: 1.4800 - val_acc: 0.6448 - val_top_k_categorical_accuracy: 0.8644\n",
            "Epoch 20/30\n",
            "1606000/1606000 [==============================] - 26s 16us/sample - loss: 1.3256 - acc: 0.6732 - top_k_categorical_accuracy: 0.8825 - val_loss: 1.4787 - val_acc: 0.6448 - val_top_k_categorical_accuracy: 0.8641\n",
            "Epoch 21/30\n",
            "1606000/1606000 [==============================] - 26s 16us/sample - loss: 1.3128 - acc: 0.6759 - top_k_categorical_accuracy: 0.8840 - val_loss: 1.4733 - val_acc: 0.6464 - val_top_k_categorical_accuracy: 0.8656\n",
            "Epoch 22/30\n",
            "1606000/1606000 [==============================] - 26s 16us/sample - loss: 1.3016 - acc: 0.6779 - top_k_categorical_accuracy: 0.8855 - val_loss: 1.4649 - val_acc: 0.6483 - val_top_k_categorical_accuracy: 0.8657\n",
            "Epoch 23/30\n",
            "1606000/1606000 [==============================] - 26s 16us/sample - loss: 1.2901 - acc: 0.6806 - top_k_categorical_accuracy: 0.8870 - val_loss: 1.4569 - val_acc: 0.6496 - val_top_k_categorical_accuracy: 0.8666\n",
            "Epoch 24/30\n",
            "1606000/1606000 [==============================] - 26s 16us/sample - loss: 1.2791 - acc: 0.6831 - top_k_categorical_accuracy: 0.8879 - val_loss: 1.4615 - val_acc: 0.6495 - val_top_k_categorical_accuracy: 0.8676\n",
            "Epoch 25/30\n",
            "1606000/1606000 [==============================] - 26s 16us/sample - loss: 1.2689 - acc: 0.6850 - top_k_categorical_accuracy: 0.8892 - val_loss: 1.4480 - val_acc: 0.6517 - val_top_k_categorical_accuracy: 0.8693\n",
            "Epoch 26/30\n",
            "1606000/1606000 [==============================] - 26s 16us/sample - loss: 1.2600 - acc: 0.6869 - top_k_categorical_accuracy: 0.8902 - val_loss: 1.4523 - val_acc: 0.6509 - val_top_k_categorical_accuracy: 0.8683\n",
            "Epoch 27/30\n",
            "1606000/1606000 [==============================] - 26s 16us/sample - loss: 1.2511 - acc: 0.6885 - top_k_categorical_accuracy: 0.8913 - val_loss: 1.4525 - val_acc: 0.6515 - val_top_k_categorical_accuracy: 0.8687\n",
            "Epoch 28/30\n",
            "1606000/1606000 [==============================] - 26s 16us/sample - loss: 1.2407 - acc: 0.6911 - top_k_categorical_accuracy: 0.8925 - val_loss: 1.4488 - val_acc: 0.6515 - val_top_k_categorical_accuracy: 0.8689\n",
            "Epoch 29/30\n",
            "1606000/1606000 [==============================] - 26s 16us/sample - loss: 1.2344 - acc: 0.6923 - top_k_categorical_accuracy: 0.8932 - val_loss: 1.4463 - val_acc: 0.6543 - val_top_k_categorical_accuracy: 0.8693\n",
            "Epoch 30/30\n",
            "1606000/1606000 [==============================] - 26s 16us/sample - loss: 1.2264 - acc: 0.6940 - top_k_categorical_accuracy: 0.8941 - val_loss: 1.4358 - val_acc: 0.6564 - val_top_k_categorical_accuracy: 0.8716\n"
          ],
          "name": "stdout"
        },
        {
          "output_type": "execute_result",
          "data": {
            "text/plain": [
              "<tensorflow.python.keras.callbacks.History at 0x7f76626db6d8>"
            ]
          },
          "metadata": {
            "tags": []
          },
          "execution_count": 69
        }
      ]
    },
    {
      "cell_type": "code",
      "metadata": {
        "id": "DEc7AHpYCm5V",
        "colab_type": "code",
        "colab": {}
      },
      "source": [
        "{'loss': [4.177425531641642, 2.924867175801595, 2.477169783528646], 'acc': [0.15606667, 0.3423, 0.42708334], 'top_k_categorical_accuracy': [0.35991666, 0.62865, 0.7116], 'val_loss': [3.4075909088134764, 2.8909639083862304, 2.673989165496826], 'val_acc': [0.2712, 0.3676, 0.4002], 'val_top_k_categorical_accuracy': [0.5398, 0.6438, 0.6802]}\n"
      ],
      "execution_count": 0,
      "outputs": []
    },
    {
      "cell_type": "code",
      "metadata": {
        "id": "D2aB4lGrDac7",
        "colab_type": "code",
        "colab": {}
      },
      "source": [
        "del model"
      ],
      "execution_count": 0,
      "outputs": []
    },
    {
      "cell_type": "code",
      "metadata": {
        "id": "1DSzU3k8DYAx",
        "colab_type": "code",
        "colab": {}
      },
      "source": [
        "model = create_model()"
      ],
      "execution_count": 0,
      "outputs": []
    },
    {
      "cell_type": "code",
      "metadata": {
        "id": "8_v9cehBDeP4",
        "colab_type": "code",
        "colab": {}
      },
      "source": [
        "model.compile(tf.keras.optimizers.Adam(learning_rate = 0.0007388971256192591),\n",
        "              loss = 'categorical_crossentropy',\n",
        "              metrics = ['accuracy', 'top_k_categorical_accuracy'])\n",
        "\n",
        "\n"
      ],
      "execution_count": 0,
      "outputs": []
    },
    {
      "cell_type": "code",
      "metadata": {
        "id": "whK9xlcvDh6T",
        "colab_type": "code",
        "outputId": "57adba83-f3ea-4251-9e9e-4800ef2659ec",
        "colab": {
          "base_uri": "https://localhost:8080/",
          "height": 34
        }
      },
      "source": [
        "untrained = model.evaluate(x = x_test,\n",
        "                           y = y_test)"
      ],
      "execution_count": 0,
      "outputs": [
        {
          "output_type": "stream",
          "text": [
            "414000/414000 [==============================] - 30s 73us/sample - loss: 5.8444 - acc: 0.0030 - top_k_categorical_accuracy: 0.0154\n"
          ],
          "name": "stdout"
        }
      ]
    },
    {
      "cell_type": "code",
      "metadata": {
        "id": "CMWplroaCJ_n",
        "colab_type": "code",
        "outputId": "85dad23c-7fc7-434c-ebcf-bf15d0aeaa4d",
        "colab": {
          "base_uri": "https://localhost:8080/",
          "height": 1000
        }
      },
      "source": [
        "import matplotlib.pyplot as plt\n",
        "%matplotlib inline\n",
        "\n",
        "history = model.fit(x_train, y_train,\n",
        "          epochs=30,\n",
        "          batch_size=1280,\n",
        "          validation_split = .2,\n",
        "          verbose = 1)\n",
        "\n",
        "# Plot training & validation accuracy values\n",
        "plt.plot(history.history['acc'])\n",
        "plt.plot(history.history['top_k_categorical_accuracy'])\n",
        "plt.plot(history.history['val_acc'])\n",
        "plt.plot(history.history['val_top_k_categorical_accuracy'])\n",
        "plt.title('Model accuracy')\n",
        "plt.ylabel('Accuracies')\n",
        "plt.xlabel('Epoch')\n",
        "plt.legend(['Train', 'Test'], loc='upper left')\n",
        "plt.show()\n",
        "\n",
        "# Plot training & validation loss values\n",
        "plt.plot(history.history['loss'])\n",
        "plt.plot(history.history['val_loss'])\n",
        "plt.title('Model loss')\n",
        "plt.ylabel('Losses')\n",
        "plt.xlabel('Epoch')\n",
        "plt.legend(['Train', 'Test'], loc='upper left')\n",
        "plt.show()\n"
      ],
      "execution_count": 0,
      "outputs": [
        {
          "output_type": "stream",
          "text": [
            "Train on 1324800 samples, validate on 331200 samples\n",
            "Epoch 1/30\n",
            "1324800/1324800 [==============================] - 28s 21us/sample - loss: 2.7965 - acc: 0.3844 - top_k_categorical_accuracy: 0.6475 - val_loss: 2.1224 - val_acc: 0.5084 - val_top_k_categorical_accuracy: 0.7732\n",
            "Epoch 2/30\n",
            "1324800/1324800 [==============================] - 28s 21us/sample - loss: 1.9428 - acc: 0.5422 - top_k_categorical_accuracy: 0.8004 - val_loss: 1.8440 - val_acc: 0.5650 - val_top_k_categorical_accuracy: 0.8150\n",
            "Epoch 3/30\n",
            "1324800/1324800 [==============================] - 28s 21us/sample - loss: 1.7319 - acc: 0.5862 - top_k_categorical_accuracy: 0.8307 - val_loss: 1.7125 - val_acc: 0.5914 - val_top_k_categorical_accuracy: 0.8336\n",
            "Epoch 4/30\n",
            "1324800/1324800 [==============================] - 28s 21us/sample - loss: 1.6173 - acc: 0.6099 - top_k_categorical_accuracy: 0.8464 - val_loss: 1.6450 - val_acc: 0.6056 - val_top_k_categorical_accuracy: 0.8423\n",
            "Epoch 5/30\n",
            "1324800/1324800 [==============================] - 28s 21us/sample - loss: 1.5376 - acc: 0.6262 - top_k_categorical_accuracy: 0.8571 - val_loss: 1.5822 - val_acc: 0.6206 - val_top_k_categorical_accuracy: 0.8511\n",
            "Epoch 6/30\n",
            "1324800/1324800 [==============================] - 28s 21us/sample - loss: 1.4794 - acc: 0.6388 - top_k_categorical_accuracy: 0.8645 - val_loss: 1.5560 - val_acc: 0.6252 - val_top_k_categorical_accuracy: 0.8547\n",
            "Epoch 7/30\n",
            "1324800/1324800 [==============================] - 28s 21us/sample - loss: 1.4337 - acc: 0.6483 - top_k_categorical_accuracy: 0.8703 - val_loss: 1.5231 - val_acc: 0.6328 - val_top_k_categorical_accuracy: 0.8592\n",
            "Epoch 8/30\n",
            "1324800/1324800 [==============================] - 28s 21us/sample - loss: 1.3947 - acc: 0.6562 - top_k_categorical_accuracy: 0.8750 - val_loss: 1.4982 - val_acc: 0.6384 - val_top_k_categorical_accuracy: 0.8626\n",
            "Epoch 9/30\n",
            "1324800/1324800 [==============================] - 28s 21us/sample - loss: 1.3624 - acc: 0.6633 - top_k_categorical_accuracy: 0.8791 - val_loss: 1.4830 - val_acc: 0.6423 - val_top_k_categorical_accuracy: 0.8644\n",
            "Epoch 10/30\n",
            "1324800/1324800 [==============================] - 28s 21us/sample - loss: 1.3357 - acc: 0.6684 - top_k_categorical_accuracy: 0.8824 - val_loss: 1.4764 - val_acc: 0.6439 - val_top_k_categorical_accuracy: 0.8659\n",
            "Epoch 11/30\n",
            "1324800/1324800 [==============================] - 28s 21us/sample - loss: 1.3114 - acc: 0.6736 - top_k_categorical_accuracy: 0.8854 - val_loss: 1.4670 - val_acc: 0.6453 - val_top_k_categorical_accuracy: 0.8662\n",
            "Epoch 12/30\n",
            "1324800/1324800 [==============================] - 28s 21us/sample - loss: 1.2903 - acc: 0.6778 - top_k_categorical_accuracy: 0.8879 - val_loss: 1.4613 - val_acc: 0.6474 - val_top_k_categorical_accuracy: 0.8679\n",
            "Epoch 13/30\n",
            "1324800/1324800 [==============================] - 29s 22us/sample - loss: 1.2705 - acc: 0.6823 - top_k_categorical_accuracy: 0.8904 - val_loss: 1.4653 - val_acc: 0.6476 - val_top_k_categorical_accuracy: 0.8672\n",
            "Epoch 14/30\n",
            "1324800/1324800 [==============================] - 29s 22us/sample - loss: 1.2537 - acc: 0.6855 - top_k_categorical_accuracy: 0.8923 - val_loss: 1.4514 - val_acc: 0.6509 - val_top_k_categorical_accuracy: 0.8694\n",
            "Epoch 15/30\n",
            "1324800/1324800 [==============================] - 29s 22us/sample - loss: 1.2382 - acc: 0.6888 - top_k_categorical_accuracy: 0.8939 - val_loss: 1.4484 - val_acc: 0.6513 - val_top_k_categorical_accuracy: 0.8699\n",
            "Epoch 16/30\n",
            "1324800/1324800 [==============================] - 29s 22us/sample - loss: 1.2243 - acc: 0.6915 - top_k_categorical_accuracy: 0.8956 - val_loss: 1.4540 - val_acc: 0.6507 - val_top_k_categorical_accuracy: 0.8689\n",
            "Epoch 17/30\n",
            "1324800/1324800 [==============================] - 29s 22us/sample - loss: 1.2107 - acc: 0.6943 - top_k_categorical_accuracy: 0.8972 - val_loss: 1.4572 - val_acc: 0.6517 - val_top_k_categorical_accuracy: 0.8687\n",
            "Epoch 18/30\n",
            "1324800/1324800 [==============================] - 29s 22us/sample - loss: 1.1993 - acc: 0.6964 - top_k_categorical_accuracy: 0.8986 - val_loss: 1.4493 - val_acc: 0.6528 - val_top_k_categorical_accuracy: 0.8703\n",
            "Epoch 19/30\n",
            "1324800/1324800 [==============================] - 29s 22us/sample - loss: 1.1880 - acc: 0.6987 - top_k_categorical_accuracy: 0.8998 - val_loss: 1.4661 - val_acc: 0.6504 - val_top_k_categorical_accuracy: 0.8684\n",
            "Epoch 20/30\n",
            "1324800/1324800 [==============================] - 29s 22us/sample - loss: 1.1769 - acc: 0.7016 - top_k_categorical_accuracy: 0.9008 - val_loss: 1.4657 - val_acc: 0.6508 - val_top_k_categorical_accuracy: 0.8686\n",
            "Epoch 21/30\n",
            "1324800/1324800 [==============================] - 29s 22us/sample - loss: 1.1675 - acc: 0.7031 - top_k_categorical_accuracy: 0.9021 - val_loss: 1.4620 - val_acc: 0.6524 - val_top_k_categorical_accuracy: 0.8688\n",
            "Epoch 22/30\n",
            "1324800/1324800 [==============================] - 29s 22us/sample - loss: 1.1590 - acc: 0.7048 - top_k_categorical_accuracy: 0.9031 - val_loss: 1.4599 - val_acc: 0.6530 - val_top_k_categorical_accuracy: 0.8696\n",
            "Epoch 23/30\n",
            "1324800/1324800 [==============================] - 29s 22us/sample - loss: 1.1492 - acc: 0.7067 - top_k_categorical_accuracy: 0.9041 - val_loss: 1.4654 - val_acc: 0.6534 - val_top_k_categorical_accuracy: 0.8696\n",
            "Epoch 24/30\n",
            "1324800/1324800 [==============================] - 29s 22us/sample - loss: 1.1417 - acc: 0.7086 - top_k_categorical_accuracy: 0.9050 - val_loss: 1.4713 - val_acc: 0.6520 - val_top_k_categorical_accuracy: 0.8690\n",
            "Epoch 25/30\n",
            "1324800/1324800 [==============================] - 29s 22us/sample - loss: 1.1336 - acc: 0.7101 - top_k_categorical_accuracy: 0.9060 - val_loss: 1.4743 - val_acc: 0.6524 - val_top_k_categorical_accuracy: 0.8690\n",
            "Epoch 26/30\n",
            "1324800/1324800 [==============================] - 29s 22us/sample - loss: 1.1269 - acc: 0.7115 - top_k_categorical_accuracy: 0.9067 - val_loss: 1.4765 - val_acc: 0.6511 - val_top_k_categorical_accuracy: 0.8687\n",
            "Epoch 27/30\n",
            "1324800/1324800 [==============================] - 29s 22us/sample - loss: 1.1198 - acc: 0.7128 - top_k_categorical_accuracy: 0.9075 - val_loss: 1.4816 - val_acc: 0.6517 - val_top_k_categorical_accuracy: 0.8681\n",
            "Epoch 28/30\n",
            "1324800/1324800 [==============================] - 29s 22us/sample - loss: 1.1139 - acc: 0.7138 - top_k_categorical_accuracy: 0.9083 - val_loss: 1.4762 - val_acc: 0.6528 - val_top_k_categorical_accuracy: 0.8688\n",
            "Epoch 29/30\n",
            "1324800/1324800 [==============================] - 29s 22us/sample - loss: 1.1070 - acc: 0.7157 - top_k_categorical_accuracy: 0.9089 - val_loss: 1.4838 - val_acc: 0.6522 - val_top_k_categorical_accuracy: 0.8679\n",
            "Epoch 30/30\n",
            "1324800/1324800 [==============================] - 29s 22us/sample - loss: 1.1009 - acc: 0.7170 - top_k_categorical_accuracy: 0.9096 - val_loss: 1.4891 - val_acc: 0.6501 - val_top_k_categorical_accuracy: 0.8675\n"
          ],
          "name": "stdout"
        },
        {
          "output_type": "display_data",
          "data": {
            "image/png": "[encoded data removed]",
            "text/plain": [
              "<Figure size 432x288 with 1 Axes>"
            ]
          },
          "metadata": {
            "tags": []
          }
        },
        {
          "output_type": "display_data",
          "data": {
            "image/png": "[encoded data removed]",
            "text/plain": [
              "<Figure size 432x288 with 1 Axes>"
            ]
          },
          "metadata": {
            "tags": []
          }
        }
      ]
    },
    {
      "cell_type": "code",
      "metadata": {
        "id": "17OWVho-G9r9",
        "colab_type": "code",
        "outputId": "45779b36-73a8-40b5-8ad3-e227c92a9fd0",
        "colab": {
          "base_uri": "https://localhost:8080/",
          "height": 899
        }
      },
      "source": [
        "fig = plt.figure(figsize=(7,7))\n",
        "\n",
        "plt.plot(history.history['acc'], '^')\n",
        "plt.plot(history.history['top_k_categorical_accuracy'], '^')\n",
        "plt.plot(history.history['val_acc'], 'o')\n",
        "plt.plot(history.history['val_top_k_categorical_accuracy'], 'o')\n",
        "plt.title('Model accuracy')\n",
        "plt.ylabel('Accuracy')\n",
        "plt.xlabel('Epoch')\n",
        "plt.legend(['Train Acc', 'Train Acc K', 'Val Acc', 'Val Acc K'], loc='best')\n",
        "plt.grid(True)\n",
        "plt.show()\n",
        "\n",
        "fig = plt.figure(figsize=(7,7))\n",
        "# Plot training & validation loss values\n",
        "plt.plot(history.history['loss'])\n",
        "plt.plot(history.history['val_loss'])\n",
        "plt.title('Model loss')\n",
        "plt.ylabel('Loss')\n",
        "plt.xlabel('Epoch')\n",
        "plt.legend(['Train', 'Test'], loc='best')\n",
        "plt.grid(True)\n",
        "plt.show()"
      ],
      "execution_count": 0,
      "outputs": [
        {
          "output_type": "display_data",
          "data": {
            "image/png": "[encoded data removed]",
            "text/plain": [
              "<Figure size 504x504 with 1 Axes>"
            ]
          },
          "metadata": {
            "tags": []
          }
        },
        {
          "output_type": "display_data",
          "data": {
            "image/png": "[encoded data removed]",
            "text/plain": [
              "<Figure size 504x504 with 1 Axes>"
            ]
          },
          "metadata": {
            "tags": []
          }
        }
      ]
    },
    {
      "cell_type": "code",
      "metadata": {
        "id": "dO8CJuvUbf8g",
        "colab_type": "code",
        "colab": {}
      },
      "source": [
        "path_trained_best_model = 'trained_best_model.keras'"
      ],
      "execution_count": 0,
      "outputs": []
    },
    {
      "cell_type": "code",
      "metadata": {
        "id": "HZoOLxWJy-wW",
        "colab_type": "code",
        "outputId": "75826fa4-9ede-47d9-911f-0b77726fc037",
        "colab": {
          "base_uri": "https://localhost:8080/",
          "height": 34
        }
      },
      "source": [
        "trained = model.evaluate(x = x_test,\n",
        "                         y = y_test)"
      ],
      "execution_count": 0,
      "outputs": [
        {
          "output_type": "stream",
          "text": [
            "414000/414000 [==============================] - 29s 69us/sample - loss: 1.6024 - acc: 0.6186 - top_k_categorical_accuracy: 0.8479\n"
          ],
          "name": "stdout"
        }
      ]
    },
    {
      "cell_type": "code",
      "metadata": {
        "id": "jx9gHPB4Yu_T",
        "colab_type": "code",
        "colab": {}
      },
      "source": [
        "model.save(path_trained_best_model)"
      ],
      "execution_count": 0,
      "outputs": []
    },
    {
      "cell_type": "code",
      "metadata": {
        "id": "KY66M0kEbrNO",
        "colab_type": "code",
        "colab": {}
      },
      "source": [
        "with open('class_names.txt', 'w') as file_handler:\n",
        "  for item in class_names:\n",
        "    file_handler.write(\"{}\\n\".format(item))"
      ],
      "execution_count": 0,
      "outputs": []
    },
    {
      "cell_type": "code",
      "metadata": {
        "id": "Rg9MHleubzvK",
        "colab_type": "code",
        "outputId": "18720746-c581-451e-a459-e54fde35658b",
        "colab": {
          "base_uri": "https://localhost:8080/",
          "height": 1000
        }
      },
      "source": [
        "!pip install tensorflowjs"
      ],
      "execution_count": 0,
      "outputs": [
        {
          "output_type": "stream",
          "text": [
            "Collecting tensorflowjs\n",
            "\u001b[?25l  Downloading https://files.pythonhosted.org/packages/a7/73/f7ee6edced75b7dfe43916203f1b2e85dd14cba087a090e6372cbd82e462/tensorflowjs-1.4.0-py3-none-any.whl (56kB)\n",
            "\r\u001b[K     |█████▊                          | 10kB 32.0MB/s eta 0:00:01\r\u001b[K     |███████████▌                    | 20kB 1.6MB/s eta 0:00:01\r\u001b[K     |█████████████████▎              | 30kB 2.2MB/s eta 0:00:01\r\u001b[K     |███████████████████████         | 40kB 1.6MB/s eta 0:00:01\r\u001b[K     |████████████████████████████▉   | 51kB 1.9MB/s eta 0:00:01\r\u001b[K     |████████████████████████████████| 61kB 1.9MB/s \n",
            "\u001b[?25hRequirement already satisfied: tensorflow==1.15.0 in /usr/local/lib/python3.6/dist-packages (from tensorflowjs) (1.15.0)\n",
            "Collecting numpy==1.16.4\n",
            "\u001b[?25l  Downloading https://files.pythonhosted.org/packages/87/2d/e4656149cbadd3a8a0369fcd1a9c7d61cc7b87b3903b85389c70c989a696/numpy-1.16.4-cp36-cp36m-manylinux1_x86_64.whl (17.3MB)\n",
            "\u001b[K     |████████████████████████████████| 17.3MB 203kB/s \n",
            "\u001b[?25hCollecting tensorflow-hub==0.5.0\n",
            "\u001b[?25l  Downloading https://files.pythonhosted.org/packages/b5/be/f18c352d84382d9c795a0f37eaf16d42ace7d161fbb0ad20bdcd5e550015/tensorflow_hub-0.5.0-py2.py3-none-any.whl (78kB)\n",
            "\u001b[K     |████████████████████████████████| 81kB 15.3MB/s \n",
            "\u001b[?25hCollecting PyInquirer==1.0.3\n",
            "  Downloading https://files.pythonhosted.org/packages/fb/4c/434b7c454010a284b49d6f1d446fe8dc5960415613d8c0225b9e2efb6724/PyInquirer-1.0.3.tar.gz\n",
            "Collecting six==1.11.0\n",
            "  Downloading https://files.pythonhosted.org/packages/67/4b/141a581104b1f6397bfa78ac9d43d8ad29a7ca43ea90a2d863fe3056e86a/six-1.11.0-py2.py3-none-any.whl\n",
            "Requirement already satisfied: gast==0.2.2 in /usr/local/lib/python3.6/dist-packages (from tensorflowjs) (0.2.2)\n",
            "Requirement already satisfied: h5py==2.8.0 in /usr/local/lib/python3.6/dist-packages (from tensorflowjs) (2.8.0)\n",
            "Requirement already satisfied: keras-applications>=1.0.8 in /usr/local/lib/python3.6/dist-packages (from tensorflow==1.15.0->tensorflowjs) (1.0.8)\n",
            "Requirement already satisfied: absl-py>=0.7.0 in /usr/local/lib/python3.6/dist-packages (from tensorflow==1.15.0->tensorflowjs) (0.9.0)\n",
            "Requirement already satisfied: tensorboard<1.16.0,>=1.15.0 in /usr/local/lib/python3.6/dist-packages (from tensorflow==1.15.0->tensorflowjs) (1.15.0)\n",
            "Requirement already satisfied: wheel>=0.26 in /usr/local/lib/python3.6/dist-packages (from tensorflow==1.15.0->tensorflowjs) (0.33.6)\n",
            "Requirement already satisfied: protobuf>=3.6.1 in /usr/local/lib/python3.6/dist-packages (from tensorflow==1.15.0->tensorflowjs) (3.10.0)\n",
            "Requirement already satisfied: wrapt>=1.11.1 in /usr/local/lib/python3.6/dist-packages (from tensorflow==1.15.0->tensorflowjs) (1.11.2)\n",
            "Requirement already satisfied: keras-preprocessing>=1.0.5 in /usr/local/lib/python3.6/dist-packages (from tensorflow==1.15.0->tensorflowjs) (1.1.0)\n",
            "Requirement already satisfied: tensorflow-estimator==1.15.1 in /usr/local/lib/python3.6/dist-packages (from tensorflow==1.15.0->tensorflowjs) (1.15.1)\n",
            "Requirement already satisfied: grpcio>=1.8.6 in /usr/local/lib/python3.6/dist-packages (from tensorflow==1.15.0->tensorflowjs) (1.15.0)\n",
            "Requirement already satisfied: google-pasta>=0.1.6 in /usr/local/lib/python3.6/dist-packages (from tensorflow==1.15.0->tensorflowjs) (0.1.8)\n",
            "Requirement already satisfied: opt-einsum>=2.3.2 in /usr/local/lib/python3.6/dist-packages (from tensorflow==1.15.0->tensorflowjs) (3.1.0)\n",
            "Requirement already satisfied: termcolor>=1.1.0 in /usr/local/lib/python3.6/dist-packages (from tensorflow==1.15.0->tensorflowjs) (1.1.0)\n",
            "Requirement already satisfied: astor>=0.6.0 in /usr/local/lib/python3.6/dist-packages (from tensorflow==1.15.0->tensorflowjs) (0.8.1)\n",
            "Collecting prompt_toolkit==1.0.14\n",
            "\u001b[?25l  Downloading https://files.pythonhosted.org/packages/ee/3d/b25d35a9f0d381dd1c02d8e04b37c353caaaff4bc32150328eeebe4931f5/prompt_toolkit-1.0.14-py3-none-any.whl (248kB)\n",
            "\u001b[K     |████████████████████████████████| 256kB 54.1MB/s \n",
            "\u001b[?25hCollecting Pygments>=2.2.0\n",
            "\u001b[?25l  Downloading https://files.pythonhosted.org/packages/be/39/32da3184734730c0e4d3fa3b2b5872104668ad6dc1b5a73d8e477e5fe967/Pygments-2.5.2-py2.py3-none-any.whl (896kB)\n",
            "\u001b[K     |████████████████████████████████| 901kB 69.7MB/s \n",
            "\u001b[?25hRequirement already satisfied: regex>=2016.11.21 in /usr/local/lib/python3.6/dist-packages (from PyInquirer==1.0.3->tensorflowjs) (2019.12.20)\n",
            "Requirement already satisfied: markdown>=2.6.8 in /usr/local/lib/python3.6/dist-packages (from tensorboard<1.16.0,>=1.15.0->tensorflow==1.15.0->tensorflowjs) (3.1.1)\n",
            "Requirement already satisfied: werkzeug>=0.11.15 in /usr/local/lib/python3.6/dist-packages (from tensorboard<1.16.0,>=1.15.0->tensorflow==1.15.0->tensorflowjs) (0.16.0)\n",
            "Requirement already satisfied: setuptools>=41.0.0 in /usr/local/lib/python3.6/dist-packages (from tensorboard<1.16.0,>=1.15.0->tensorflow==1.15.0->tensorflowjs) (42.0.2)\n",
            "Requirement already satisfied: wcwidth in /usr/local/lib/python3.6/dist-packages (from prompt_toolkit==1.0.14->PyInquirer==1.0.3->tensorflowjs) (0.1.8)\n",
            "Building wheels for collected packages: PyInquirer\n",
            "  Building wheel for PyInquirer (setup.py) ... \u001b[?25l\u001b[?25hdone\n",
            "  Created wheel for PyInquirer: filename=PyInquirer-1.0.3-cp36-none-any.whl size=32853 sha256=02f1360280c14e9cbcf2ce9634f5ef0de98f636d33d44b21c36e589ec6b29cb1\n",
            "  Stored in directory: /root/.cache/pip/wheels/52/6c/b1/3e4b0e8daf42a92883c7641c0ea8ffb62e0490ebed2faa55ad\n",
            "Successfully built PyInquirer\n",
            "\u001b[31mERROR: google-colab 1.0.0 has requirement six~=1.12.0, but you'll have six 1.11.0 which is incompatible.\u001b[0m\n",
            "\u001b[31mERROR: datascience 0.10.6 has requirement folium==0.2.1, but you'll have folium 0.8.3 which is incompatible.\u001b[0m\n",
            "\u001b[31mERROR: albumentations 0.1.12 has requirement imgaug<0.2.7,>=0.2.5, but you'll have imgaug 0.2.9 which is incompatible.\u001b[0m\n",
            "Installing collected packages: numpy, six, tensorflow-hub, prompt-toolkit, Pygments, PyInquirer, tensorflowjs\n",
            "  Found existing installation: numpy 1.17.5\n",
            "    Uninstalling numpy-1.17.5:\n",
            "      Successfully uninstalled numpy-1.17.5\n",
            "  Found existing installation: six 1.12.0\n",
            "    Uninstalling six-1.12.0:\n",
            "      Successfully uninstalled six-1.12.0\n",
            "  Found existing installation: tensorflow-hub 0.7.0\n",
            "    Uninstalling tensorflow-hub-0.7.0:\n",
            "      Successfully uninstalled tensorflow-hub-0.7.0\n",
            "  Found existing installation: prompt-toolkit 1.0.18\n",
            "    Uninstalling prompt-toolkit-1.0.18:\n",
            "      Successfully uninstalled prompt-toolkit-1.0.18\n",
            "  Found existing installation: Pygments 2.1.3\n",
            "    Uninstalling Pygments-2.1.3:\n",
            "      Successfully uninstalled Pygments-2.1.3\n",
            "Successfully installed PyInquirer-1.0.3 Pygments-2.5.2 numpy-1.16.4 prompt-toolkit-1.0.14 six-1.11.0 tensorflow-hub-0.5.0 tensorflowjs-1.4.0\n"
          ],
          "name": "stdout"
        },
        {
          "output_type": "display_data",
          "data": {
            "application/vnd.colab-display-data+json": {
              "pip_warning": {
                "packages": [
                  "numpy",
                  "prompt_toolkit",
                  "pygments",
                  "six"
                ]
              }
            }
          },
          "metadata": {
            "tags": []
          }
        }
      ]
    },
    {
      "cell_type": "code",
      "metadata": {
        "id": "09mNdRMLbzy2",
        "colab_type": "code",
        "colab": {}
      },
      "source": [
        "model.save('keras.h5')"
      ],
      "execution_count": 0,
      "outputs": []
    },
    {
      "cell_type": "code",
      "metadata": {
        "id": "vgexz7U_bz7y",
        "colab_type": "code",
        "outputId": "d1063405-69df-4a1c-96ea-d7be0a4ac0e8",
        "colab": {
          "base_uri": "https://localhost:8080/",
          "height": 34
        }
      },
      "source": [
        "!mkdir model\n",
        "!tensorflowjs_converter --input_format keras keras.h5 model/"
      ],
      "execution_count": 0,
      "outputs": [
        {
          "output_type": "stream",
          "text": [
            "mkdir: cannot create directory ‘model’: File exists\n"
          ],
          "name": "stdout"
        }
      ]
    },
    {
      "cell_type": "code",
      "metadata": {
        "id": "IxhPlc4nbz5i",
        "colab_type": "code",
        "colab": {}
      },
      "source": [
        "!cp class_names.txt model/class_names.txt"
      ],
      "execution_count": 0,
      "outputs": []
    },
    {
      "cell_type": "code",
      "metadata": {
        "id": "aG7W5dmbbz3N",
        "colab_type": "code",
        "outputId": "afa9361e-5ad7-496d-bb8e-0ee63d9feacf",
        "colab": {
          "base_uri": "https://localhost:8080/",
          "height": 85
        }
      },
      "source": [
        "!zip -r model.zip model"
      ],
      "execution_count": 0,
      "outputs": [
        {
          "output_type": "stream",
          "text": [
            "updating: model/ (stored 0%)\n",
            "updating: model/group1-shard1of1.bin (deflated 7%)\n",
            "updating: model/class_names.txt (deflated 45%)\n",
            "updating: model/model.json (deflated 84%)\n"
          ],
          "name": "stdout"
        }
      ]
    },
    {
      "cell_type": "code",
      "metadata": {
        "id": "nbUwVsxfcOrv",
        "colab_type": "code",
        "colab": {}
      },
      "source": [
        "from google.colab import files\n",
        "files.download('model.zip')"
      ],
      "execution_count": 0,
      "outputs": []
    },
    {
      "cell_type": "code",
      "metadata": {
        "id": "rpibEpBtdK96",
        "colab_type": "code",
        "colab": {}
      },
      "source": [
        "model.save('./trained_model_optimized_quartersize_dataset_weights.h5', overwrite = True)"
      ],
      "execution_count": 0,
      "outputs": []
    },
    {
      "cell_type": "code",
      "metadata": {
        "id": "G9tlZdAgc-Go",
        "colab_type": "code",
        "colab": {}
      },
      "source": [
        "cpu_model_untrained = load_model('/content/best_model_initial_optimize.keras')\n",
        "cpu_model_trained = load_model('/content/trained_best_model.keras')\n",
        "#cpu_model.load_weights('/trained_model_optimized_quartersize_dataset_weights.h5')\n",
        "\n",
        "from matplotlib import pyplot\n",
        "%matplotlib inline\n",
        "\n",
        "def plot_predictions(images, predictions):\n",
        "  n = images.shape[0]\n",
        "  nc = int(np.ceil(n/4))\n",
        "  f, axes = pyplot.subplots(nc, 4)\n",
        "  for i in range(nc * 4):\n",
        "    y = i // 4\n",
        "    x = i % 4\n",
        "    axes[x, y].axis('off')\n",
        "\n",
        "    label = class_names[np.argmax(predictions[i])]\n",
        "    confidence = np.max(predictions[i])\n",
        "    \n",
        "    if i > n:\n",
        "      continue\n",
        "    axes[x, y].imshow(images[i])\n",
        "    axes[x, y].text(.5, .5, label + '\\n%.3f' % confidence, fontsize = 14)\n",
        "\n",
        "  pyplot.gcf().set_size_inches(10,10)\n",
        "\n"
      ],
      "execution_count": 0,
      "outputs": []
    },
    {
      "cell_type": "code",
      "metadata": {
        "id": "-WNEV4sjdb6f",
        "colab_type": "code",
        "outputId": "dba62859-865b-4826-bd2a-e6437af005ae",
        "colab": {
          "base_uri": "https://localhost:8080/",
          "height": 597
        }
      },
      "source": [
        "plot_predictions(np.squeeze(x_val[32:48]),\n",
        "                 cpu_model_trained.predict(x_val[32:48]))"
      ],
      "execution_count": 0,
      "outputs": [
        {
          "output_type": "display_data",
          "data": {
            "image/png": "[encoded data removed]",
            "text/plain": [
              "<Figure size 720x720 with 16 Axes>"
            ]
          },
          "metadata": {
            "tags": []
          }
        }
      ]
    },
    {
      "cell_type": "code",
      "metadata": {
        "id": "8qhB5uzDeNpF",
        "colab_type": "code",
        "outputId": "a44a9fa8-2218-45fa-fa89-ce22bb37989f",
        "colab": {
          "base_uri": "https://localhost:8080/",
          "height": 597
        }
      },
      "source": [
        "plot_predictions(np.squeeze(x_val[32:48]),\n",
        "                 cpu_model_untrained.predict(x_val[32:48]))"
      ],
      "execution_count": 0,
      "outputs": [
        {
          "output_type": "display_data",
          "data": {
            "image/png": "[encoded data removed]",
            "text/plain": [
              "<Figure size 720x720 with 16 Axes>"
            ]
          },
          "metadata": {
            "tags": []
          }
        }
      ]
    },
    {
      "cell_type": "code",
      "metadata": {
        "id": "D5D_ZHOeePB0",
        "colab_type": "code",
        "colab": {}
      },
      "source": [
        "with open('class_names.txt', 'w') as file_handler:\n",
        "  for item in class_names:\n",
        "    file_handler.write(\"{}\\n\".format(item))"
      ],
      "execution_count": 0,
      "outputs": []
    },
    {
      "cell_type": "code",
      "metadata": {
        "id": "FZaVpI-tPtgL",
        "colab_type": "code",
        "colab": {}
      },
      "source": [
        "!pip install tensorflowjs"
      ],
      "execution_count": 0,
      "outputs": []
    },
    {
      "cell_type": "code",
      "metadata": {
        "id": "qbYdGS85P9qM",
        "colab_type": "code",
        "outputId": "13d59922-8255-4964-b5b0-5752bf8afc01",
        "colab": {
          "base_uri": "https://localhost:8080/",
          "height": 163
        }
      },
      "source": [
        "model_trained_3_epochs = load_model('/content/drive/My Drive/Springboard era ML AI/Quick Draw Doodle Project/Model Examples/best_model_initial_optimize.keras')"
      ],
      "execution_count": 0,
      "outputs": [
        {
          "output_type": "error",
          "ename": "NameError",
          "evalue": "ignored",
          "traceback": [
            "\u001b[0;31m---------------------------------------------------------------------------\u001b[0m",
            "\u001b[0;31mNameError\u001b[0m                                 Traceback (most recent call last)",
            "\u001b[0;32m<ipython-input-2-1cbb70079464>\u001b[0m in \u001b[0;36m<module>\u001b[0;34m()\u001b[0m\n\u001b[0;32m----> 1\u001b[0;31m \u001b[0mmodel_trained_3_epochs\u001b[0m \u001b[0;34m=\u001b[0m \u001b[0mload_model\u001b[0m\u001b[0;34m(\u001b[0m\u001b[0;34m'/content/drive/My Drive/Springboard era ML AI/Quick Draw Doodle Project/Model Examples/best_model_initial_optimize.keras'\u001b[0m\u001b[0;34m)\u001b[0m\u001b[0;34m\u001b[0m\u001b[0;34m\u001b[0m\u001b[0m\n\u001b[0m",
            "\u001b[0;31mNameError\u001b[0m: name 'load_model' is not defined"
          ]
        }
      ]
    },
    {
      "cell_type": "code",
      "metadata": {
        "id": "VhPH6r1NRi1x",
        "colab_type": "code",
        "colab": {}
      },
      "source": [
        "model_trained_23_epochs = load_model('/content/drive/My Drive/Springboard era ML AI/Quick Draw Doodle Project/Model Examples/trained_best_model.keras')"
      ],
      "execution_count": 0,
      "outputs": []
    },
    {
      "cell_type": "code",
      "metadata": {
        "id": "mIiPQuJ-Sig9",
        "colab_type": "code",
        "colab": {}
      },
      "source": [
        "!mkdir model3\n",
        "!mkdir model23"
      ],
      "execution_count": 0,
      "outputs": []
    },
    {
      "cell_type": "code",
      "metadata": {
        "id": "FhM9950JRnva",
        "colab_type": "code",
        "colab": {}
      },
      "source": [
        "model_trained_3_epochs.save('3_keras.h5')"
      ],
      "execution_count": 0,
      "outputs": []
    },
    {
      "cell_type": "code",
      "metadata": {
        "id": "tZ8DPO2WR_wQ",
        "colab_type": "code",
        "colab": {}
      },
      "source": [
        "model_trained_23_epochs.save('23_keras.h5')"
      ],
      "execution_count": 0,
      "outputs": []
    },
    {
      "cell_type": "code",
      "metadata": {
        "id": "7aVENNruSLq0",
        "colab_type": "code",
        "colab": {}
      },
      "source": [
        "!tensorflowjs_converter --input_format keras 3_keras.h5 model3/"
      ],
      "execution_count": 0,
      "outputs": []
    },
    {
      "cell_type": "code",
      "metadata": {
        "id": "JdHT7u0kSSqe",
        "colab_type": "code",
        "colab": {}
      },
      "source": [
        "!tensorflowjs_converter --input_format keras 23_keras.h5 model23/"
      ],
      "execution_count": 0,
      "outputs": []
    },
    {
      "cell_type": "code",
      "metadata": {
        "id": "eofz6woiTX6v",
        "colab_type": "code",
        "colab": {}
      },
      "source": [
        "!cp class_names.txt model3/class_names.txt\n",
        "!cp class_names.txt model23/class_names.txt"
      ],
      "execution_count": 0,
      "outputs": []
    },
    {
      "cell_type": "code",
      "metadata": {
        "id": "bxHUGWg3Tcha",
        "colab_type": "code",
        "outputId": "b8f396dd-6b7d-4436-afef-09eb543b2796",
        "colab": {
          "base_uri": "https://localhost:8080/",
          "height": 187
        }
      },
      "source": [
        "\n",
        "!zip -r model23.zip model23"
      ],
      "execution_count": 0,
      "outputs": [
        {
          "output_type": "stream",
          "text": [
            "  adding: model3/ (stored 0%)\n",
            "  adding: model3/group1-shard1of1.bin (deflated 8%)\n",
            "  adding: model3/23_keras.h5 (deflated 9%)\n",
            "  adding: model3/3_keras.h5 (deflated 9%)\n",
            "  adding: model3/class_names.txt (deflated 45%)\n",
            "  adding: model3/model.json (deflated 84%)\n",
            "  adding: model23/ (stored 0%)\n",
            "  adding: model23/group1-shard1of1.bin (deflated 7%)\n",
            "  adding: model23/class_names.txt (deflated 45%)\n",
            "  adding: model23/model.json (deflated 85%)\n"
          ],
          "name": "stdout"
        }
      ]
    },
    {
      "cell_type": "code",
      "metadata": {
        "id": "k8HO9NQuTh-k",
        "colab_type": "code",
        "colab": {}
      },
      "source": [
        "from google.colab import files\n",
        "files.download('model3.zip')"
      ],
      "execution_count": 0,
      "outputs": []
    },
    {
      "cell_type": "code",
      "metadata": {
        "id": "7dPE0G3lTmXo",
        "colab_type": "code",
        "colab": {}
      },
      "source": [
        "from google.colab import files\n",
        "files.download('model23.zip')"
      ],
      "execution_count": 0,
      "outputs": []
    }
  ]
}